{
 "cells": [
  {
   "cell_type": "code",
   "execution_count": 5,
   "metadata": {},
   "outputs": [],
   "source": [
    "import numpy as np\n",
    "df = np.linspace(10,15,100)"
   ]
  },
  {
   "cell_type": "code",
   "execution_count": 12,
   "metadata": {},
   "outputs": [],
   "source": [
    "df = np.r_[df,100,103,109]"
   ]
  },
  {
   "cell_type": "code",
   "execution_count": 13,
   "metadata": {},
   "outputs": [
    {
     "data": {
      "text/plain": [
       "103"
      ]
     },
     "execution_count": 13,
     "metadata": {},
     "output_type": "execute_result"
    }
   ],
   "source": [
    "len(df)"
   ]
  },
  {
   "cell_type": "code",
   "execution_count": 14,
   "metadata": {},
   "outputs": [
    {
     "data": {
      "text/plain": [
       "array([ 10.        ,  10.05050505,  10.1010101 ,  10.15151515,\n",
       "        10.2020202 ,  10.25252525,  10.3030303 ,  10.35353535,\n",
       "        10.4040404 ,  10.45454545,  10.50505051,  10.55555556,\n",
       "        10.60606061,  10.65656566,  10.70707071,  10.75757576,\n",
       "        10.80808081,  10.85858586,  10.90909091,  10.95959596,\n",
       "        11.01010101,  11.06060606,  11.11111111,  11.16161616,\n",
       "        11.21212121,  11.26262626,  11.31313131,  11.36363636,\n",
       "        11.41414141,  11.46464646,  11.51515152,  11.56565657,\n",
       "        11.61616162,  11.66666667,  11.71717172,  11.76767677,\n",
       "        11.81818182,  11.86868687,  11.91919192,  11.96969697,\n",
       "        12.02020202,  12.07070707,  12.12121212,  12.17171717,\n",
       "        12.22222222,  12.27272727,  12.32323232,  12.37373737,\n",
       "        12.42424242,  12.47474747,  12.52525253,  12.57575758,\n",
       "        12.62626263,  12.67676768,  12.72727273,  12.77777778,\n",
       "        12.82828283,  12.87878788,  12.92929293,  12.97979798,\n",
       "        13.03030303,  13.08080808,  13.13131313,  13.18181818,\n",
       "        13.23232323,  13.28282828,  13.33333333,  13.38383838,\n",
       "        13.43434343,  13.48484848,  13.53535354,  13.58585859,\n",
       "        13.63636364,  13.68686869,  13.73737374,  13.78787879,\n",
       "        13.83838384,  13.88888889,  13.93939394,  13.98989899,\n",
       "        14.04040404,  14.09090909,  14.14141414,  14.19191919,\n",
       "        14.24242424,  14.29292929,  14.34343434,  14.39393939,\n",
       "        14.44444444,  14.49494949,  14.54545455,  14.5959596 ,\n",
       "        14.64646465,  14.6969697 ,  14.74747475,  14.7979798 ,\n",
       "        14.84848485,  14.8989899 ,  14.94949495,  15.        ,\n",
       "       100.        , 103.        , 109.        ])"
      ]
     },
     "execution_count": 14,
     "metadata": {},
     "output_type": "execute_result"
    }
   ],
   "source": [
    "df"
   ]
  },
  {
   "cell_type": "code",
   "execution_count": 15,
   "metadata": {},
   "outputs": [],
   "source": [
    "#zscore to find and apply 3rd level standard deviation\n",
    "\n",
    "zmean,zstd = np.mean(df),np.std(df)"
   ]
  },
  {
   "cell_type": "code",
   "execution_count": 17,
   "metadata": {},
   "outputs": [
    {
     "data": {
      "text/plain": [
       "(15.165048543689318, 15.46676244114047)"
      ]
     },
     "execution_count": 17,
     "metadata": {},
     "output_type": "execute_result"
    }
   ],
   "source": [
    "zmean,zstd"
   ]
  },
  {
   "cell_type": "code",
   "execution_count": 31,
   "metadata": {},
   "outputs": [],
   "source": [
    "\n",
    "def outliers(x):\n",
    "    outliers = []\n",
    "    for i in x:\n",
    "        if abs(i-zmean)/zstd > 3:#threshold\n",
    "            outliers.append(i)\n",
    "    return outliers\n",
    "        "
   ]
  },
  {
   "cell_type": "code",
   "execution_count": 32,
   "metadata": {},
   "outputs": [
    {
     "data": {
      "text/plain": [
       "[100.0, 103.0, 109.0]"
      ]
     },
     "execution_count": 32,
     "metadata": {},
     "output_type": "execute_result"
    }
   ],
   "source": [
    "outliers(df)"
   ]
  },
  {
   "cell_type": "code",
   "execution_count": 33,
   "metadata": {},
   "outputs": [],
   "source": [
    "#inter quartile range approach"
   ]
  },
  {
   "cell_type": "code",
   "execution_count": 34,
   "metadata": {},
   "outputs": [],
   "source": [
    "q1,q3 = np.percentile(df,[25,75])"
   ]
  },
  {
   "cell_type": "code",
   "execution_count": 35,
   "metadata": {},
   "outputs": [],
   "source": [
    "qrange = q3-q1\n",
    "lowband = q1- (qrange*1.5)\n",
    "upband = q3 + (qrange*1.5)"
   ]
  },
  {
   "cell_type": "code",
   "execution_count": 38,
   "metadata": {},
   "outputs": [
    {
     "data": {
      "text/plain": [
       "17.727272727272727"
      ]
     },
     "execution_count": 38,
     "metadata": {},
     "output_type": "execute_result"
    }
   ],
   "source": [
    "upband"
   ]
  },
  {
   "cell_type": "code",
   "execution_count": 40,
   "metadata": {},
   "outputs": [],
   "source": [
    "def Outlier_interq(x):\n",
    "    out = []\n",
    "    for i in x:\n",
    "        if i < lowband or i > upband:\n",
    "            out.append(i)\n",
    "    return out\n",
    "            "
   ]
  },
  {
   "cell_type": "code",
   "execution_count": 41,
   "metadata": {},
   "outputs": [
    {
     "data": {
      "text/plain": [
       "[100.0, 103.0, 109.0]"
      ]
     },
     "execution_count": 41,
     "metadata": {},
     "output_type": "execute_result"
    }
   ],
   "source": [
    "Outlier_interq(df)"
   ]
  },
  {
   "cell_type": "code",
   "execution_count": null,
   "metadata": {},
   "outputs": [],
   "source": []
  }
 ],
 "metadata": {
  "kernelspec": {
   "display_name": "Python 3",
   "language": "python",
   "name": "python3"
  },
  "language_info": {
   "codemirror_mode": {
    "name": "ipython",
    "version": 3
   },
   "file_extension": ".py",
   "mimetype": "text/x-python",
   "name": "python",
   "nbconvert_exporter": "python",
   "pygments_lexer": "ipython3",
   "version": "3.7.4"
  }
 },
 "nbformat": 4,
 "nbformat_minor": 2
}
