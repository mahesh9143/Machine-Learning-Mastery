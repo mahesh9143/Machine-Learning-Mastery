{
 "cells": [
  {
   "cell_type": "code",
   "execution_count": 136,
   "metadata": {},
   "outputs": [],
   "source": [
    "#!pip install pymongo"
   ]
  },
  {
   "cell_type": "code",
   "execution_count": 142,
   "metadata": {},
   "outputs": [],
   "source": [
    "import pymongo"
   ]
  },
  {
   "cell_type": "code",
   "execution_count": 143,
   "metadata": {},
   "outputs": [],
   "source": [
    "#connection to mongo client to access the data bases from jupyter\n",
    "dbConnection = pymongo.MongoClient(\"mongodb://localhost:27017\")"
   ]
  },
  {
   "cell_type": "code",
   "execution_count": 144,
   "metadata": {},
   "outputs": [],
   "source": [
    "dbname = \"MaheshDemoDB\"\n",
    "db  = dbConnection[dbname]\n",
    "\n",
    "#it will connect to database if dbname exists or will create a new db"
   ]
  },
  {
   "cell_type": "code",
   "execution_count": 145,
   "metadata": {},
   "outputs": [
    {
     "name": "stdout",
     "output_type": "stream",
     "text": [
      "['MaheshDemoDB', 'admin', 'config', 'local']\n"
     ]
    }
   ],
   "source": [
    "print(dbConnection.list_database_names())"
   ]
  },
  {
   "cell_type": "code",
   "execution_count": 146,
   "metadata": {},
   "outputs": [
    {
     "ename": "NameError",
     "evalue": "name 'dblist' is not defined",
     "output_type": "error",
     "traceback": [
      "\u001b[1;31m---------------------------------------------------------------------------\u001b[0m",
      "\u001b[1;31mNameError\u001b[0m                                 Traceback (most recent call last)",
      "\u001b[1;32m<ipython-input-146-db14922b402a>\u001b[0m in \u001b[0;36m<module>\u001b[1;34m\u001b[0m\n\u001b[1;32m----> 1\u001b[1;33m \u001b[0mdblist\u001b[0m\u001b[1;33m.\u001b[0m\u001b[0mindex\u001b[0m\u001b[1;33m(\u001b[0m\u001b[0mdbname\u001b[0m\u001b[1;33m)\u001b[0m\u001b[1;33m\u001b[0m\u001b[1;33m\u001b[0m\u001b[0m\n\u001b[0m",
      "\u001b[1;31mNameError\u001b[0m: name 'dblist' is not defined"
     ]
    }
   ],
   "source": [
    "dblist.index(dbname)"
   ]
  },
  {
   "cell_type": "code",
   "execution_count": 147,
   "metadata": {},
   "outputs": [
    {
     "name": "stdout",
     "output_type": "stream",
     "text": [
      "Database already exists\n"
     ]
    }
   ],
   "source": [
    "dblist = dbConnection.list_database_names()\n",
    "db_name = \"MaheshDemoDB\"\n",
    "if dblist.index(db_name) == -1:\n",
    "    print(\"Databse doesn't exist\")\n",
    "else:\n",
    "    print(\"Database already exists\")"
   ]
  },
  {
   "cell_type": "code",
   "execution_count": 148,
   "metadata": {},
   "outputs": [
    {
     "data": {
      "text/plain": [
       "['Sample1']"
      ]
     },
     "execution_count": 148,
     "metadata": {},
     "output_type": "execute_result"
    }
   ],
   "source": [
    "db.list_collection_names()"
   ]
  },
  {
   "cell_type": "code",
   "execution_count": 149,
   "metadata": {},
   "outputs": [
    {
     "name": "stdout",
     "output_type": "stream",
     "text": [
      "collection already exists\n"
     ]
    }
   ],
   "source": [
    "tables = db.list_collection_names()\n",
    "\n",
    "collection = 'Sample1'\n",
    "table = db[collection]\n",
    "\n",
    "if collection not in tables:\n",
    "    print(\"collection table doesnot exists\")\n",
    "else:\n",
    "    print(\"collection already exists\")"
   ]
  },
  {
   "cell_type": "code",
   "execution_count": 150,
   "metadata": {},
   "outputs": [],
   "source": [
    "#45 minutes we stopped"
   ]
  },
  {
   "cell_type": "code",
   "execution_count": 151,
   "metadata": {},
   "outputs": [
    {
     "data": {
      "text/plain": [
       "['Sample1']"
      ]
     },
     "execution_count": 151,
     "metadata": {},
     "output_type": "execute_result"
    }
   ],
   "source": [
    "db.list_collection_names()"
   ]
  },
  {
   "cell_type": "code",
   "execution_count": 152,
   "metadata": {},
   "outputs": [],
   "source": [
    "collection = 'Sample1'\n",
    "table = db[collection]\n",
    "x = table.find()"
   ]
  },
  {
   "cell_type": "code",
   "execution_count": 153,
   "metadata": {},
   "outputs": [
    {
     "name": "stdout",
     "output_type": "stream",
     "text": [
      "{'_id': ObjectId('5e9ab56dcd498716e893e9da'), 'CustomerID': '0001', 'Genre': 'Male', 'Annual Income (k$)': '15', 'Spending Score (1-100)': '39', 'NewAge': '19'}\n",
      "{'_id': ObjectId('5e9ab56dcd498716e893e9de'), 'CustomerID': '0005', 'Genre': 'Female', 'Annual Income (k$)': '17', 'Spending Score (1-100)': '40', 'NewAge': '31'}\n",
      "{'_id': ObjectId('5e9ab56dcd498716e893e9e0'), 'CustomerID': '0007', 'Genre': 'Female', 'Annual Income (k$)': '18', 'Spending Score (1-100)': '6', 'NewAge': '35'}\n",
      "{'_id': ObjectId('5e9ab56dcd498716e893e9e2'), 'CustomerID': '0009', 'Genre': 'Male', 'Annual Income (k$)': '19', 'Spending Score (1-100)': '3', 'NewAge': '64'}\n",
      "{'_id': ObjectId('5e9ab56dcd498716e893e9e3'), 'CustomerID': '0010', 'Genre': 'Female', 'Annual Income (k$)': '19', 'Spending Score (1-100)': '72', 'NewAge': '30'}\n",
      "{'_id': ObjectId('5e9ab56dcd498716e893e9e4'), 'CustomerID': '0011', 'Genre': 'Male', 'Annual Income (k$)': '19', 'Spending Score (1-100)': '14', 'NewAge': '67'}\n",
      "{'_id': ObjectId('5e9ab56dcd498716e893e9e5'), 'CustomerID': '0012', 'Genre': 'Female', 'Annual Income (k$)': '19', 'Spending Score (1-100)': '99', 'NewAge': '35'}\n",
      "{'_id': ObjectId('5e9ab56dcd498716e893e9e6'), 'CustomerID': '0013', 'Genre': 'Female', 'Annual Income (k$)': '20', 'Spending Score (1-100)': '15', 'NewAge': '58'}\n",
      "{'_id': ObjectId('5e9ab56dcd498716e893e9e8'), 'CustomerID': '0015', 'Genre': 'Male', 'Annual Income (k$)': '20', 'Spending Score (1-100)': '13', 'NewAge': '37'}\n",
      "{'_id': ObjectId('5e9ab56dcd498716e893e9ea'), 'CustomerID': '0017', 'Genre': 'Female', 'Annual Income (k$)': '21', 'Spending Score (1-100)': '35', 'NewAge': '35'}\n",
      "{'_id': ObjectId('5e9ab56dcd498716e893e9ec'), 'CustomerID': '0019', 'Genre': 'Male', 'Annual Income (k$)': '23', 'Spending Score (1-100)': '29', 'NewAge': '52'}\n",
      "{'_id': ObjectId('5e9ab56dcd498716e893e9ed'), 'CustomerID': '0020', 'Genre': 'Female', 'Annual Income (k$)': '23', 'Spending Score (1-100)': '98', 'NewAge': '35'}\n",
      "{'_id': ObjectId('5e9ab56dcd498716e893e9ee'), 'CustomerID': '0021', 'Genre': 'Male', 'Annual Income (k$)': '24', 'Spending Score (1-100)': '35', 'NewAge': '35'}\n",
      "{'_id': ObjectId('5e9ab56dcd498716e893e9f0'), 'CustomerID': '0023', 'Genre': 'Female', 'Annual Income (k$)': '25', 'Spending Score (1-100)': '5', 'NewAge': '46'}\n",
      "{'_id': ObjectId('5e9ab56dcd498716e893e9f1'), 'CustomerID': '0024', 'Genre': 'Male', 'Annual Income (k$)': '25', 'Spending Score (1-100)': '73', 'NewAge': '31'}\n",
      "{'_id': ObjectId('5e9ab56dcd498716e893e9f2'), 'CustomerID': '0025', 'Genre': 'Female', 'Annual Income (k$)': '28', 'Spending Score (1-100)': '14', 'NewAge': '54'}\n",
      "{'_id': ObjectId('5e9ab56dcd498716e893e9f4'), 'CustomerID': '0027', 'Genre': 'Female', 'Annual Income (k$)': '28', 'Spending Score (1-100)': '32', 'NewAge': '45'}\n",
      "{'_id': ObjectId('5e9ab56dcd498716e893e9f5'), 'CustomerID': '0028', 'Genre': 'Male', 'Annual Income (k$)': '28', 'Spending Score (1-100)': '61', 'NewAge': '35'}\n",
      "{'_id': ObjectId('5e9ab56dcd498716e893e9f6'), 'CustomerID': '0029', 'Genre': 'Female', 'Annual Income (k$)': '29', 'Spending Score (1-100)': '31', 'NewAge': '40'}\n",
      "{'_id': ObjectId('5e9ab56dcd498716e893e9f8'), 'CustomerID': '0031', 'Genre': 'Male', 'Annual Income (k$)': '30', 'Spending Score (1-100)': '4', 'NewAge': '100'}\n",
      "{'_id': ObjectId('5e9ab56dcd498716e893e9fa'), 'CustomerID': '0033', 'Genre': 'Male', 'Annual Income (k$)': '33', 'Spending Score (1-100)': '4', 'NewAge': '100'}\n",
      "{'_id': ObjectId('5e9ab56dcd498716e893e9fb'), 'CustomerID': '0034', 'Genre': 'Male', 'Annual Income (k$)': '33', 'Spending Score (1-100)': '92', 'NewAge': '100'}\n",
      "{'_id': ObjectId('5e9ab56dcd498716e893e9fc'), 'CustomerID': '0035', 'Genre': 'Female', 'Annual Income (k$)': '33', 'Spending Score (1-100)': '14', 'NewAge': '100'}\n",
      "{'_id': ObjectId('5e9ab56dcd498716e893e9fe'), 'CustomerID': '0037', 'Genre': 'Female', 'Annual Income (k$)': '34', 'Spending Score (1-100)': '17', 'NewAge': '100'}\n",
      "{'_id': ObjectId('5e9ab56dcd498716e893e9ff'), 'CustomerID': '0038', 'Genre': 'Female', 'Annual Income (k$)': '34', 'Spending Score (1-100)': '73', 'NewAge': '100'}\n",
      "{'_id': ObjectId('5e9ab56dcd498716e893ea00'), 'CustomerID': '0039', 'Genre': 'Female', 'Annual Income (k$)': '37', 'Spending Score (1-100)': '26', 'NewAge': '100'}\n",
      "{'_id': ObjectId('5e9ab56dcd498716e893ea02'), 'CustomerID': '0041', 'Genre': 'Female', 'Annual Income (k$)': '38', 'Spending Score (1-100)': '35', 'NewAge': '65'}\n",
      "{'_id': ObjectId('5e9ab56dcd498716e893ea04'), 'CustomerID': '0043', 'Genre': 'Male', 'Annual Income (k$)': '39', 'Spending Score (1-100)': '36', 'NewAge': '48'}\n",
      "{'_id': ObjectId('5e9ab56dcd498716e893ea05'), 'CustomerID': '0044', 'Genre': 'Female', 'Annual Income (k$)': '39', 'Spending Score (1-100)': '61', 'NewAge': '31'}\n",
      "{'_id': ObjectId('5e9ab56dcd498716e893ea06'), 'CustomerID': '0045', 'Genre': 'Female', 'Annual Income (k$)': '39', 'Spending Score (1-100)': '28', 'NewAge': '49'}\n",
      "{'_id': ObjectId('5e9ab56dcd498716e893ea08'), 'CustomerID': '0047', 'Genre': 'Female', 'Annual Income (k$)': '40', 'Spending Score (1-100)': '55', 'NewAge': '50'}\n",
      "{'_id': ObjectId('5e9ab56dcd498716e893ea0b'), 'CustomerID': '0050', 'Genre': 'Female', 'Annual Income (k$)': '40', 'Spending Score (1-100)': '42', 'NewAge': '31'}\n",
      "{'_id': ObjectId('5e9ab56dcd498716e893ea0c'), 'CustomerID': '0051', 'Genre': 'Female', 'Annual Income (k$)': '42', 'Spending Score (1-100)': '52', 'NewAge': '49'}\n",
      "{'_id': ObjectId('5e9ab56dcd498716e893ea0d'), 'CustomerID': '0052', 'Genre': 'Male', 'Annual Income (k$)': '42', 'Spending Score (1-100)': '60', 'NewAge': '33'}\n",
      "{'_id': ObjectId('5e9ab56dcd498716e893ea0e'), 'CustomerID': '0053', 'Genre': 'Female', 'Annual Income (k$)': '43', 'Spending Score (1-100)': '54', 'NewAge': '31'}\n",
      "{'_id': ObjectId('5e9ab56dcd498716e893ea0f'), 'CustomerID': '0054', 'Genre': 'Male', 'Annual Income (k$)': '43', 'Spending Score (1-100)': '60', 'NewAge': '59'}\n",
      "{'_id': ObjectId('5e9ab56dcd498716e893ea10'), 'CustomerID': '0055', 'Genre': 'Female', 'Annual Income (k$)': '43', 'Spending Score (1-100)': '45', 'NewAge': '50'}\n",
      "{'_id': ObjectId('5e9ab56dcd498716e893ea11'), 'CustomerID': '0056', 'Genre': 'Male', 'Annual Income (k$)': '43', 'Spending Score (1-100)': '41', 'NewAge': '47'}\n",
      "{'_id': ObjectId('5e9ab56dcd498716e893ea12'), 'CustomerID': '0057', 'Genre': 'Female', 'Annual Income (k$)': '44', 'Spending Score (1-100)': '50', 'NewAge': '51'}\n",
      "{'_id': ObjectId('5e9ab56dcd498716e893ea13'), 'CustomerID': '0058', 'Genre': 'Male', 'Annual Income (k$)': '44', 'Spending Score (1-100)': '46', 'NewAge': '69'}\n",
      "{'_id': ObjectId('5e9ab56dcd498716e893ea15'), 'CustomerID': '0060', 'Genre': 'Male', 'Annual Income (k$)': '46', 'Spending Score (1-100)': '46', 'NewAge': '53'}\n",
      "{'_id': ObjectId('5e9ab56dcd498716e893ea16'), 'CustomerID': '0061', 'Genre': 'Male', 'Annual Income (k$)': '46', 'Spending Score (1-100)': '56', 'NewAge': '70'}\n",
      "{'_id': ObjectId('5e9ab56dcd498716e893ea17'), 'CustomerID': '0062', 'Genre': 'Male', 'Annual Income (k$)': '46', 'Spending Score (1-100)': '55', 'NewAge': '19'}\n",
      "{'_id': ObjectId('5e9ab56dcd498716e893ea18'), 'CustomerID': '0063', 'Genre': 'Female', 'Annual Income (k$)': '47', 'Spending Score (1-100)': '52', 'NewAge': '67'}\n",
      "{'_id': ObjectId('5e9ab56dcd498716e893ea19'), 'CustomerID': '0064', 'Genre': 'Female', 'Annual Income (k$)': '47', 'Spending Score (1-100)': '59', 'NewAge': '54'}\n",
      "{'_id': ObjectId('5e9ab56dcd498716e893ea1a'), 'CustomerID': '0065', 'Genre': 'Male', 'Annual Income (k$)': '48', 'Spending Score (1-100)': '51', 'NewAge': '63'}\n",
      "{'_id': ObjectId('5e9ab56dcd498716e893ea1b'), 'CustomerID': '0066', 'Genre': 'Male', 'Annual Income (k$)': '48', 'Spending Score (1-100)': '59', 'NewAge': '18'}\n",
      "{'_id': ObjectId('5e9ab56dcd498716e893ea1c'), 'CustomerID': '0067', 'Genre': 'Female', 'Annual Income (k$)': '48', 'Spending Score (1-100)': '50', 'NewAge': '43'}\n",
      "{'_id': ObjectId('5e9ab56dcd498716e893ea1d'), 'CustomerID': '0068', 'Genre': 'Female', 'Annual Income (k$)': '48', 'Spending Score (1-100)': '48', 'NewAge': '68'}\n",
      "{'_id': ObjectId('5e9ab56dcd498716e893ea1e'), 'CustomerID': '0069', 'Genre': 'Male', 'Annual Income (k$)': '48', 'Spending Score (1-100)': '59', 'NewAge': '19'}\n",
      "{'_id': ObjectId('5e9ab56dcd498716e893ea1f'), 'CustomerID': '0070', 'Genre': 'Female', 'Annual Income (k$)': '48', 'Spending Score (1-100)': '47', 'NewAge': '32'}\n",
      "{'_id': ObjectId('5e9ab56dcd498716e893ea20'), 'CustomerID': '0071', 'Genre': 'Male', 'Annual Income (k$)': '49', 'Spending Score (1-100)': '55', 'NewAge': '70'}\n",
      "{'_id': ObjectId('5e9ab56dcd498716e893ea21'), 'CustomerID': '0072', 'Genre': 'Female', 'Annual Income (k$)': '49', 'Spending Score (1-100)': '42', 'NewAge': '47'}\n",
      "{'_id': ObjectId('5e9ab56dcd498716e893ea22'), 'CustomerID': '0073', 'Genre': 'Female', 'Annual Income (k$)': '50', 'Spending Score (1-100)': '49', 'NewAge': '60'}\n",
      "{'_id': ObjectId('5e9ab56dcd498716e893ea23'), 'CustomerID': '0074', 'Genre': 'Female', 'Annual Income (k$)': '50', 'Spending Score (1-100)': '56', 'NewAge': '60'}\n",
      "{'_id': ObjectId('5e9ab56dcd498716e893ea24'), 'CustomerID': '0075', 'Genre': 'Male', 'Annual Income (k$)': '54', 'Spending Score (1-100)': '47', 'NewAge': '59'}\n",
      "{'_id': ObjectId('5e9ab56dcd498716e893ea26'), 'CustomerID': '0077', 'Genre': 'Female', 'Annual Income (k$)': '54', 'Spending Score (1-100)': '53', 'NewAge': '45'}\n",
      "{'_id': ObjectId('5e9ab56dcd498716e893ea27'), 'CustomerID': '0078', 'Genre': 'Male', 'Annual Income (k$)': '54', 'Spending Score (1-100)': '48', 'NewAge': '40'}\n",
      "{'_id': ObjectId('5e9ab56dcd498716e893ea29'), 'CustomerID': '0080', 'Genre': 'Female', 'Annual Income (k$)': '54', 'Spending Score (1-100)': '42', 'NewAge': '49'}\n",
      "{'_id': ObjectId('5e9ab56dcd498716e893ea2a'), 'CustomerID': '0081', 'Genre': 'Male', 'Annual Income (k$)': '54', 'Spending Score (1-100)': '51', 'NewAge': '57'}\n",
      "{'_id': ObjectId('5e9ab56dcd498716e893ea2b'), 'CustomerID': '0082', 'Genre': 'Male', 'Annual Income (k$)': '54', 'Spending Score (1-100)': '55', 'NewAge': '38'}\n",
      "{'_id': ObjectId('5e9ab56dcd498716e893ea2c'), 'CustomerID': '0083', 'Genre': 'Male', 'Annual Income (k$)': '54', 'Spending Score (1-100)': '41', 'NewAge': '67'}\n",
      "{'_id': ObjectId('5e9ab56dcd498716e893ea2d'), 'CustomerID': '0084', 'Genre': 'Female', 'Annual Income (k$)': '54', 'Spending Score (1-100)': '44', 'NewAge': '46'}\n",
      "{'_id': ObjectId('5e9ab56dcd498716e893ea2f'), 'CustomerID': '0086', 'Genre': 'Male', 'Annual Income (k$)': '54', 'Spending Score (1-100)': '46', 'NewAge': '48'}\n",
      "{'_id': ObjectId('5e9ab56dcd498716e893ea30'), 'CustomerID': '0087', 'Genre': 'Female', 'Annual Income (k$)': '57', 'Spending Score (1-100)': '58', 'NewAge': '55'}\n",
      "{'_id': ObjectId('5e9ab56dcd498716e893ea32'), 'CustomerID': '0089', 'Genre': 'Female', 'Annual Income (k$)': '58', 'Spending Score (1-100)': '60', 'NewAge': '34'}\n",
      "{'_id': ObjectId('5e9ab56dcd498716e893ea33'), 'CustomerID': '0090', 'Genre': 'Female', 'Annual Income (k$)': '58', 'Spending Score (1-100)': '46', 'NewAge': '50'}\n",
      "{'_id': ObjectId('5e9ab56dcd498716e893ea34'), 'CustomerID': '0091', 'Genre': 'Female', 'Annual Income (k$)': '59', 'Spending Score (1-100)': '55', 'NewAge': '68'}\n",
      "{'_id': ObjectId('5e9ab56dcd498716e893ea35'), 'CustomerID': '0092', 'Genre': 'Male', 'Annual Income (k$)': '59', 'Spending Score (1-100)': '41', 'NewAge': '18'}\n",
      "{'_id': ObjectId('5e9ab56dcd498716e893ea36'), 'CustomerID': '0093', 'Genre': 'Male', 'Annual Income (k$)': '60', 'Spending Score (1-100)': '49', 'NewAge': '48'}\n",
      "{'_id': ObjectId('5e9ab56dcd498716e893ea37'), 'CustomerID': '0094', 'Genre': 'Female', 'Annual Income (k$)': '60', 'Spending Score (1-100)': '40', 'NewAge': '40'}\n",
      "{'_id': ObjectId('5e9ab56dcd498716e893ea38'), 'CustomerID': '0095', 'Genre': 'Female', 'Annual Income (k$)': '60', 'Spending Score (1-100)': '42', 'NewAge': '32'}\n",
      "{'_id': ObjectId('5e9ab56dcd498716e893ea3a'), 'CustomerID': '0097', 'Genre': 'Female', 'Annual Income (k$)': '60', 'Spending Score (1-100)': '47', 'NewAge': '47'}\n",
      "{'_id': ObjectId('5e9ab56dcd498716e893ea3c'), 'CustomerID': '0099', 'Genre': 'Male', 'Annual Income (k$)': '61', 'Spending Score (1-100)': '42', 'NewAge': '48'}\n",
      "{'_id': ObjectId('5e9ab56dcd498716e893ea3f'), 'CustomerID': '0102', 'Genre': 'Female', 'Annual Income (k$)': '62', 'Spending Score (1-100)': '48', 'NewAge': '49'}\n",
      "{'_id': ObjectId('5e9ab56dcd498716e893ea40'), 'CustomerID': '0103', 'Genre': 'Male', 'Annual Income (k$)': '62', 'Spending Score (1-100)': '59', 'NewAge': '67'}\n",
      "{'_id': ObjectId('5e9ab56dcd498716e893ea42'), 'CustomerID': '0105', 'Genre': 'Male', 'Annual Income (k$)': '62', 'Spending Score (1-100)': '56', 'NewAge': '49'}\n",
      "{'_id': ObjectId('5e9ab56dcd498716e893ea44'), 'CustomerID': '0107', 'Genre': 'Female', 'Annual Income (k$)': '63', 'Spending Score (1-100)': '50', 'NewAge': '66'}\n",
      "{'_id': ObjectId('5e9ab56dcd498716e893ea45'), 'CustomerID': '0108', 'Genre': 'Male', 'Annual Income (k$)': '63', 'Spending Score (1-100)': '46', 'NewAge': '54'}\n",
      "{'_id': ObjectId('5e9ab56dcd498716e893ea46'), 'CustomerID': '0109', 'Genre': 'Male', 'Annual Income (k$)': '63', 'Spending Score (1-100)': '43', 'NewAge': '68'}\n",
      "{'_id': ObjectId('5e9ab56dcd498716e893ea47'), 'CustomerID': '0110', 'Genre': 'Male', 'Annual Income (k$)': '63', 'Spending Score (1-100)': '48', 'NewAge': '66'}\n",
      "{'_id': ObjectId('5e9ab56dcd498716e893ea48'), 'CustomerID': '0111', 'Genre': 'Male', 'Annual Income (k$)': '63', 'Spending Score (1-100)': '52', 'NewAge': '65'}\n",
      "{'_id': ObjectId('5e9ab56dcd498716e893ea49'), 'CustomerID': '0112', 'Genre': 'Female', 'Annual Income (k$)': '63', 'Spending Score (1-100)': '54', 'NewAge': '19'}\n",
      "{'_id': ObjectId('5e9ab56dcd498716e893ea4a'), 'CustomerID': '0113', 'Genre': 'Female', 'Annual Income (k$)': '64', 'Spending Score (1-100)': '42', 'NewAge': '38'}\n",
      "{'_id': ObjectId('5e9ab56dcd498716e893ea4b'), 'CustomerID': '0114', 'Genre': 'Male', 'Annual Income (k$)': '64', 'Spending Score (1-100)': '46', 'NewAge': '19'}\n",
      "{'_id': ObjectId('5e9ab56dcd498716e893ea4c'), 'CustomerID': '0115', 'Genre': 'Female', 'Annual Income (k$)': '65', 'Spending Score (1-100)': '48', 'NewAge': '18'}\n",
      "{'_id': ObjectId('5e9ab56dcd498716e893ea4d'), 'CustomerID': '0116', 'Genre': 'Female', 'Annual Income (k$)': '65', 'Spending Score (1-100)': '50', 'NewAge': '19'}\n",
      "{'_id': ObjectId('5e9ab56dcd498716e893ea4e'), 'CustomerID': '0117', 'Genre': 'Female', 'Annual Income (k$)': '65', 'Spending Score (1-100)': '43', 'NewAge': '63'}\n",
      "{'_id': ObjectId('5e9ab56dcd498716e893ea4f'), 'CustomerID': '0118', 'Genre': 'Female', 'Annual Income (k$)': '65', 'Spending Score (1-100)': '59', 'NewAge': '49'}\n",
      "{'_id': ObjectId('5e9ab56dcd498716e893ea50'), 'CustomerID': '0119', 'Genre': 'Female', 'Annual Income (k$)': '67', 'Spending Score (1-100)': '43', 'NewAge': '51'}\n",
      "{'_id': ObjectId('5e9ab56dcd498716e893ea51'), 'CustomerID': '0120', 'Genre': 'Female', 'Annual Income (k$)': '67', 'Spending Score (1-100)': '57', 'NewAge': '50'}\n",
      "{'_id': ObjectId('5e9ab56dcd498716e893ea53'), 'CustomerID': '0122', 'Genre': 'Female', 'Annual Income (k$)': '67', 'Spending Score (1-100)': '40', 'NewAge': '38'}\n",
      "{'_id': ObjectId('5e9ab56dcd498716e893ea54'), 'CustomerID': '0123', 'Genre': 'Female', 'Annual Income (k$)': '69', 'Spending Score (1-100)': '58', 'NewAge': '40'}\n",
      "{'_id': ObjectId('5e9ab56dcd498716e893ea55'), 'CustomerID': '0124', 'Genre': 'Male', 'Annual Income (k$)': '69', 'Spending Score (1-100)': '91', 'NewAge': '39'}\n",
      "{'_id': ObjectId('5e9ab56dcd498716e893ea57'), 'CustomerID': '0126', 'Genre': 'Female', 'Annual Income (k$)': '70', 'Spending Score (1-100)': '77', 'NewAge': '31'}\n",
      "{'_id': ObjectId('5e9ab56dcd498716e893ea58'), 'CustomerID': '0127', 'Genre': 'Male', 'Annual Income (k$)': '71', 'Spending Score (1-100)': '35', 'NewAge': '43'}\n",
      "{'_id': ObjectId('5e9ab56dcd498716e893ea59'), 'CustomerID': '0128', 'Genre': 'Male', 'Annual Income (k$)': '71', 'Spending Score (1-100)': '95', 'NewAge': '40'}\n",
      "{'_id': ObjectId('5e9ab56dcd498716e893ea5a'), 'CustomerID': '0129', 'Genre': 'Male', 'Annual Income (k$)': '71', 'Spending Score (1-100)': '11', 'NewAge': '59'}\n",
      "{'_id': ObjectId('5e9ab56dcd498716e893ea5b'), 'CustomerID': '0130', 'Genre': 'Male', 'Annual Income (k$)': '71', 'Spending Score (1-100)': '75', 'NewAge': '38'}\n",
      "{'_id': ObjectId('5e9ab56dcd498716e893ea5c'), 'CustomerID': '0131', 'Genre': 'Male', 'Annual Income (k$)': '71', 'Spending Score (1-100)': '9', 'NewAge': '47'}\n",
      "{'_id': ObjectId('5e9ab56dcd498716e893ea5d'), 'CustomerID': '0132', 'Genre': 'Male', 'Annual Income (k$)': '71', 'Spending Score (1-100)': '75', 'NewAge': '39'}\n",
      "{'_id': ObjectId('5e9ab56dcd498716e893ea5f'), 'CustomerID': '0134', 'Genre': 'Female', 'Annual Income (k$)': '72', 'Spending Score (1-100)': '71', 'NewAge': '31'}\n",
      "{'_id': ObjectId('5e9ab56dcd498716e893ea62'), 'CustomerID': '0137', 'Genre': 'Female', 'Annual Income (k$)': '73', 'Spending Score (1-100)': '7', 'NewAge': '44'}\n",
      "{'_id': ObjectId('5e9ab56dcd498716e893ea63'), 'CustomerID': '0138', 'Genre': 'Male', 'Annual Income (k$)': '73', 'Spending Score (1-100)': '73', 'NewAge': '32'}\n",
      "{'_id': ObjectId('5e9ab56dcd498716e893ea64'), 'CustomerID': '0139', 'Genre': 'Male', 'Annual Income (k$)': '74', 'Spending Score (1-100)': '10', 'NewAge': '19'}\n",
      "{'_id': ObjectId('5e9ab56dcd498716e893ea65'), 'CustomerID': '0140', 'Genre': 'Female', 'Annual Income (k$)': '74', 'Spending Score (1-100)': '72', 'NewAge': '35'}\n",
      "{'_id': ObjectId('5e9ab56dcd498716e893ea66'), 'CustomerID': '0141', 'Genre': 'Female', 'Annual Income (k$)': '75', 'Spending Score (1-100)': '5', 'NewAge': '57'}\n",
      "{'_id': ObjectId('5e9ab56dcd498716e893ea67'), 'CustomerID': '0142', 'Genre': 'Male', 'Annual Income (k$)': '75', 'Spending Score (1-100)': '93', 'NewAge': '32'}\n",
      "{'_id': ObjectId('5e9ab56dcd498716e893ea69'), 'CustomerID': '0144', 'Genre': 'Female', 'Annual Income (k$)': '76', 'Spending Score (1-100)': '87', 'NewAge': '32'}\n",
      "{'_id': ObjectId('5e9ab56dcd498716e893ea6c'), 'CustomerID': '0147', 'Genre': 'Male', 'Annual Income (k$)': '77', 'Spending Score (1-100)': '36', 'NewAge': '48'}\n",
      "{'_id': ObjectId('5e9ab56dcd498716e893ea6d'), 'CustomerID': '0148', 'Genre': 'Female', 'Annual Income (k$)': '77', 'Spending Score (1-100)': '74', 'NewAge': '32'}\n",
      "{'_id': ObjectId('5e9ab56dcd498716e893ea6e'), 'CustomerID': '0149', 'Genre': 'Female', 'Annual Income (k$)': '78', 'Spending Score (1-100)': '22', 'NewAge': '34'}\n",
      "{'_id': ObjectId('5e9ab56dcd498716e893ea6f'), 'CustomerID': '0150', 'Genre': 'Male', 'Annual Income (k$)': '78', 'Spending Score (1-100)': '90', 'NewAge': '34'}\n",
      "{'_id': ObjectId('5e9ab56dcd498716e893ea70'), 'CustomerID': '0151', 'Genre': 'Male', 'Annual Income (k$)': '78', 'Spending Score (1-100)': '17', 'NewAge': '43'}\n",
      "{'_id': ObjectId('5e9ab56dcd498716e893ea71'), 'CustomerID': '0152', 'Genre': 'Male', 'Annual Income (k$)': '78', 'Spending Score (1-100)': '88', 'NewAge': '39'}\n",
      "{'_id': ObjectId('5e9ab56dcd498716e893ea72'), 'CustomerID': '0153', 'Genre': 'Female', 'Annual Income (k$)': '78', 'Spending Score (1-100)': '20', 'NewAge': '44'}\n",
      "{'_id': ObjectId('5e9ab56dcd498716e893ea73'), 'CustomerID': '0154', 'Genre': 'Female', 'Annual Income (k$)': '78', 'Spending Score (1-100)': '76', 'NewAge': '38'}\n",
      "{'_id': ObjectId('5e9ab56dcd498716e893ea74'), 'CustomerID': '0155', 'Genre': 'Female', 'Annual Income (k$)': '78', 'Spending Score (1-100)': '16', 'NewAge': '47'}\n",
      "{'_id': ObjectId('5e9ab56dcd498716e893ea76'), 'CustomerID': '0157', 'Genre': 'Male', 'Annual Income (k$)': '78', 'Spending Score (1-100)': '1', 'NewAge': '37'}\n",
      "{'_id': ObjectId('5e9ab56dcd498716e893ea77'), 'CustomerID': '0158', 'Genre': 'Female', 'Annual Income (k$)': '78', 'Spending Score (1-100)': '78', 'NewAge': '30'}\n",
      "{'_id': ObjectId('5e9ab56dcd498716e893ea78'), 'CustomerID': '0159', 'Genre': 'Male', 'Annual Income (k$)': '78', 'Spending Score (1-100)': '1', 'NewAge': '34'}\n",
      "{'_id': ObjectId('5e9ab56dcd498716e893ea79'), 'CustomerID': '0160', 'Genre': 'Female', 'Annual Income (k$)': '78', 'Spending Score (1-100)': '73', 'NewAge': '30'}\n",
      "{'_id': ObjectId('5e9ab56dcd498716e893ea7a'), 'CustomerID': '0161', 'Genre': 'Female', 'Annual Income (k$)': '79', 'Spending Score (1-100)': '35', 'NewAge': '56'}\n",
      "{'_id': ObjectId('5e9ab56dcd498716e893ea7c'), 'CustomerID': '0163', 'Genre': 'Male', 'Annual Income (k$)': '81', 'Spending Score (1-100)': '5', 'NewAge': '19'}\n",
      "{'_id': ObjectId('5e9ab56dcd498716e893ea7d'), 'CustomerID': '0164', 'Genre': 'Female', 'Annual Income (k$)': '81', 'Spending Score (1-100)': '93', 'NewAge': '31'}\n",
      "{'_id': ObjectId('5e9ab56dcd498716e893ea7e'), 'CustomerID': '0165', 'Genre': 'Male', 'Annual Income (k$)': '85', 'Spending Score (1-100)': '26', 'NewAge': '50'}\n",
      "{'_id': ObjectId('5e9ab56dcd498716e893ea7f'), 'CustomerID': '0166', 'Genre': 'Female', 'Annual Income (k$)': '85', 'Spending Score (1-100)': '75', 'NewAge': '36'}\n",
      "{'_id': ObjectId('5e9ab56dcd498716e893ea80'), 'CustomerID': '0167', 'Genre': 'Male', 'Annual Income (k$)': '86', 'Spending Score (1-100)': '20', 'NewAge': '42'}\n",
      "{'_id': ObjectId('5e9ab56dcd498716e893ea81'), 'CustomerID': '0168', 'Genre': 'Female', 'Annual Income (k$)': '86', 'Spending Score (1-100)': '95', 'NewAge': '33'}\n",
      "{'_id': ObjectId('5e9ab56dcd498716e893ea82'), 'CustomerID': '0169', 'Genre': 'Female', 'Annual Income (k$)': '87', 'Spending Score (1-100)': '27', 'NewAge': '36'}\n",
      "{'_id': ObjectId('5e9ab56dcd498716e893ea83'), 'CustomerID': '0170', 'Genre': 'Male', 'Annual Income (k$)': '87', 'Spending Score (1-100)': '63', 'NewAge': '32'}\n",
      "{'_id': ObjectId('5e9ab56dcd498716e893ea84'), 'CustomerID': '0171', 'Genre': 'Male', 'Annual Income (k$)': '87', 'Spending Score (1-100)': '13', 'NewAge': '40'}\n",
      "{'_id': ObjectId('5e9ab56dcd498716e893ea86'), 'CustomerID': '0173', 'Genre': 'Male', 'Annual Income (k$)': '87', 'Spending Score (1-100)': '10', 'NewAge': '36'}\n",
      "{'_id': ObjectId('5e9ab56dcd498716e893ea87'), 'CustomerID': '0174', 'Genre': 'Male', 'Annual Income (k$)': '87', 'Spending Score (1-100)': '92', 'NewAge': '36'}\n",
      "{'_id': ObjectId('5e9ab56dcd498716e893ea88'), 'CustomerID': '0175', 'Genre': 'Female', 'Annual Income (k$)': '88', 'Spending Score (1-100)': '13', 'NewAge': '52'}\n",
      "{'_id': ObjectId('5e9ab56dcd498716e893ea89'), 'CustomerID': '0176', 'Genre': 'Female', 'Annual Income (k$)': '88', 'Spending Score (1-100)': '86', 'NewAge': '30'}\n",
      "{'_id': ObjectId('5e9ab56dcd498716e893ea8a'), 'CustomerID': '0177', 'Genre': 'Male', 'Annual Income (k$)': '88', 'Spending Score (1-100)': '15', 'NewAge': '58'}\n",
      "{'_id': ObjectId('5e9ab56dcd498716e893ea8c'), 'CustomerID': '0179', 'Genre': 'Male', 'Annual Income (k$)': '93', 'Spending Score (1-100)': '14', 'NewAge': '59'}\n",
      "{'_id': ObjectId('5e9ab56dcd498716e893ea8d'), 'CustomerID': '0180', 'Genre': 'Male', 'Annual Income (k$)': '93', 'Spending Score (1-100)': '90', 'NewAge': '35'}\n",
      "{'_id': ObjectId('5e9ab56dcd498716e893ea8e'), 'CustomerID': '0181', 'Genre': 'Female', 'Annual Income (k$)': '97', 'Spending Score (1-100)': '32', 'NewAge': '37'}\n",
      "{'_id': ObjectId('5e9ab56dcd498716e893ea8f'), 'CustomerID': '0182', 'Genre': 'Female', 'Annual Income (k$)': '97', 'Spending Score (1-100)': '86', 'NewAge': '32'}\n",
      "{'_id': ObjectId('5e9ab56dcd498716e893ea90'), 'CustomerID': '0183', 'Genre': 'Male', 'Annual Income (k$)': '98', 'Spending Score (1-100)': '15', 'NewAge': '46'}\n",
      "{'_id': ObjectId('5e9ab56dcd498716e893ea92'), 'CustomerID': '0185', 'Genre': 'Female', 'Annual Income (k$)': '99', 'Spending Score (1-100)': '39', 'NewAge': '41'}\n",
      "{'_id': ObjectId('5e9ab56dcd498716e893ea93'), 'CustomerID': '0186', 'Genre': 'Male', 'Annual Income (k$)': '99', 'Spending Score (1-100)': '97', 'NewAge': '30'}\n",
      "{'_id': ObjectId('5e9ab56dcd498716e893ea94'), 'CustomerID': '0187', 'Genre': 'Female', 'Annual Income (k$)': '101', 'Spending Score (1-100)': '24', 'NewAge': '54'}\n",
      "{'_id': ObjectId('5e9ab56dcd498716e893ea96'), 'CustomerID': '0189', 'Genre': 'Female', 'Annual Income (k$)': '103', 'Spending Score (1-100)': '17', 'NewAge': '41'}\n",
      "{'_id': ObjectId('5e9ab56dcd498716e893ea97'), 'CustomerID': '0190', 'Genre': 'Female', 'Annual Income (k$)': '103', 'Spending Score (1-100)': '85', 'NewAge': '36'}\n",
      "{'_id': ObjectId('5e9ab56dcd498716e893ea98'), 'CustomerID': '0191', 'Genre': 'Female', 'Annual Income (k$)': '103', 'Spending Score (1-100)': '23', 'NewAge': '34'}\n",
      "{'_id': ObjectId('5e9ab56dcd498716e893ea99'), 'CustomerID': '0192', 'Genre': 'Female', 'Annual Income (k$)': '103', 'Spending Score (1-100)': '69', 'NewAge': '32'}\n",
      "{'_id': ObjectId('5e9ab56dcd498716e893ea9a'), 'CustomerID': '0193', 'Genre': 'Male', 'Annual Income (k$)': '113', 'Spending Score (1-100)': '8', 'NewAge': '33'}\n",
      "{'_id': ObjectId('5e9ab56dcd498716e893ea9b'), 'CustomerID': '0194', 'Genre': 'Female', 'Annual Income (k$)': '113', 'Spending Score (1-100)': '91', 'NewAge': '38'}\n",
      "{'_id': ObjectId('5e9ab56dcd498716e893ea9c'), 'CustomerID': '0195', 'Genre': 'Female', 'Annual Income (k$)': '120', 'Spending Score (1-100)': '16', 'NewAge': '47'}\n",
      "{'_id': ObjectId('5e9ab56dcd498716e893ea9d'), 'CustomerID': '0196', 'Genre': 'Female', 'Annual Income (k$)': '120', 'Spending Score (1-100)': '79', 'NewAge': '35'}\n",
      "{'_id': ObjectId('5e9ab56dcd498716e893ea9e'), 'CustomerID': '0197', 'Genre': 'Female', 'Annual Income (k$)': '126', 'Spending Score (1-100)': '28', 'NewAge': '45'}\n",
      "{'_id': ObjectId('5e9ab56dcd498716e893ea9f'), 'CustomerID': '0198', 'Genre': 'Male', 'Annual Income (k$)': '126', 'Spending Score (1-100)': '74', 'NewAge': '32'}\n",
      "{'_id': ObjectId('5e9ab56dcd498716e893eaa0'), 'CustomerID': '0199', 'Genre': 'Male', 'Annual Income (k$)': '137', 'Spending Score (1-100)': '18', 'NewAge': '32'}\n"
     ]
    }
   ],
   "source": [
    "for i in x:\n",
    "    print(i)"
   ]
  },
  {
   "cell_type": "code",
   "execution_count": 154,
   "metadata": {},
   "outputs": [],
   "source": [
    "x1 = table.find({'Age':{'$gt':'40'}})"
   ]
  },
  {
   "cell_type": "code",
   "execution_count": 155,
   "metadata": {},
   "outputs": [],
   "source": [
    "for i in x1:\n",
    "    print(i)"
   ]
  },
  {
   "cell_type": "code",
   "execution_count": 156,
   "metadata": {},
   "outputs": [],
   "source": [
    "tab2 = db['Sample2']"
   ]
  },
  {
   "cell_type": "code",
   "execution_count": 157,
   "metadata": {},
   "outputs": [
    {
     "data": {
      "text/plain": [
       "['Sample1']"
      ]
     },
     "execution_count": 157,
     "metadata": {},
     "output_type": "execute_result"
    }
   ],
   "source": [
    "db.list_collection_names()"
   ]
  },
  {
   "cell_type": "code",
   "execution_count": 158,
   "metadata": {},
   "outputs": [
    {
     "data": {
      "text/plain": [
       "<pymongo.results.InsertOneResult at 0x899af48>"
      ]
     },
     "execution_count": 158,
     "metadata": {},
     "output_type": "execute_result"
    }
   ],
   "source": [
    "tab2.insert_one({'CustomerID': '0009', 'Genre': 'Male', 'Age': '64', 'Annual Income (k$)': '19', 'Spending Score (1-100)': '3'})"
   ]
  },
  {
   "cell_type": "code",
   "execution_count": null,
   "metadata": {},
   "outputs": [],
   "source": []
  },
  {
   "cell_type": "markdown",
   "metadata": {},
   "source": []
  },
  {
   "cell_type": "code",
   "execution_count": 159,
   "metadata": {},
   "outputs": [
    {
     "data": {
      "text/plain": [
       "['Sample2', 'Sample1']"
      ]
     },
     "execution_count": 159,
     "metadata": {},
     "output_type": "execute_result"
    }
   ],
   "source": [
    "db.list_collection_names()"
   ]
  },
  {
   "cell_type": "code",
   "execution_count": 160,
   "metadata": {},
   "outputs": [
    {
     "data": {
      "text/plain": [
       "<pymongo.results.InsertManyResult at 0x89ba708>"
      ]
     },
     "execution_count": 160,
     "metadata": {},
     "output_type": "execute_result"
    }
   ],
   "source": [
    "tab2.insert_many([\n",
    "  { \"name\": \"Amy\", \"address\": \"Apple st 652\"},\n",
    "  { \"name\": \"Hannah\", \"address\": \"Mountain 21\"},\n",
    "  { \"name\": \"Michael\", \"address\": \"Valley 345\"},\n",
    "  { \"name\": \"Sandy\", \"address\": \"Ocean blvd 2\"},\n",
    "  { \"name\": \"Betty\", \"address\": \"Green Grass 1\"},\n",
    "  { \"name\": \"Richard\", \"address\": \"Sky st 331\"},\n",
    "  { \"name\": \"Susan\", \"address\": \"One way 98\"},\n",
    "  { \"name\": \"Vicky\", \"address\": \"Yellow Garden 2\"},\n",
    "  { \"name\": \"Ben\", \"address\": \"Park Lane 38\"},\n",
    "  { \"name\": \"William\", \"address\": \"Central st 954\"},\n",
    "  { \"name\": \"Chuck\", \"address\": \"Main Road 989\"},\n",
    "  { \"name\": \"Viola\", \"address\": \"Sideway 1633\"}\n",
    "])"
   ]
  },
  {
   "cell_type": "code",
   "execution_count": 161,
   "metadata": {},
   "outputs": [
    {
     "data": {
      "text/plain": [
       "Collection(Database(MongoClient(host=['localhost:27017'], document_class=dict, tz_aware=False, connect=True), 'MaheshDemoDB'), 'Sample2.inserted_ids')"
      ]
     },
     "execution_count": 161,
     "metadata": {},
     "output_type": "execute_result"
    }
   ],
   "source": [
    "tab2.inserted_ids"
   ]
  },
  {
   "cell_type": "code",
   "execution_count": 162,
   "metadata": {},
   "outputs": [
    {
     "name": "stdout",
     "output_type": "stream",
     "text": [
      "{'_id': ObjectId('5e9b30803ab88fcff95ee222'), 'CustomerID': '0009', 'Genre': 'Male', 'Age': '64', 'Annual Income (k$)': '19', 'Spending Score (1-100)': '3'}\n",
      "{'_id': ObjectId('5e9b30813ab88fcff95ee223'), 'name': 'Amy', 'address': 'Apple st 652'}\n",
      "{'_id': ObjectId('5e9b30813ab88fcff95ee224'), 'name': 'Hannah', 'address': 'Mountain 21'}\n",
      "{'_id': ObjectId('5e9b30813ab88fcff95ee225'), 'name': 'Michael', 'address': 'Valley 345'}\n",
      "{'_id': ObjectId('5e9b30813ab88fcff95ee226'), 'name': 'Sandy', 'address': 'Ocean blvd 2'}\n",
      "{'_id': ObjectId('5e9b30813ab88fcff95ee227'), 'name': 'Betty', 'address': 'Green Grass 1'}\n",
      "{'_id': ObjectId('5e9b30813ab88fcff95ee228'), 'name': 'Richard', 'address': 'Sky st 331'}\n",
      "{'_id': ObjectId('5e9b30813ab88fcff95ee229'), 'name': 'Susan', 'address': 'One way 98'}\n",
      "{'_id': ObjectId('5e9b30813ab88fcff95ee22a'), 'name': 'Vicky', 'address': 'Yellow Garden 2'}\n",
      "{'_id': ObjectId('5e9b30813ab88fcff95ee22b'), 'name': 'Ben', 'address': 'Park Lane 38'}\n",
      "{'_id': ObjectId('5e9b30813ab88fcff95ee22c'), 'name': 'William', 'address': 'Central st 954'}\n",
      "{'_id': ObjectId('5e9b30813ab88fcff95ee22d'), 'name': 'Chuck', 'address': 'Main Road 989'}\n",
      "{'_id': ObjectId('5e9b30813ab88fcff95ee22e'), 'name': 'Viola', 'address': 'Sideway 1633'}\n"
     ]
    }
   ],
   "source": [
    "for i in tab2.find():\n",
    "    print(i)"
   ]
  },
  {
   "cell_type": "code",
   "execution_count": 163,
   "metadata": {},
   "outputs": [
    {
     "data": {
      "text/plain": [
       "<pymongo.results.DeleteResult at 0x899f208>"
      ]
     },
     "execution_count": 163,
     "metadata": {},
     "output_type": "execute_result"
    }
   ],
   "source": [
    "tab2.delete_one({'Age':'64'})"
   ]
  },
  {
   "cell_type": "code",
   "execution_count": 164,
   "metadata": {},
   "outputs": [
    {
     "name": "stdout",
     "output_type": "stream",
     "text": [
      "{'_id': ObjectId('5e9b30813ab88fcff95ee223'), 'name': 'Amy', 'address': 'Apple st 652'}\n",
      "{'_id': ObjectId('5e9b30813ab88fcff95ee224'), 'name': 'Hannah', 'address': 'Mountain 21'}\n",
      "{'_id': ObjectId('5e9b30813ab88fcff95ee225'), 'name': 'Michael', 'address': 'Valley 345'}\n",
      "{'_id': ObjectId('5e9b30813ab88fcff95ee226'), 'name': 'Sandy', 'address': 'Ocean blvd 2'}\n",
      "{'_id': ObjectId('5e9b30813ab88fcff95ee227'), 'name': 'Betty', 'address': 'Green Grass 1'}\n",
      "{'_id': ObjectId('5e9b30813ab88fcff95ee228'), 'name': 'Richard', 'address': 'Sky st 331'}\n",
      "{'_id': ObjectId('5e9b30813ab88fcff95ee229'), 'name': 'Susan', 'address': 'One way 98'}\n",
      "{'_id': ObjectId('5e9b30813ab88fcff95ee22a'), 'name': 'Vicky', 'address': 'Yellow Garden 2'}\n",
      "{'_id': ObjectId('5e9b30813ab88fcff95ee22b'), 'name': 'Ben', 'address': 'Park Lane 38'}\n",
      "{'_id': ObjectId('5e9b30813ab88fcff95ee22c'), 'name': 'William', 'address': 'Central st 954'}\n",
      "{'_id': ObjectId('5e9b30813ab88fcff95ee22d'), 'name': 'Chuck', 'address': 'Main Road 989'}\n",
      "{'_id': ObjectId('5e9b30813ab88fcff95ee22e'), 'name': 'Viola', 'address': 'Sideway 1633'}\n"
     ]
    }
   ],
   "source": [
    "for i in tab2.find():\n",
    "    print(i)"
   ]
  },
  {
   "cell_type": "code",
   "execution_count": 165,
   "metadata": {},
   "outputs": [
    {
     "name": "stdout",
     "output_type": "stream",
     "text": [
      "{'_id': ObjectId('5e9b30813ab88fcff95ee224'), 'name': 'Hannah', 'address': 'Mountain 21'}\n",
      "{'_id': ObjectId('5e9b30813ab88fcff95ee225'), 'name': 'Michael', 'address': 'Valley 345'}\n",
      "{'_id': ObjectId('5e9b30813ab88fcff95ee226'), 'name': 'Sandy', 'address': 'Ocean blvd 2'}\n",
      "{'_id': ObjectId('5e9b30813ab88fcff95ee228'), 'name': 'Richard', 'address': 'Sky st 331'}\n",
      "{'_id': ObjectId('5e9b30813ab88fcff95ee229'), 'name': 'Susan', 'address': 'One way 98'}\n",
      "{'_id': ObjectId('5e9b30813ab88fcff95ee22a'), 'name': 'Vicky', 'address': 'Yellow Garden 2'}\n",
      "{'_id': ObjectId('5e9b30813ab88fcff95ee22b'), 'name': 'Ben', 'address': 'Park Lane 38'}\n",
      "{'_id': ObjectId('5e9b30813ab88fcff95ee22d'), 'name': 'Chuck', 'address': 'Main Road 989'}\n",
      "{'_id': ObjectId('5e9b30813ab88fcff95ee22e'), 'name': 'Viola', 'address': 'Sideway 1633'}\n"
     ]
    }
   ],
   "source": [
    "for i in tab2.find({'address':{'$gt':'M'}}): #which ever character greater tham M a-z\n",
    "    print(i)"
   ]
  },
  {
   "cell_type": "code",
   "execution_count": 166,
   "metadata": {},
   "outputs": [],
   "source": [
    "tab2.drop()"
   ]
  },
  {
   "cell_type": "code",
   "execution_count": 167,
   "metadata": {},
   "outputs": [
    {
     "data": {
      "text/plain": [
       "['Sample1']"
      ]
     },
     "execution_count": 167,
     "metadata": {},
     "output_type": "execute_result"
    }
   ],
   "source": [
    "db.list_collection_names()  #Sample2 is in the table tab2"
   ]
  },
  {
   "cell_type": "code",
   "execution_count": 168,
   "metadata": {},
   "outputs": [],
   "source": [
    "tab3 = db['Sample1']"
   ]
  },
  {
   "cell_type": "code",
   "execution_count": 169,
   "metadata": {},
   "outputs": [
    {
     "name": "stdout",
     "output_type": "stream",
     "text": [
      "{'_id': ObjectId('5e9ab56dcd498716e893e9da'), 'CustomerID': '0001', 'Genre': 'Male', 'Annual Income (k$)': '15', 'Spending Score (1-100)': '39', 'NewAge': '19'}\n",
      "{'_id': ObjectId('5e9ab56dcd498716e893e9de'), 'CustomerID': '0005', 'Genre': 'Female', 'Annual Income (k$)': '17', 'Spending Score (1-100)': '40', 'NewAge': '31'}\n",
      "{'_id': ObjectId('5e9ab56dcd498716e893e9e0'), 'CustomerID': '0007', 'Genre': 'Female', 'Annual Income (k$)': '18', 'Spending Score (1-100)': '6', 'NewAge': '35'}\n",
      "{'_id': ObjectId('5e9ab56dcd498716e893e9e2'), 'CustomerID': '0009', 'Genre': 'Male', 'Annual Income (k$)': '19', 'Spending Score (1-100)': '3', 'NewAge': '64'}\n",
      "{'_id': ObjectId('5e9ab56dcd498716e893e9e3'), 'CustomerID': '0010', 'Genre': 'Female', 'Annual Income (k$)': '19', 'Spending Score (1-100)': '72', 'NewAge': '30'}\n",
      "{'_id': ObjectId('5e9ab56dcd498716e893e9e4'), 'CustomerID': '0011', 'Genre': 'Male', 'Annual Income (k$)': '19', 'Spending Score (1-100)': '14', 'NewAge': '67'}\n",
      "{'_id': ObjectId('5e9ab56dcd498716e893e9e5'), 'CustomerID': '0012', 'Genre': 'Female', 'Annual Income (k$)': '19', 'Spending Score (1-100)': '99', 'NewAge': '35'}\n",
      "{'_id': ObjectId('5e9ab56dcd498716e893e9e6'), 'CustomerID': '0013', 'Genre': 'Female', 'Annual Income (k$)': '20', 'Spending Score (1-100)': '15', 'NewAge': '58'}\n",
      "{'_id': ObjectId('5e9ab56dcd498716e893e9e8'), 'CustomerID': '0015', 'Genre': 'Male', 'Annual Income (k$)': '20', 'Spending Score (1-100)': '13', 'NewAge': '37'}\n",
      "{'_id': ObjectId('5e9ab56dcd498716e893e9ea'), 'CustomerID': '0017', 'Genre': 'Female', 'Annual Income (k$)': '21', 'Spending Score (1-100)': '35', 'NewAge': '35'}\n",
      "{'_id': ObjectId('5e9ab56dcd498716e893e9ec'), 'CustomerID': '0019', 'Genre': 'Male', 'Annual Income (k$)': '23', 'Spending Score (1-100)': '29', 'NewAge': '52'}\n",
      "{'_id': ObjectId('5e9ab56dcd498716e893e9ed'), 'CustomerID': '0020', 'Genre': 'Female', 'Annual Income (k$)': '23', 'Spending Score (1-100)': '98', 'NewAge': '35'}\n",
      "{'_id': ObjectId('5e9ab56dcd498716e893e9ee'), 'CustomerID': '0021', 'Genre': 'Male', 'Annual Income (k$)': '24', 'Spending Score (1-100)': '35', 'NewAge': '35'}\n",
      "{'_id': ObjectId('5e9ab56dcd498716e893e9f0'), 'CustomerID': '0023', 'Genre': 'Female', 'Annual Income (k$)': '25', 'Spending Score (1-100)': '5', 'NewAge': '46'}\n",
      "{'_id': ObjectId('5e9ab56dcd498716e893e9f1'), 'CustomerID': '0024', 'Genre': 'Male', 'Annual Income (k$)': '25', 'Spending Score (1-100)': '73', 'NewAge': '31'}\n",
      "{'_id': ObjectId('5e9ab56dcd498716e893e9f2'), 'CustomerID': '0025', 'Genre': 'Female', 'Annual Income (k$)': '28', 'Spending Score (1-100)': '14', 'NewAge': '54'}\n",
      "{'_id': ObjectId('5e9ab56dcd498716e893e9f4'), 'CustomerID': '0027', 'Genre': 'Female', 'Annual Income (k$)': '28', 'Spending Score (1-100)': '32', 'NewAge': '45'}\n",
      "{'_id': ObjectId('5e9ab56dcd498716e893e9f5'), 'CustomerID': '0028', 'Genre': 'Male', 'Annual Income (k$)': '28', 'Spending Score (1-100)': '61', 'NewAge': '35'}\n",
      "{'_id': ObjectId('5e9ab56dcd498716e893e9f6'), 'CustomerID': '0029', 'Genre': 'Female', 'Annual Income (k$)': '29', 'Spending Score (1-100)': '31', 'NewAge': '40'}\n",
      "{'_id': ObjectId('5e9ab56dcd498716e893e9f8'), 'CustomerID': '0031', 'Genre': 'Male', 'Annual Income (k$)': '30', 'Spending Score (1-100)': '4', 'NewAge': '100'}\n",
      "{'_id': ObjectId('5e9ab56dcd498716e893e9fa'), 'CustomerID': '0033', 'Genre': 'Male', 'Annual Income (k$)': '33', 'Spending Score (1-100)': '4', 'NewAge': '100'}\n",
      "{'_id': ObjectId('5e9ab56dcd498716e893e9fb'), 'CustomerID': '0034', 'Genre': 'Male', 'Annual Income (k$)': '33', 'Spending Score (1-100)': '92', 'NewAge': '100'}\n",
      "{'_id': ObjectId('5e9ab56dcd498716e893e9fc'), 'CustomerID': '0035', 'Genre': 'Female', 'Annual Income (k$)': '33', 'Spending Score (1-100)': '14', 'NewAge': '100'}\n",
      "{'_id': ObjectId('5e9ab56dcd498716e893e9fe'), 'CustomerID': '0037', 'Genre': 'Female', 'Annual Income (k$)': '34', 'Spending Score (1-100)': '17', 'NewAge': '100'}\n",
      "{'_id': ObjectId('5e9ab56dcd498716e893e9ff'), 'CustomerID': '0038', 'Genre': 'Female', 'Annual Income (k$)': '34', 'Spending Score (1-100)': '73', 'NewAge': '100'}\n",
      "{'_id': ObjectId('5e9ab56dcd498716e893ea00'), 'CustomerID': '0039', 'Genre': 'Female', 'Annual Income (k$)': '37', 'Spending Score (1-100)': '26', 'NewAge': '100'}\n",
      "{'_id': ObjectId('5e9ab56dcd498716e893ea02'), 'CustomerID': '0041', 'Genre': 'Female', 'Annual Income (k$)': '38', 'Spending Score (1-100)': '35', 'NewAge': '65'}\n",
      "{'_id': ObjectId('5e9ab56dcd498716e893ea04'), 'CustomerID': '0043', 'Genre': 'Male', 'Annual Income (k$)': '39', 'Spending Score (1-100)': '36', 'NewAge': '48'}\n",
      "{'_id': ObjectId('5e9ab56dcd498716e893ea05'), 'CustomerID': '0044', 'Genre': 'Female', 'Annual Income (k$)': '39', 'Spending Score (1-100)': '61', 'NewAge': '31'}\n",
      "{'_id': ObjectId('5e9ab56dcd498716e893ea06'), 'CustomerID': '0045', 'Genre': 'Female', 'Annual Income (k$)': '39', 'Spending Score (1-100)': '28', 'NewAge': '49'}\n",
      "{'_id': ObjectId('5e9ab56dcd498716e893ea08'), 'CustomerID': '0047', 'Genre': 'Female', 'Annual Income (k$)': '40', 'Spending Score (1-100)': '55', 'NewAge': '50'}\n",
      "{'_id': ObjectId('5e9ab56dcd498716e893ea0b'), 'CustomerID': '0050', 'Genre': 'Female', 'Annual Income (k$)': '40', 'Spending Score (1-100)': '42', 'NewAge': '31'}\n",
      "{'_id': ObjectId('5e9ab56dcd498716e893ea0c'), 'CustomerID': '0051', 'Genre': 'Female', 'Annual Income (k$)': '42', 'Spending Score (1-100)': '52', 'NewAge': '49'}\n",
      "{'_id': ObjectId('5e9ab56dcd498716e893ea0d'), 'CustomerID': '0052', 'Genre': 'Male', 'Annual Income (k$)': '42', 'Spending Score (1-100)': '60', 'NewAge': '33'}\n",
      "{'_id': ObjectId('5e9ab56dcd498716e893ea0e'), 'CustomerID': '0053', 'Genre': 'Female', 'Annual Income (k$)': '43', 'Spending Score (1-100)': '54', 'NewAge': '31'}\n",
      "{'_id': ObjectId('5e9ab56dcd498716e893ea0f'), 'CustomerID': '0054', 'Genre': 'Male', 'Annual Income (k$)': '43', 'Spending Score (1-100)': '60', 'NewAge': '59'}\n",
      "{'_id': ObjectId('5e9ab56dcd498716e893ea10'), 'CustomerID': '0055', 'Genre': 'Female', 'Annual Income (k$)': '43', 'Spending Score (1-100)': '45', 'NewAge': '50'}\n",
      "{'_id': ObjectId('5e9ab56dcd498716e893ea11'), 'CustomerID': '0056', 'Genre': 'Male', 'Annual Income (k$)': '43', 'Spending Score (1-100)': '41', 'NewAge': '47'}\n",
      "{'_id': ObjectId('5e9ab56dcd498716e893ea12'), 'CustomerID': '0057', 'Genre': 'Female', 'Annual Income (k$)': '44', 'Spending Score (1-100)': '50', 'NewAge': '51'}\n",
      "{'_id': ObjectId('5e9ab56dcd498716e893ea13'), 'CustomerID': '0058', 'Genre': 'Male', 'Annual Income (k$)': '44', 'Spending Score (1-100)': '46', 'NewAge': '69'}\n",
      "{'_id': ObjectId('5e9ab56dcd498716e893ea15'), 'CustomerID': '0060', 'Genre': 'Male', 'Annual Income (k$)': '46', 'Spending Score (1-100)': '46', 'NewAge': '53'}\n",
      "{'_id': ObjectId('5e9ab56dcd498716e893ea16'), 'CustomerID': '0061', 'Genre': 'Male', 'Annual Income (k$)': '46', 'Spending Score (1-100)': '56', 'NewAge': '70'}\n",
      "{'_id': ObjectId('5e9ab56dcd498716e893ea17'), 'CustomerID': '0062', 'Genre': 'Male', 'Annual Income (k$)': '46', 'Spending Score (1-100)': '55', 'NewAge': '19'}\n",
      "{'_id': ObjectId('5e9ab56dcd498716e893ea18'), 'CustomerID': '0063', 'Genre': 'Female', 'Annual Income (k$)': '47', 'Spending Score (1-100)': '52', 'NewAge': '67'}\n",
      "{'_id': ObjectId('5e9ab56dcd498716e893ea19'), 'CustomerID': '0064', 'Genre': 'Female', 'Annual Income (k$)': '47', 'Spending Score (1-100)': '59', 'NewAge': '54'}\n",
      "{'_id': ObjectId('5e9ab56dcd498716e893ea1a'), 'CustomerID': '0065', 'Genre': 'Male', 'Annual Income (k$)': '48', 'Spending Score (1-100)': '51', 'NewAge': '63'}\n",
      "{'_id': ObjectId('5e9ab56dcd498716e893ea1b'), 'CustomerID': '0066', 'Genre': 'Male', 'Annual Income (k$)': '48', 'Spending Score (1-100)': '59', 'NewAge': '18'}\n",
      "{'_id': ObjectId('5e9ab56dcd498716e893ea1c'), 'CustomerID': '0067', 'Genre': 'Female', 'Annual Income (k$)': '48', 'Spending Score (1-100)': '50', 'NewAge': '43'}\n",
      "{'_id': ObjectId('5e9ab56dcd498716e893ea1d'), 'CustomerID': '0068', 'Genre': 'Female', 'Annual Income (k$)': '48', 'Spending Score (1-100)': '48', 'NewAge': '68'}\n",
      "{'_id': ObjectId('5e9ab56dcd498716e893ea1e'), 'CustomerID': '0069', 'Genre': 'Male', 'Annual Income (k$)': '48', 'Spending Score (1-100)': '59', 'NewAge': '19'}\n",
      "{'_id': ObjectId('5e9ab56dcd498716e893ea1f'), 'CustomerID': '0070', 'Genre': 'Female', 'Annual Income (k$)': '48', 'Spending Score (1-100)': '47', 'NewAge': '32'}\n",
      "{'_id': ObjectId('5e9ab56dcd498716e893ea20'), 'CustomerID': '0071', 'Genre': 'Male', 'Annual Income (k$)': '49', 'Spending Score (1-100)': '55', 'NewAge': '70'}\n",
      "{'_id': ObjectId('5e9ab56dcd498716e893ea21'), 'CustomerID': '0072', 'Genre': 'Female', 'Annual Income (k$)': '49', 'Spending Score (1-100)': '42', 'NewAge': '47'}\n",
      "{'_id': ObjectId('5e9ab56dcd498716e893ea22'), 'CustomerID': '0073', 'Genre': 'Female', 'Annual Income (k$)': '50', 'Spending Score (1-100)': '49', 'NewAge': '60'}\n",
      "{'_id': ObjectId('5e9ab56dcd498716e893ea23'), 'CustomerID': '0074', 'Genre': 'Female', 'Annual Income (k$)': '50', 'Spending Score (1-100)': '56', 'NewAge': '60'}\n",
      "{'_id': ObjectId('5e9ab56dcd498716e893ea24'), 'CustomerID': '0075', 'Genre': 'Male', 'Annual Income (k$)': '54', 'Spending Score (1-100)': '47', 'NewAge': '59'}\n",
      "{'_id': ObjectId('5e9ab56dcd498716e893ea26'), 'CustomerID': '0077', 'Genre': 'Female', 'Annual Income (k$)': '54', 'Spending Score (1-100)': '53', 'NewAge': '45'}\n",
      "{'_id': ObjectId('5e9ab56dcd498716e893ea27'), 'CustomerID': '0078', 'Genre': 'Male', 'Annual Income (k$)': '54', 'Spending Score (1-100)': '48', 'NewAge': '40'}\n",
      "{'_id': ObjectId('5e9ab56dcd498716e893ea29'), 'CustomerID': '0080', 'Genre': 'Female', 'Annual Income (k$)': '54', 'Spending Score (1-100)': '42', 'NewAge': '49'}\n",
      "{'_id': ObjectId('5e9ab56dcd498716e893ea2a'), 'CustomerID': '0081', 'Genre': 'Male', 'Annual Income (k$)': '54', 'Spending Score (1-100)': '51', 'NewAge': '57'}\n",
      "{'_id': ObjectId('5e9ab56dcd498716e893ea2b'), 'CustomerID': '0082', 'Genre': 'Male', 'Annual Income (k$)': '54', 'Spending Score (1-100)': '55', 'NewAge': '38'}\n",
      "{'_id': ObjectId('5e9ab56dcd498716e893ea2c'), 'CustomerID': '0083', 'Genre': 'Male', 'Annual Income (k$)': '54', 'Spending Score (1-100)': '41', 'NewAge': '67'}\n",
      "{'_id': ObjectId('5e9ab56dcd498716e893ea2d'), 'CustomerID': '0084', 'Genre': 'Female', 'Annual Income (k$)': '54', 'Spending Score (1-100)': '44', 'NewAge': '46'}\n",
      "{'_id': ObjectId('5e9ab56dcd498716e893ea2f'), 'CustomerID': '0086', 'Genre': 'Male', 'Annual Income (k$)': '54', 'Spending Score (1-100)': '46', 'NewAge': '48'}\n",
      "{'_id': ObjectId('5e9ab56dcd498716e893ea30'), 'CustomerID': '0087', 'Genre': 'Female', 'Annual Income (k$)': '57', 'Spending Score (1-100)': '58', 'NewAge': '55'}\n",
      "{'_id': ObjectId('5e9ab56dcd498716e893ea32'), 'CustomerID': '0089', 'Genre': 'Female', 'Annual Income (k$)': '58', 'Spending Score (1-100)': '60', 'NewAge': '34'}\n",
      "{'_id': ObjectId('5e9ab56dcd498716e893ea33'), 'CustomerID': '0090', 'Genre': 'Female', 'Annual Income (k$)': '58', 'Spending Score (1-100)': '46', 'NewAge': '50'}\n",
      "{'_id': ObjectId('5e9ab56dcd498716e893ea34'), 'CustomerID': '0091', 'Genre': 'Female', 'Annual Income (k$)': '59', 'Spending Score (1-100)': '55', 'NewAge': '68'}\n",
      "{'_id': ObjectId('5e9ab56dcd498716e893ea35'), 'CustomerID': '0092', 'Genre': 'Male', 'Annual Income (k$)': '59', 'Spending Score (1-100)': '41', 'NewAge': '18'}\n",
      "{'_id': ObjectId('5e9ab56dcd498716e893ea36'), 'CustomerID': '0093', 'Genre': 'Male', 'Annual Income (k$)': '60', 'Spending Score (1-100)': '49', 'NewAge': '48'}\n",
      "{'_id': ObjectId('5e9ab56dcd498716e893ea37'), 'CustomerID': '0094', 'Genre': 'Female', 'Annual Income (k$)': '60', 'Spending Score (1-100)': '40', 'NewAge': '40'}\n",
      "{'_id': ObjectId('5e9ab56dcd498716e893ea38'), 'CustomerID': '0095', 'Genre': 'Female', 'Annual Income (k$)': '60', 'Spending Score (1-100)': '42', 'NewAge': '32'}\n",
      "{'_id': ObjectId('5e9ab56dcd498716e893ea3a'), 'CustomerID': '0097', 'Genre': 'Female', 'Annual Income (k$)': '60', 'Spending Score (1-100)': '47', 'NewAge': '47'}\n",
      "{'_id': ObjectId('5e9ab56dcd498716e893ea3c'), 'CustomerID': '0099', 'Genre': 'Male', 'Annual Income (k$)': '61', 'Spending Score (1-100)': '42', 'NewAge': '48'}\n",
      "{'_id': ObjectId('5e9ab56dcd498716e893ea3f'), 'CustomerID': '0102', 'Genre': 'Female', 'Annual Income (k$)': '62', 'Spending Score (1-100)': '48', 'NewAge': '49'}\n",
      "{'_id': ObjectId('5e9ab56dcd498716e893ea40'), 'CustomerID': '0103', 'Genre': 'Male', 'Annual Income (k$)': '62', 'Spending Score (1-100)': '59', 'NewAge': '67'}\n",
      "{'_id': ObjectId('5e9ab56dcd498716e893ea42'), 'CustomerID': '0105', 'Genre': 'Male', 'Annual Income (k$)': '62', 'Spending Score (1-100)': '56', 'NewAge': '49'}\n",
      "{'_id': ObjectId('5e9ab56dcd498716e893ea44'), 'CustomerID': '0107', 'Genre': 'Female', 'Annual Income (k$)': '63', 'Spending Score (1-100)': '50', 'NewAge': '66'}\n",
      "{'_id': ObjectId('5e9ab56dcd498716e893ea45'), 'CustomerID': '0108', 'Genre': 'Male', 'Annual Income (k$)': '63', 'Spending Score (1-100)': '46', 'NewAge': '54'}\n",
      "{'_id': ObjectId('5e9ab56dcd498716e893ea46'), 'CustomerID': '0109', 'Genre': 'Male', 'Annual Income (k$)': '63', 'Spending Score (1-100)': '43', 'NewAge': '68'}\n",
      "{'_id': ObjectId('5e9ab56dcd498716e893ea47'), 'CustomerID': '0110', 'Genre': 'Male', 'Annual Income (k$)': '63', 'Spending Score (1-100)': '48', 'NewAge': '66'}\n",
      "{'_id': ObjectId('5e9ab56dcd498716e893ea48'), 'CustomerID': '0111', 'Genre': 'Male', 'Annual Income (k$)': '63', 'Spending Score (1-100)': '52', 'NewAge': '65'}\n",
      "{'_id': ObjectId('5e9ab56dcd498716e893ea49'), 'CustomerID': '0112', 'Genre': 'Female', 'Annual Income (k$)': '63', 'Spending Score (1-100)': '54', 'NewAge': '19'}\n",
      "{'_id': ObjectId('5e9ab56dcd498716e893ea4a'), 'CustomerID': '0113', 'Genre': 'Female', 'Annual Income (k$)': '64', 'Spending Score (1-100)': '42', 'NewAge': '38'}\n",
      "{'_id': ObjectId('5e9ab56dcd498716e893ea4b'), 'CustomerID': '0114', 'Genre': 'Male', 'Annual Income (k$)': '64', 'Spending Score (1-100)': '46', 'NewAge': '19'}\n",
      "{'_id': ObjectId('5e9ab56dcd498716e893ea4c'), 'CustomerID': '0115', 'Genre': 'Female', 'Annual Income (k$)': '65', 'Spending Score (1-100)': '48', 'NewAge': '18'}\n",
      "{'_id': ObjectId('5e9ab56dcd498716e893ea4d'), 'CustomerID': '0116', 'Genre': 'Female', 'Annual Income (k$)': '65', 'Spending Score (1-100)': '50', 'NewAge': '19'}\n",
      "{'_id': ObjectId('5e9ab56dcd498716e893ea4e'), 'CustomerID': '0117', 'Genre': 'Female', 'Annual Income (k$)': '65', 'Spending Score (1-100)': '43', 'NewAge': '63'}\n",
      "{'_id': ObjectId('5e9ab56dcd498716e893ea4f'), 'CustomerID': '0118', 'Genre': 'Female', 'Annual Income (k$)': '65', 'Spending Score (1-100)': '59', 'NewAge': '49'}\n",
      "{'_id': ObjectId('5e9ab56dcd498716e893ea50'), 'CustomerID': '0119', 'Genre': 'Female', 'Annual Income (k$)': '67', 'Spending Score (1-100)': '43', 'NewAge': '51'}\n",
      "{'_id': ObjectId('5e9ab56dcd498716e893ea51'), 'CustomerID': '0120', 'Genre': 'Female', 'Annual Income (k$)': '67', 'Spending Score (1-100)': '57', 'NewAge': '50'}\n",
      "{'_id': ObjectId('5e9ab56dcd498716e893ea53'), 'CustomerID': '0122', 'Genre': 'Female', 'Annual Income (k$)': '67', 'Spending Score (1-100)': '40', 'NewAge': '38'}\n",
      "{'_id': ObjectId('5e9ab56dcd498716e893ea54'), 'CustomerID': '0123', 'Genre': 'Female', 'Annual Income (k$)': '69', 'Spending Score (1-100)': '58', 'NewAge': '40'}\n",
      "{'_id': ObjectId('5e9ab56dcd498716e893ea55'), 'CustomerID': '0124', 'Genre': 'Male', 'Annual Income (k$)': '69', 'Spending Score (1-100)': '91', 'NewAge': '39'}\n",
      "{'_id': ObjectId('5e9ab56dcd498716e893ea57'), 'CustomerID': '0126', 'Genre': 'Female', 'Annual Income (k$)': '70', 'Spending Score (1-100)': '77', 'NewAge': '31'}\n",
      "{'_id': ObjectId('5e9ab56dcd498716e893ea58'), 'CustomerID': '0127', 'Genre': 'Male', 'Annual Income (k$)': '71', 'Spending Score (1-100)': '35', 'NewAge': '43'}\n",
      "{'_id': ObjectId('5e9ab56dcd498716e893ea59'), 'CustomerID': '0128', 'Genre': 'Male', 'Annual Income (k$)': '71', 'Spending Score (1-100)': '95', 'NewAge': '40'}\n",
      "{'_id': ObjectId('5e9ab56dcd498716e893ea5a'), 'CustomerID': '0129', 'Genre': 'Male', 'Annual Income (k$)': '71', 'Spending Score (1-100)': '11', 'NewAge': '59'}\n",
      "{'_id': ObjectId('5e9ab56dcd498716e893ea5b'), 'CustomerID': '0130', 'Genre': 'Male', 'Annual Income (k$)': '71', 'Spending Score (1-100)': '75', 'NewAge': '38'}\n",
      "{'_id': ObjectId('5e9ab56dcd498716e893ea5c'), 'CustomerID': '0131', 'Genre': 'Male', 'Annual Income (k$)': '71', 'Spending Score (1-100)': '9', 'NewAge': '47'}\n",
      "{'_id': ObjectId('5e9ab56dcd498716e893ea5d'), 'CustomerID': '0132', 'Genre': 'Male', 'Annual Income (k$)': '71', 'Spending Score (1-100)': '75', 'NewAge': '39'}\n",
      "{'_id': ObjectId('5e9ab56dcd498716e893ea5f'), 'CustomerID': '0134', 'Genre': 'Female', 'Annual Income (k$)': '72', 'Spending Score (1-100)': '71', 'NewAge': '31'}\n",
      "{'_id': ObjectId('5e9ab56dcd498716e893ea62'), 'CustomerID': '0137', 'Genre': 'Female', 'Annual Income (k$)': '73', 'Spending Score (1-100)': '7', 'NewAge': '44'}\n",
      "{'_id': ObjectId('5e9ab56dcd498716e893ea63'), 'CustomerID': '0138', 'Genre': 'Male', 'Annual Income (k$)': '73', 'Spending Score (1-100)': '73', 'NewAge': '32'}\n",
      "{'_id': ObjectId('5e9ab56dcd498716e893ea64'), 'CustomerID': '0139', 'Genre': 'Male', 'Annual Income (k$)': '74', 'Spending Score (1-100)': '10', 'NewAge': '19'}\n",
      "{'_id': ObjectId('5e9ab56dcd498716e893ea65'), 'CustomerID': '0140', 'Genre': 'Female', 'Annual Income (k$)': '74', 'Spending Score (1-100)': '72', 'NewAge': '35'}\n",
      "{'_id': ObjectId('5e9ab56dcd498716e893ea66'), 'CustomerID': '0141', 'Genre': 'Female', 'Annual Income (k$)': '75', 'Spending Score (1-100)': '5', 'NewAge': '57'}\n",
      "{'_id': ObjectId('5e9ab56dcd498716e893ea67'), 'CustomerID': '0142', 'Genre': 'Male', 'Annual Income (k$)': '75', 'Spending Score (1-100)': '93', 'NewAge': '32'}\n",
      "{'_id': ObjectId('5e9ab56dcd498716e893ea69'), 'CustomerID': '0144', 'Genre': 'Female', 'Annual Income (k$)': '76', 'Spending Score (1-100)': '87', 'NewAge': '32'}\n",
      "{'_id': ObjectId('5e9ab56dcd498716e893ea6c'), 'CustomerID': '0147', 'Genre': 'Male', 'Annual Income (k$)': '77', 'Spending Score (1-100)': '36', 'NewAge': '48'}\n",
      "{'_id': ObjectId('5e9ab56dcd498716e893ea6d'), 'CustomerID': '0148', 'Genre': 'Female', 'Annual Income (k$)': '77', 'Spending Score (1-100)': '74', 'NewAge': '32'}\n",
      "{'_id': ObjectId('5e9ab56dcd498716e893ea6e'), 'CustomerID': '0149', 'Genre': 'Female', 'Annual Income (k$)': '78', 'Spending Score (1-100)': '22', 'NewAge': '34'}\n",
      "{'_id': ObjectId('5e9ab56dcd498716e893ea6f'), 'CustomerID': '0150', 'Genre': 'Male', 'Annual Income (k$)': '78', 'Spending Score (1-100)': '90', 'NewAge': '34'}\n",
      "{'_id': ObjectId('5e9ab56dcd498716e893ea70'), 'CustomerID': '0151', 'Genre': 'Male', 'Annual Income (k$)': '78', 'Spending Score (1-100)': '17', 'NewAge': '43'}\n",
      "{'_id': ObjectId('5e9ab56dcd498716e893ea71'), 'CustomerID': '0152', 'Genre': 'Male', 'Annual Income (k$)': '78', 'Spending Score (1-100)': '88', 'NewAge': '39'}\n",
      "{'_id': ObjectId('5e9ab56dcd498716e893ea72'), 'CustomerID': '0153', 'Genre': 'Female', 'Annual Income (k$)': '78', 'Spending Score (1-100)': '20', 'NewAge': '44'}\n",
      "{'_id': ObjectId('5e9ab56dcd498716e893ea73'), 'CustomerID': '0154', 'Genre': 'Female', 'Annual Income (k$)': '78', 'Spending Score (1-100)': '76', 'NewAge': '38'}\n",
      "{'_id': ObjectId('5e9ab56dcd498716e893ea74'), 'CustomerID': '0155', 'Genre': 'Female', 'Annual Income (k$)': '78', 'Spending Score (1-100)': '16', 'NewAge': '47'}\n",
      "{'_id': ObjectId('5e9ab56dcd498716e893ea76'), 'CustomerID': '0157', 'Genre': 'Male', 'Annual Income (k$)': '78', 'Spending Score (1-100)': '1', 'NewAge': '37'}\n",
      "{'_id': ObjectId('5e9ab56dcd498716e893ea77'), 'CustomerID': '0158', 'Genre': 'Female', 'Annual Income (k$)': '78', 'Spending Score (1-100)': '78', 'NewAge': '30'}\n",
      "{'_id': ObjectId('5e9ab56dcd498716e893ea78'), 'CustomerID': '0159', 'Genre': 'Male', 'Annual Income (k$)': '78', 'Spending Score (1-100)': '1', 'NewAge': '34'}\n",
      "{'_id': ObjectId('5e9ab56dcd498716e893ea79'), 'CustomerID': '0160', 'Genre': 'Female', 'Annual Income (k$)': '78', 'Spending Score (1-100)': '73', 'NewAge': '30'}\n",
      "{'_id': ObjectId('5e9ab56dcd498716e893ea7a'), 'CustomerID': '0161', 'Genre': 'Female', 'Annual Income (k$)': '79', 'Spending Score (1-100)': '35', 'NewAge': '56'}\n",
      "{'_id': ObjectId('5e9ab56dcd498716e893ea7c'), 'CustomerID': '0163', 'Genre': 'Male', 'Annual Income (k$)': '81', 'Spending Score (1-100)': '5', 'NewAge': '19'}\n",
      "{'_id': ObjectId('5e9ab56dcd498716e893ea7d'), 'CustomerID': '0164', 'Genre': 'Female', 'Annual Income (k$)': '81', 'Spending Score (1-100)': '93', 'NewAge': '31'}\n",
      "{'_id': ObjectId('5e9ab56dcd498716e893ea7e'), 'CustomerID': '0165', 'Genre': 'Male', 'Annual Income (k$)': '85', 'Spending Score (1-100)': '26', 'NewAge': '50'}\n",
      "{'_id': ObjectId('5e9ab56dcd498716e893ea7f'), 'CustomerID': '0166', 'Genre': 'Female', 'Annual Income (k$)': '85', 'Spending Score (1-100)': '75', 'NewAge': '36'}\n",
      "{'_id': ObjectId('5e9ab56dcd498716e893ea80'), 'CustomerID': '0167', 'Genre': 'Male', 'Annual Income (k$)': '86', 'Spending Score (1-100)': '20', 'NewAge': '42'}\n",
      "{'_id': ObjectId('5e9ab56dcd498716e893ea81'), 'CustomerID': '0168', 'Genre': 'Female', 'Annual Income (k$)': '86', 'Spending Score (1-100)': '95', 'NewAge': '33'}\n",
      "{'_id': ObjectId('5e9ab56dcd498716e893ea82'), 'CustomerID': '0169', 'Genre': 'Female', 'Annual Income (k$)': '87', 'Spending Score (1-100)': '27', 'NewAge': '36'}\n",
      "{'_id': ObjectId('5e9ab56dcd498716e893ea83'), 'CustomerID': '0170', 'Genre': 'Male', 'Annual Income (k$)': '87', 'Spending Score (1-100)': '63', 'NewAge': '32'}\n",
      "{'_id': ObjectId('5e9ab56dcd498716e893ea84'), 'CustomerID': '0171', 'Genre': 'Male', 'Annual Income (k$)': '87', 'Spending Score (1-100)': '13', 'NewAge': '40'}\n",
      "{'_id': ObjectId('5e9ab56dcd498716e893ea86'), 'CustomerID': '0173', 'Genre': 'Male', 'Annual Income (k$)': '87', 'Spending Score (1-100)': '10', 'NewAge': '36'}\n",
      "{'_id': ObjectId('5e9ab56dcd498716e893ea87'), 'CustomerID': '0174', 'Genre': 'Male', 'Annual Income (k$)': '87', 'Spending Score (1-100)': '92', 'NewAge': '36'}\n",
      "{'_id': ObjectId('5e9ab56dcd498716e893ea88'), 'CustomerID': '0175', 'Genre': 'Female', 'Annual Income (k$)': '88', 'Spending Score (1-100)': '13', 'NewAge': '52'}\n",
      "{'_id': ObjectId('5e9ab56dcd498716e893ea89'), 'CustomerID': '0176', 'Genre': 'Female', 'Annual Income (k$)': '88', 'Spending Score (1-100)': '86', 'NewAge': '30'}\n",
      "{'_id': ObjectId('5e9ab56dcd498716e893ea8a'), 'CustomerID': '0177', 'Genre': 'Male', 'Annual Income (k$)': '88', 'Spending Score (1-100)': '15', 'NewAge': '58'}\n",
      "{'_id': ObjectId('5e9ab56dcd498716e893ea8c'), 'CustomerID': '0179', 'Genre': 'Male', 'Annual Income (k$)': '93', 'Spending Score (1-100)': '14', 'NewAge': '59'}\n",
      "{'_id': ObjectId('5e9ab56dcd498716e893ea8d'), 'CustomerID': '0180', 'Genre': 'Male', 'Annual Income (k$)': '93', 'Spending Score (1-100)': '90', 'NewAge': '35'}\n",
      "{'_id': ObjectId('5e9ab56dcd498716e893ea8e'), 'CustomerID': '0181', 'Genre': 'Female', 'Annual Income (k$)': '97', 'Spending Score (1-100)': '32', 'NewAge': '37'}\n",
      "{'_id': ObjectId('5e9ab56dcd498716e893ea8f'), 'CustomerID': '0182', 'Genre': 'Female', 'Annual Income (k$)': '97', 'Spending Score (1-100)': '86', 'NewAge': '32'}\n",
      "{'_id': ObjectId('5e9ab56dcd498716e893ea90'), 'CustomerID': '0183', 'Genre': 'Male', 'Annual Income (k$)': '98', 'Spending Score (1-100)': '15', 'NewAge': '46'}\n",
      "{'_id': ObjectId('5e9ab56dcd498716e893ea92'), 'CustomerID': '0185', 'Genre': 'Female', 'Annual Income (k$)': '99', 'Spending Score (1-100)': '39', 'NewAge': '41'}\n",
      "{'_id': ObjectId('5e9ab56dcd498716e893ea93'), 'CustomerID': '0186', 'Genre': 'Male', 'Annual Income (k$)': '99', 'Spending Score (1-100)': '97', 'NewAge': '30'}\n",
      "{'_id': ObjectId('5e9ab56dcd498716e893ea94'), 'CustomerID': '0187', 'Genre': 'Female', 'Annual Income (k$)': '101', 'Spending Score (1-100)': '24', 'NewAge': '54'}\n",
      "{'_id': ObjectId('5e9ab56dcd498716e893ea96'), 'CustomerID': '0189', 'Genre': 'Female', 'Annual Income (k$)': '103', 'Spending Score (1-100)': '17', 'NewAge': '41'}\n",
      "{'_id': ObjectId('5e9ab56dcd498716e893ea97'), 'CustomerID': '0190', 'Genre': 'Female', 'Annual Income (k$)': '103', 'Spending Score (1-100)': '85', 'NewAge': '36'}\n",
      "{'_id': ObjectId('5e9ab56dcd498716e893ea98'), 'CustomerID': '0191', 'Genre': 'Female', 'Annual Income (k$)': '103', 'Spending Score (1-100)': '23', 'NewAge': '34'}\n",
      "{'_id': ObjectId('5e9ab56dcd498716e893ea99'), 'CustomerID': '0192', 'Genre': 'Female', 'Annual Income (k$)': '103', 'Spending Score (1-100)': '69', 'NewAge': '32'}\n",
      "{'_id': ObjectId('5e9ab56dcd498716e893ea9a'), 'CustomerID': '0193', 'Genre': 'Male', 'Annual Income (k$)': '113', 'Spending Score (1-100)': '8', 'NewAge': '33'}\n",
      "{'_id': ObjectId('5e9ab56dcd498716e893ea9b'), 'CustomerID': '0194', 'Genre': 'Female', 'Annual Income (k$)': '113', 'Spending Score (1-100)': '91', 'NewAge': '38'}\n",
      "{'_id': ObjectId('5e9ab56dcd498716e893ea9c'), 'CustomerID': '0195', 'Genre': 'Female', 'Annual Income (k$)': '120', 'Spending Score (1-100)': '16', 'NewAge': '47'}\n",
      "{'_id': ObjectId('5e9ab56dcd498716e893ea9d'), 'CustomerID': '0196', 'Genre': 'Female', 'Annual Income (k$)': '120', 'Spending Score (1-100)': '79', 'NewAge': '35'}\n",
      "{'_id': ObjectId('5e9ab56dcd498716e893ea9e'), 'CustomerID': '0197', 'Genre': 'Female', 'Annual Income (k$)': '126', 'Spending Score (1-100)': '28', 'NewAge': '45'}\n",
      "{'_id': ObjectId('5e9ab56dcd498716e893ea9f'), 'CustomerID': '0198', 'Genre': 'Male', 'Annual Income (k$)': '126', 'Spending Score (1-100)': '74', 'NewAge': '32'}\n",
      "{'_id': ObjectId('5e9ab56dcd498716e893eaa0'), 'CustomerID': '0199', 'Genre': 'Male', 'Annual Income (k$)': '137', 'Spending Score (1-100)': '18', 'NewAge': '32'}\n"
     ]
    }
   ],
   "source": [
    "for i in tab3.find():\n",
    "    print(i)"
   ]
  },
  {
   "cell_type": "code",
   "execution_count": 170,
   "metadata": {},
   "outputs": [],
   "source": [
    "x2 = tab3.find()"
   ]
  },
  {
   "cell_type": "code",
   "execution_count": 171,
   "metadata": {},
   "outputs": [
    {
     "name": "stdout",
     "output_type": "stream",
     "text": [
      "{'_id': ObjectId('5e9ab56dcd498716e893e9da'), 'CustomerID': '0001', 'Genre': 'Male', 'Annual Income (k$)': '15', 'Spending Score (1-100)': '39', 'NewAge': '19'}\n",
      "{'_id': ObjectId('5e9ab56dcd498716e893e9e2'), 'CustomerID': '0009', 'Genre': 'Male', 'Annual Income (k$)': '19', 'Spending Score (1-100)': '3', 'NewAge': '64'}\n",
      "{'_id': ObjectId('5e9ab56dcd498716e893e9e4'), 'CustomerID': '0011', 'Genre': 'Male', 'Annual Income (k$)': '19', 'Spending Score (1-100)': '14', 'NewAge': '67'}\n",
      "{'_id': ObjectId('5e9ab56dcd498716e893e9e8'), 'CustomerID': '0015', 'Genre': 'Male', 'Annual Income (k$)': '20', 'Spending Score (1-100)': '13', 'NewAge': '37'}\n",
      "{'_id': ObjectId('5e9ab56dcd498716e893e9ec'), 'CustomerID': '0019', 'Genre': 'Male', 'Annual Income (k$)': '23', 'Spending Score (1-100)': '29', 'NewAge': '52'}\n",
      "{'_id': ObjectId('5e9ab56dcd498716e893e9ee'), 'CustomerID': '0021', 'Genre': 'Male', 'Annual Income (k$)': '24', 'Spending Score (1-100)': '35', 'NewAge': '35'}\n",
      "{'_id': ObjectId('5e9ab56dcd498716e893e9f1'), 'CustomerID': '0024', 'Genre': 'Male', 'Annual Income (k$)': '25', 'Spending Score (1-100)': '73', 'NewAge': '31'}\n",
      "{'_id': ObjectId('5e9ab56dcd498716e893e9f5'), 'CustomerID': '0028', 'Genre': 'Male', 'Annual Income (k$)': '28', 'Spending Score (1-100)': '61', 'NewAge': '35'}\n",
      "{'_id': ObjectId('5e9ab56dcd498716e893e9f8'), 'CustomerID': '0031', 'Genre': 'Male', 'Annual Income (k$)': '30', 'Spending Score (1-100)': '4', 'NewAge': '100'}\n",
      "{'_id': ObjectId('5e9ab56dcd498716e893e9fa'), 'CustomerID': '0033', 'Genre': 'Male', 'Annual Income (k$)': '33', 'Spending Score (1-100)': '4', 'NewAge': '100'}\n",
      "{'_id': ObjectId('5e9ab56dcd498716e893e9fb'), 'CustomerID': '0034', 'Genre': 'Male', 'Annual Income (k$)': '33', 'Spending Score (1-100)': '92', 'NewAge': '100'}\n",
      "{'_id': ObjectId('5e9ab56dcd498716e893ea04'), 'CustomerID': '0043', 'Genre': 'Male', 'Annual Income (k$)': '39', 'Spending Score (1-100)': '36', 'NewAge': '48'}\n",
      "{'_id': ObjectId('5e9ab56dcd498716e893ea0d'), 'CustomerID': '0052', 'Genre': 'Male', 'Annual Income (k$)': '42', 'Spending Score (1-100)': '60', 'NewAge': '33'}\n",
      "{'_id': ObjectId('5e9ab56dcd498716e893ea0f'), 'CustomerID': '0054', 'Genre': 'Male', 'Annual Income (k$)': '43', 'Spending Score (1-100)': '60', 'NewAge': '59'}\n",
      "{'_id': ObjectId('5e9ab56dcd498716e893ea11'), 'CustomerID': '0056', 'Genre': 'Male', 'Annual Income (k$)': '43', 'Spending Score (1-100)': '41', 'NewAge': '47'}\n",
      "{'_id': ObjectId('5e9ab56dcd498716e893ea13'), 'CustomerID': '0058', 'Genre': 'Male', 'Annual Income (k$)': '44', 'Spending Score (1-100)': '46', 'NewAge': '69'}\n",
      "{'_id': ObjectId('5e9ab56dcd498716e893ea15'), 'CustomerID': '0060', 'Genre': 'Male', 'Annual Income (k$)': '46', 'Spending Score (1-100)': '46', 'NewAge': '53'}\n",
      "{'_id': ObjectId('5e9ab56dcd498716e893ea16'), 'CustomerID': '0061', 'Genre': 'Male', 'Annual Income (k$)': '46', 'Spending Score (1-100)': '56', 'NewAge': '70'}\n",
      "{'_id': ObjectId('5e9ab56dcd498716e893ea17'), 'CustomerID': '0062', 'Genre': 'Male', 'Annual Income (k$)': '46', 'Spending Score (1-100)': '55', 'NewAge': '19'}\n",
      "{'_id': ObjectId('5e9ab56dcd498716e893ea1a'), 'CustomerID': '0065', 'Genre': 'Male', 'Annual Income (k$)': '48', 'Spending Score (1-100)': '51', 'NewAge': '63'}\n",
      "{'_id': ObjectId('5e9ab56dcd498716e893ea1b'), 'CustomerID': '0066', 'Genre': 'Male', 'Annual Income (k$)': '48', 'Spending Score (1-100)': '59', 'NewAge': '18'}\n",
      "{'_id': ObjectId('5e9ab56dcd498716e893ea1e'), 'CustomerID': '0069', 'Genre': 'Male', 'Annual Income (k$)': '48', 'Spending Score (1-100)': '59', 'NewAge': '19'}\n",
      "{'_id': ObjectId('5e9ab56dcd498716e893ea20'), 'CustomerID': '0071', 'Genre': 'Male', 'Annual Income (k$)': '49', 'Spending Score (1-100)': '55', 'NewAge': '70'}\n",
      "{'_id': ObjectId('5e9ab56dcd498716e893ea24'), 'CustomerID': '0075', 'Genre': 'Male', 'Annual Income (k$)': '54', 'Spending Score (1-100)': '47', 'NewAge': '59'}\n",
      "{'_id': ObjectId('5e9ab56dcd498716e893ea27'), 'CustomerID': '0078', 'Genre': 'Male', 'Annual Income (k$)': '54', 'Spending Score (1-100)': '48', 'NewAge': '40'}\n",
      "{'_id': ObjectId('5e9ab56dcd498716e893ea2a'), 'CustomerID': '0081', 'Genre': 'Male', 'Annual Income (k$)': '54', 'Spending Score (1-100)': '51', 'NewAge': '57'}\n",
      "{'_id': ObjectId('5e9ab56dcd498716e893ea2b'), 'CustomerID': '0082', 'Genre': 'Male', 'Annual Income (k$)': '54', 'Spending Score (1-100)': '55', 'NewAge': '38'}\n",
      "{'_id': ObjectId('5e9ab56dcd498716e893ea2c'), 'CustomerID': '0083', 'Genre': 'Male', 'Annual Income (k$)': '54', 'Spending Score (1-100)': '41', 'NewAge': '67'}\n",
      "{'_id': ObjectId('5e9ab56dcd498716e893ea2f'), 'CustomerID': '0086', 'Genre': 'Male', 'Annual Income (k$)': '54', 'Spending Score (1-100)': '46', 'NewAge': '48'}\n",
      "{'_id': ObjectId('5e9ab56dcd498716e893ea35'), 'CustomerID': '0092', 'Genre': 'Male', 'Annual Income (k$)': '59', 'Spending Score (1-100)': '41', 'NewAge': '18'}\n",
      "{'_id': ObjectId('5e9ab56dcd498716e893ea36'), 'CustomerID': '0093', 'Genre': 'Male', 'Annual Income (k$)': '60', 'Spending Score (1-100)': '49', 'NewAge': '48'}\n",
      "{'_id': ObjectId('5e9ab56dcd498716e893ea3c'), 'CustomerID': '0099', 'Genre': 'Male', 'Annual Income (k$)': '61', 'Spending Score (1-100)': '42', 'NewAge': '48'}\n",
      "{'_id': ObjectId('5e9ab56dcd498716e893ea40'), 'CustomerID': '0103', 'Genre': 'Male', 'Annual Income (k$)': '62', 'Spending Score (1-100)': '59', 'NewAge': '67'}\n",
      "{'_id': ObjectId('5e9ab56dcd498716e893ea42'), 'CustomerID': '0105', 'Genre': 'Male', 'Annual Income (k$)': '62', 'Spending Score (1-100)': '56', 'NewAge': '49'}\n",
      "{'_id': ObjectId('5e9ab56dcd498716e893ea45'), 'CustomerID': '0108', 'Genre': 'Male', 'Annual Income (k$)': '63', 'Spending Score (1-100)': '46', 'NewAge': '54'}\n",
      "{'_id': ObjectId('5e9ab56dcd498716e893ea46'), 'CustomerID': '0109', 'Genre': 'Male', 'Annual Income (k$)': '63', 'Spending Score (1-100)': '43', 'NewAge': '68'}\n",
      "{'_id': ObjectId('5e9ab56dcd498716e893ea47'), 'CustomerID': '0110', 'Genre': 'Male', 'Annual Income (k$)': '63', 'Spending Score (1-100)': '48', 'NewAge': '66'}\n",
      "{'_id': ObjectId('5e9ab56dcd498716e893ea48'), 'CustomerID': '0111', 'Genre': 'Male', 'Annual Income (k$)': '63', 'Spending Score (1-100)': '52', 'NewAge': '65'}\n",
      "{'_id': ObjectId('5e9ab56dcd498716e893ea4b'), 'CustomerID': '0114', 'Genre': 'Male', 'Annual Income (k$)': '64', 'Spending Score (1-100)': '46', 'NewAge': '19'}\n",
      "{'_id': ObjectId('5e9ab56dcd498716e893ea55'), 'CustomerID': '0124', 'Genre': 'Male', 'Annual Income (k$)': '69', 'Spending Score (1-100)': '91', 'NewAge': '39'}\n",
      "{'_id': ObjectId('5e9ab56dcd498716e893ea58'), 'CustomerID': '0127', 'Genre': 'Male', 'Annual Income (k$)': '71', 'Spending Score (1-100)': '35', 'NewAge': '43'}\n",
      "{'_id': ObjectId('5e9ab56dcd498716e893ea59'), 'CustomerID': '0128', 'Genre': 'Male', 'Annual Income (k$)': '71', 'Spending Score (1-100)': '95', 'NewAge': '40'}\n",
      "{'_id': ObjectId('5e9ab56dcd498716e893ea5a'), 'CustomerID': '0129', 'Genre': 'Male', 'Annual Income (k$)': '71', 'Spending Score (1-100)': '11', 'NewAge': '59'}\n",
      "{'_id': ObjectId('5e9ab56dcd498716e893ea5b'), 'CustomerID': '0130', 'Genre': 'Male', 'Annual Income (k$)': '71', 'Spending Score (1-100)': '75', 'NewAge': '38'}\n",
      "{'_id': ObjectId('5e9ab56dcd498716e893ea5c'), 'CustomerID': '0131', 'Genre': 'Male', 'Annual Income (k$)': '71', 'Spending Score (1-100)': '9', 'NewAge': '47'}\n",
      "{'_id': ObjectId('5e9ab56dcd498716e893ea5d'), 'CustomerID': '0132', 'Genre': 'Male', 'Annual Income (k$)': '71', 'Spending Score (1-100)': '75', 'NewAge': '39'}\n",
      "{'_id': ObjectId('5e9ab56dcd498716e893ea63'), 'CustomerID': '0138', 'Genre': 'Male', 'Annual Income (k$)': '73', 'Spending Score (1-100)': '73', 'NewAge': '32'}\n",
      "{'_id': ObjectId('5e9ab56dcd498716e893ea64'), 'CustomerID': '0139', 'Genre': 'Male', 'Annual Income (k$)': '74', 'Spending Score (1-100)': '10', 'NewAge': '19'}\n",
      "{'_id': ObjectId('5e9ab56dcd498716e893ea67'), 'CustomerID': '0142', 'Genre': 'Male', 'Annual Income (k$)': '75', 'Spending Score (1-100)': '93', 'NewAge': '32'}\n",
      "{'_id': ObjectId('5e9ab56dcd498716e893ea6c'), 'CustomerID': '0147', 'Genre': 'Male', 'Annual Income (k$)': '77', 'Spending Score (1-100)': '36', 'NewAge': '48'}\n",
      "{'_id': ObjectId('5e9ab56dcd498716e893ea6f'), 'CustomerID': '0150', 'Genre': 'Male', 'Annual Income (k$)': '78', 'Spending Score (1-100)': '90', 'NewAge': '34'}\n",
      "{'_id': ObjectId('5e9ab56dcd498716e893ea70'), 'CustomerID': '0151', 'Genre': 'Male', 'Annual Income (k$)': '78', 'Spending Score (1-100)': '17', 'NewAge': '43'}\n",
      "{'_id': ObjectId('5e9ab56dcd498716e893ea71'), 'CustomerID': '0152', 'Genre': 'Male', 'Annual Income (k$)': '78', 'Spending Score (1-100)': '88', 'NewAge': '39'}\n",
      "{'_id': ObjectId('5e9ab56dcd498716e893ea76'), 'CustomerID': '0157', 'Genre': 'Male', 'Annual Income (k$)': '78', 'Spending Score (1-100)': '1', 'NewAge': '37'}\n",
      "{'_id': ObjectId('5e9ab56dcd498716e893ea78'), 'CustomerID': '0159', 'Genre': 'Male', 'Annual Income (k$)': '78', 'Spending Score (1-100)': '1', 'NewAge': '34'}\n",
      "{'_id': ObjectId('5e9ab56dcd498716e893ea7c'), 'CustomerID': '0163', 'Genre': 'Male', 'Annual Income (k$)': '81', 'Spending Score (1-100)': '5', 'NewAge': '19'}\n",
      "{'_id': ObjectId('5e9ab56dcd498716e893ea7e'), 'CustomerID': '0165', 'Genre': 'Male', 'Annual Income (k$)': '85', 'Spending Score (1-100)': '26', 'NewAge': '50'}\n",
      "{'_id': ObjectId('5e9ab56dcd498716e893ea80'), 'CustomerID': '0167', 'Genre': 'Male', 'Annual Income (k$)': '86', 'Spending Score (1-100)': '20', 'NewAge': '42'}\n",
      "{'_id': ObjectId('5e9ab56dcd498716e893ea83'), 'CustomerID': '0170', 'Genre': 'Male', 'Annual Income (k$)': '87', 'Spending Score (1-100)': '63', 'NewAge': '32'}\n",
      "{'_id': ObjectId('5e9ab56dcd498716e893ea84'), 'CustomerID': '0171', 'Genre': 'Male', 'Annual Income (k$)': '87', 'Spending Score (1-100)': '13', 'NewAge': '40'}\n",
      "{'_id': ObjectId('5e9ab56dcd498716e893ea86'), 'CustomerID': '0173', 'Genre': 'Male', 'Annual Income (k$)': '87', 'Spending Score (1-100)': '10', 'NewAge': '36'}\n",
      "{'_id': ObjectId('5e9ab56dcd498716e893ea87'), 'CustomerID': '0174', 'Genre': 'Male', 'Annual Income (k$)': '87', 'Spending Score (1-100)': '92', 'NewAge': '36'}\n",
      "{'_id': ObjectId('5e9ab56dcd498716e893ea8a'), 'CustomerID': '0177', 'Genre': 'Male', 'Annual Income (k$)': '88', 'Spending Score (1-100)': '15', 'NewAge': '58'}\n",
      "{'_id': ObjectId('5e9ab56dcd498716e893ea8c'), 'CustomerID': '0179', 'Genre': 'Male', 'Annual Income (k$)': '93', 'Spending Score (1-100)': '14', 'NewAge': '59'}\n",
      "{'_id': ObjectId('5e9ab56dcd498716e893ea8d'), 'CustomerID': '0180', 'Genre': 'Male', 'Annual Income (k$)': '93', 'Spending Score (1-100)': '90', 'NewAge': '35'}\n",
      "{'_id': ObjectId('5e9ab56dcd498716e893ea90'), 'CustomerID': '0183', 'Genre': 'Male', 'Annual Income (k$)': '98', 'Spending Score (1-100)': '15', 'NewAge': '46'}\n",
      "{'_id': ObjectId('5e9ab56dcd498716e893ea93'), 'CustomerID': '0186', 'Genre': 'Male', 'Annual Income (k$)': '99', 'Spending Score (1-100)': '97', 'NewAge': '30'}\n",
      "{'_id': ObjectId('5e9ab56dcd498716e893ea9a'), 'CustomerID': '0193', 'Genre': 'Male', 'Annual Income (k$)': '113', 'Spending Score (1-100)': '8', 'NewAge': '33'}\n",
      "{'_id': ObjectId('5e9ab56dcd498716e893ea9f'), 'CustomerID': '0198', 'Genre': 'Male', 'Annual Income (k$)': '126', 'Spending Score (1-100)': '74', 'NewAge': '32'}\n",
      "{'_id': ObjectId('5e9ab56dcd498716e893eaa0'), 'CustomerID': '0199', 'Genre': 'Male', 'Annual Income (k$)': '137', 'Spending Score (1-100)': '18', 'NewAge': '32'}\n"
     ]
    }
   ],
   "source": [
    "for i in tab3.find({'Genre':'Male'}):\n",
    "    print(i)"
   ]
  },
  {
   "cell_type": "code",
   "execution_count": 172,
   "metadata": {},
   "outputs": [
    {
     "name": "stdout",
     "output_type": "stream",
     "text": [
      "{'_id': ObjectId('5e9ab56dcd498716e893e9da'), 'Genre': 'Male'}\n",
      "{'_id': ObjectId('5e9ab56dcd498716e893e9de'), 'Genre': 'Female'}\n",
      "{'_id': ObjectId('5e9ab56dcd498716e893e9e0'), 'Genre': 'Female'}\n",
      "{'_id': ObjectId('5e9ab56dcd498716e893e9e2'), 'Genre': 'Male'}\n",
      "{'_id': ObjectId('5e9ab56dcd498716e893e9e3'), 'Genre': 'Female'}\n",
      "{'_id': ObjectId('5e9ab56dcd498716e893e9e4'), 'Genre': 'Male'}\n",
      "{'_id': ObjectId('5e9ab56dcd498716e893e9e5'), 'Genre': 'Female'}\n",
      "{'_id': ObjectId('5e9ab56dcd498716e893e9e6'), 'Genre': 'Female'}\n",
      "{'_id': ObjectId('5e9ab56dcd498716e893e9e8'), 'Genre': 'Male'}\n",
      "{'_id': ObjectId('5e9ab56dcd498716e893e9ea'), 'Genre': 'Female'}\n",
      "{'_id': ObjectId('5e9ab56dcd498716e893e9ec'), 'Genre': 'Male'}\n",
      "{'_id': ObjectId('5e9ab56dcd498716e893e9ed'), 'Genre': 'Female'}\n",
      "{'_id': ObjectId('5e9ab56dcd498716e893e9ee'), 'Genre': 'Male'}\n",
      "{'_id': ObjectId('5e9ab56dcd498716e893e9f0'), 'Genre': 'Female'}\n",
      "{'_id': ObjectId('5e9ab56dcd498716e893e9f1'), 'Genre': 'Male'}\n",
      "{'_id': ObjectId('5e9ab56dcd498716e893e9f2'), 'Genre': 'Female'}\n",
      "{'_id': ObjectId('5e9ab56dcd498716e893e9f4'), 'Genre': 'Female'}\n",
      "{'_id': ObjectId('5e9ab56dcd498716e893e9f5'), 'Genre': 'Male'}\n",
      "{'_id': ObjectId('5e9ab56dcd498716e893e9f6'), 'Genre': 'Female'}\n",
      "{'_id': ObjectId('5e9ab56dcd498716e893e9f8'), 'Genre': 'Male'}\n",
      "{'_id': ObjectId('5e9ab56dcd498716e893e9fa'), 'Genre': 'Male'}\n",
      "{'_id': ObjectId('5e9ab56dcd498716e893e9fb'), 'Genre': 'Male'}\n",
      "{'_id': ObjectId('5e9ab56dcd498716e893e9fc'), 'Genre': 'Female'}\n",
      "{'_id': ObjectId('5e9ab56dcd498716e893e9fe'), 'Genre': 'Female'}\n",
      "{'_id': ObjectId('5e9ab56dcd498716e893e9ff'), 'Genre': 'Female'}\n",
      "{'_id': ObjectId('5e9ab56dcd498716e893ea00'), 'Genre': 'Female'}\n",
      "{'_id': ObjectId('5e9ab56dcd498716e893ea02'), 'Genre': 'Female'}\n",
      "{'_id': ObjectId('5e9ab56dcd498716e893ea04'), 'Genre': 'Male'}\n",
      "{'_id': ObjectId('5e9ab56dcd498716e893ea05'), 'Genre': 'Female'}\n",
      "{'_id': ObjectId('5e9ab56dcd498716e893ea06'), 'Genre': 'Female'}\n",
      "{'_id': ObjectId('5e9ab56dcd498716e893ea08'), 'Genre': 'Female'}\n",
      "{'_id': ObjectId('5e9ab56dcd498716e893ea0b'), 'Genre': 'Female'}\n",
      "{'_id': ObjectId('5e9ab56dcd498716e893ea0c'), 'Genre': 'Female'}\n",
      "{'_id': ObjectId('5e9ab56dcd498716e893ea0d'), 'Genre': 'Male'}\n",
      "{'_id': ObjectId('5e9ab56dcd498716e893ea0e'), 'Genre': 'Female'}\n",
      "{'_id': ObjectId('5e9ab56dcd498716e893ea0f'), 'Genre': 'Male'}\n",
      "{'_id': ObjectId('5e9ab56dcd498716e893ea10'), 'Genre': 'Female'}\n",
      "{'_id': ObjectId('5e9ab56dcd498716e893ea11'), 'Genre': 'Male'}\n",
      "{'_id': ObjectId('5e9ab56dcd498716e893ea12'), 'Genre': 'Female'}\n",
      "{'_id': ObjectId('5e9ab56dcd498716e893ea13'), 'Genre': 'Male'}\n",
      "{'_id': ObjectId('5e9ab56dcd498716e893ea15'), 'Genre': 'Male'}\n",
      "{'_id': ObjectId('5e9ab56dcd498716e893ea16'), 'Genre': 'Male'}\n",
      "{'_id': ObjectId('5e9ab56dcd498716e893ea17'), 'Genre': 'Male'}\n",
      "{'_id': ObjectId('5e9ab56dcd498716e893ea18'), 'Genre': 'Female'}\n",
      "{'_id': ObjectId('5e9ab56dcd498716e893ea19'), 'Genre': 'Female'}\n",
      "{'_id': ObjectId('5e9ab56dcd498716e893ea1a'), 'Genre': 'Male'}\n",
      "{'_id': ObjectId('5e9ab56dcd498716e893ea1b'), 'Genre': 'Male'}\n",
      "{'_id': ObjectId('5e9ab56dcd498716e893ea1c'), 'Genre': 'Female'}\n",
      "{'_id': ObjectId('5e9ab56dcd498716e893ea1d'), 'Genre': 'Female'}\n",
      "{'_id': ObjectId('5e9ab56dcd498716e893ea1e'), 'Genre': 'Male'}\n",
      "{'_id': ObjectId('5e9ab56dcd498716e893ea1f'), 'Genre': 'Female'}\n",
      "{'_id': ObjectId('5e9ab56dcd498716e893ea20'), 'Genre': 'Male'}\n",
      "{'_id': ObjectId('5e9ab56dcd498716e893ea21'), 'Genre': 'Female'}\n",
      "{'_id': ObjectId('5e9ab56dcd498716e893ea22'), 'Genre': 'Female'}\n",
      "{'_id': ObjectId('5e9ab56dcd498716e893ea23'), 'Genre': 'Female'}\n",
      "{'_id': ObjectId('5e9ab56dcd498716e893ea24'), 'Genre': 'Male'}\n",
      "{'_id': ObjectId('5e9ab56dcd498716e893ea26'), 'Genre': 'Female'}\n",
      "{'_id': ObjectId('5e9ab56dcd498716e893ea27'), 'Genre': 'Male'}\n",
      "{'_id': ObjectId('5e9ab56dcd498716e893ea29'), 'Genre': 'Female'}\n",
      "{'_id': ObjectId('5e9ab56dcd498716e893ea2a'), 'Genre': 'Male'}\n",
      "{'_id': ObjectId('5e9ab56dcd498716e893ea2b'), 'Genre': 'Male'}\n",
      "{'_id': ObjectId('5e9ab56dcd498716e893ea2c'), 'Genre': 'Male'}\n",
      "{'_id': ObjectId('5e9ab56dcd498716e893ea2d'), 'Genre': 'Female'}\n",
      "{'_id': ObjectId('5e9ab56dcd498716e893ea2f'), 'Genre': 'Male'}\n",
      "{'_id': ObjectId('5e9ab56dcd498716e893ea30'), 'Genre': 'Female'}\n",
      "{'_id': ObjectId('5e9ab56dcd498716e893ea32'), 'Genre': 'Female'}\n",
      "{'_id': ObjectId('5e9ab56dcd498716e893ea33'), 'Genre': 'Female'}\n",
      "{'_id': ObjectId('5e9ab56dcd498716e893ea34'), 'Genre': 'Female'}\n",
      "{'_id': ObjectId('5e9ab56dcd498716e893ea35'), 'Genre': 'Male'}\n",
      "{'_id': ObjectId('5e9ab56dcd498716e893ea36'), 'Genre': 'Male'}\n",
      "{'_id': ObjectId('5e9ab56dcd498716e893ea37'), 'Genre': 'Female'}\n",
      "{'_id': ObjectId('5e9ab56dcd498716e893ea38'), 'Genre': 'Female'}\n",
      "{'_id': ObjectId('5e9ab56dcd498716e893ea3a'), 'Genre': 'Female'}\n",
      "{'_id': ObjectId('5e9ab56dcd498716e893ea3c'), 'Genre': 'Male'}\n",
      "{'_id': ObjectId('5e9ab56dcd498716e893ea3f'), 'Genre': 'Female'}\n",
      "{'_id': ObjectId('5e9ab56dcd498716e893ea40'), 'Genre': 'Male'}\n",
      "{'_id': ObjectId('5e9ab56dcd498716e893ea42'), 'Genre': 'Male'}\n",
      "{'_id': ObjectId('5e9ab56dcd498716e893ea44'), 'Genre': 'Female'}\n",
      "{'_id': ObjectId('5e9ab56dcd498716e893ea45'), 'Genre': 'Male'}\n",
      "{'_id': ObjectId('5e9ab56dcd498716e893ea46'), 'Genre': 'Male'}\n",
      "{'_id': ObjectId('5e9ab56dcd498716e893ea47'), 'Genre': 'Male'}\n",
      "{'_id': ObjectId('5e9ab56dcd498716e893ea48'), 'Genre': 'Male'}\n",
      "{'_id': ObjectId('5e9ab56dcd498716e893ea49'), 'Genre': 'Female'}\n",
      "{'_id': ObjectId('5e9ab56dcd498716e893ea4a'), 'Genre': 'Female'}\n",
      "{'_id': ObjectId('5e9ab56dcd498716e893ea4b'), 'Genre': 'Male'}\n",
      "{'_id': ObjectId('5e9ab56dcd498716e893ea4c'), 'Genre': 'Female'}\n",
      "{'_id': ObjectId('5e9ab56dcd498716e893ea4d'), 'Genre': 'Female'}\n",
      "{'_id': ObjectId('5e9ab56dcd498716e893ea4e'), 'Genre': 'Female'}\n",
      "{'_id': ObjectId('5e9ab56dcd498716e893ea4f'), 'Genre': 'Female'}\n",
      "{'_id': ObjectId('5e9ab56dcd498716e893ea50'), 'Genre': 'Female'}\n",
      "{'_id': ObjectId('5e9ab56dcd498716e893ea51'), 'Genre': 'Female'}\n",
      "{'_id': ObjectId('5e9ab56dcd498716e893ea53'), 'Genre': 'Female'}\n",
      "{'_id': ObjectId('5e9ab56dcd498716e893ea54'), 'Genre': 'Female'}\n",
      "{'_id': ObjectId('5e9ab56dcd498716e893ea55'), 'Genre': 'Male'}\n",
      "{'_id': ObjectId('5e9ab56dcd498716e893ea57'), 'Genre': 'Female'}\n",
      "{'_id': ObjectId('5e9ab56dcd498716e893ea58'), 'Genre': 'Male'}\n",
      "{'_id': ObjectId('5e9ab56dcd498716e893ea59'), 'Genre': 'Male'}\n",
      "{'_id': ObjectId('5e9ab56dcd498716e893ea5a'), 'Genre': 'Male'}\n",
      "{'_id': ObjectId('5e9ab56dcd498716e893ea5b'), 'Genre': 'Male'}\n",
      "{'_id': ObjectId('5e9ab56dcd498716e893ea5c'), 'Genre': 'Male'}\n",
      "{'_id': ObjectId('5e9ab56dcd498716e893ea5d'), 'Genre': 'Male'}\n",
      "{'_id': ObjectId('5e9ab56dcd498716e893ea5f'), 'Genre': 'Female'}\n",
      "{'_id': ObjectId('5e9ab56dcd498716e893ea62'), 'Genre': 'Female'}\n",
      "{'_id': ObjectId('5e9ab56dcd498716e893ea63'), 'Genre': 'Male'}\n",
      "{'_id': ObjectId('5e9ab56dcd498716e893ea64'), 'Genre': 'Male'}\n",
      "{'_id': ObjectId('5e9ab56dcd498716e893ea65'), 'Genre': 'Female'}\n",
      "{'_id': ObjectId('5e9ab56dcd498716e893ea66'), 'Genre': 'Female'}\n",
      "{'_id': ObjectId('5e9ab56dcd498716e893ea67'), 'Genre': 'Male'}\n",
      "{'_id': ObjectId('5e9ab56dcd498716e893ea69'), 'Genre': 'Female'}\n",
      "{'_id': ObjectId('5e9ab56dcd498716e893ea6c'), 'Genre': 'Male'}\n",
      "{'_id': ObjectId('5e9ab56dcd498716e893ea6d'), 'Genre': 'Female'}\n",
      "{'_id': ObjectId('5e9ab56dcd498716e893ea6e'), 'Genre': 'Female'}\n",
      "{'_id': ObjectId('5e9ab56dcd498716e893ea6f'), 'Genre': 'Male'}\n",
      "{'_id': ObjectId('5e9ab56dcd498716e893ea70'), 'Genre': 'Male'}\n",
      "{'_id': ObjectId('5e9ab56dcd498716e893ea71'), 'Genre': 'Male'}\n",
      "{'_id': ObjectId('5e9ab56dcd498716e893ea72'), 'Genre': 'Female'}\n",
      "{'_id': ObjectId('5e9ab56dcd498716e893ea73'), 'Genre': 'Female'}\n",
      "{'_id': ObjectId('5e9ab56dcd498716e893ea74'), 'Genre': 'Female'}\n",
      "{'_id': ObjectId('5e9ab56dcd498716e893ea76'), 'Genre': 'Male'}\n",
      "{'_id': ObjectId('5e9ab56dcd498716e893ea77'), 'Genre': 'Female'}\n",
      "{'_id': ObjectId('5e9ab56dcd498716e893ea78'), 'Genre': 'Male'}\n",
      "{'_id': ObjectId('5e9ab56dcd498716e893ea79'), 'Genre': 'Female'}\n",
      "{'_id': ObjectId('5e9ab56dcd498716e893ea7a'), 'Genre': 'Female'}\n",
      "{'_id': ObjectId('5e9ab56dcd498716e893ea7c'), 'Genre': 'Male'}\n",
      "{'_id': ObjectId('5e9ab56dcd498716e893ea7d'), 'Genre': 'Female'}\n",
      "{'_id': ObjectId('5e9ab56dcd498716e893ea7e'), 'Genre': 'Male'}\n",
      "{'_id': ObjectId('5e9ab56dcd498716e893ea7f'), 'Genre': 'Female'}\n",
      "{'_id': ObjectId('5e9ab56dcd498716e893ea80'), 'Genre': 'Male'}\n",
      "{'_id': ObjectId('5e9ab56dcd498716e893ea81'), 'Genre': 'Female'}\n",
      "{'_id': ObjectId('5e9ab56dcd498716e893ea82'), 'Genre': 'Female'}\n",
      "{'_id': ObjectId('5e9ab56dcd498716e893ea83'), 'Genre': 'Male'}\n",
      "{'_id': ObjectId('5e9ab56dcd498716e893ea84'), 'Genre': 'Male'}\n",
      "{'_id': ObjectId('5e9ab56dcd498716e893ea86'), 'Genre': 'Male'}\n",
      "{'_id': ObjectId('5e9ab56dcd498716e893ea87'), 'Genre': 'Male'}\n",
      "{'_id': ObjectId('5e9ab56dcd498716e893ea88'), 'Genre': 'Female'}\n",
      "{'_id': ObjectId('5e9ab56dcd498716e893ea89'), 'Genre': 'Female'}\n",
      "{'_id': ObjectId('5e9ab56dcd498716e893ea8a'), 'Genre': 'Male'}\n",
      "{'_id': ObjectId('5e9ab56dcd498716e893ea8c'), 'Genre': 'Male'}\n",
      "{'_id': ObjectId('5e9ab56dcd498716e893ea8d'), 'Genre': 'Male'}\n",
      "{'_id': ObjectId('5e9ab56dcd498716e893ea8e'), 'Genre': 'Female'}\n",
      "{'_id': ObjectId('5e9ab56dcd498716e893ea8f'), 'Genre': 'Female'}\n",
      "{'_id': ObjectId('5e9ab56dcd498716e893ea90'), 'Genre': 'Male'}\n",
      "{'_id': ObjectId('5e9ab56dcd498716e893ea92'), 'Genre': 'Female'}\n",
      "{'_id': ObjectId('5e9ab56dcd498716e893ea93'), 'Genre': 'Male'}\n",
      "{'_id': ObjectId('5e9ab56dcd498716e893ea94'), 'Genre': 'Female'}\n",
      "{'_id': ObjectId('5e9ab56dcd498716e893ea96'), 'Genre': 'Female'}\n",
      "{'_id': ObjectId('5e9ab56dcd498716e893ea97'), 'Genre': 'Female'}\n",
      "{'_id': ObjectId('5e9ab56dcd498716e893ea98'), 'Genre': 'Female'}\n",
      "{'_id': ObjectId('5e9ab56dcd498716e893ea99'), 'Genre': 'Female'}\n",
      "{'_id': ObjectId('5e9ab56dcd498716e893ea9a'), 'Genre': 'Male'}\n",
      "{'_id': ObjectId('5e9ab56dcd498716e893ea9b'), 'Genre': 'Female'}\n",
      "{'_id': ObjectId('5e9ab56dcd498716e893ea9c'), 'Genre': 'Female'}\n",
      "{'_id': ObjectId('5e9ab56dcd498716e893ea9d'), 'Genre': 'Female'}\n",
      "{'_id': ObjectId('5e9ab56dcd498716e893ea9e'), 'Genre': 'Female'}\n",
      "{'_id': ObjectId('5e9ab56dcd498716e893ea9f'), 'Genre': 'Male'}\n",
      "{'_id': ObjectId('5e9ab56dcd498716e893eaa0'), 'Genre': 'Male'}\n"
     ]
    }
   ],
   "source": [
    "#0 hide , 1 is to show all the columns\n",
    "for i in tab3.find({},{'Genre':1,'Age':1}):\n",
    "    print(i)"
   ]
  },
  {
   "cell_type": "code",
   "execution_count": 173,
   "metadata": {},
   "outputs": [
    {
     "data": {
      "text/plain": [
       "<pymongo.results.DeleteResult at 0x8935c88>"
      ]
     },
     "execution_count": 173,
     "metadata": {},
     "output_type": "execute_result"
    }
   ],
   "source": [
    "#{'$regex':'^Fem'}\n",
    "#delete all records of female from the tab3 using regular expressions\n",
    "#all the records that starts with the age first character 2\n",
    "tab3.delete_many({'Age':{'$regex':'^2'}})"
   ]
  },
  {
   "cell_type": "code",
   "execution_count": 174,
   "metadata": {},
   "outputs": [
    {
     "name": "stdout",
     "output_type": "stream",
     "text": [
      "{'_id': ObjectId('5e9ab56dcd498716e893e9da'), 'CustomerID': '0001', 'Genre': 'Male', 'Annual Income (k$)': '15', 'Spending Score (1-100)': '39', 'NewAge': '19'}\n",
      "{'_id': ObjectId('5e9ab56dcd498716e893e9de'), 'CustomerID': '0005', 'Genre': 'Female', 'Annual Income (k$)': '17', 'Spending Score (1-100)': '40', 'NewAge': '31'}\n",
      "{'_id': ObjectId('5e9ab56dcd498716e893e9e0'), 'CustomerID': '0007', 'Genre': 'Female', 'Annual Income (k$)': '18', 'Spending Score (1-100)': '6', 'NewAge': '35'}\n",
      "{'_id': ObjectId('5e9ab56dcd498716e893e9e2'), 'CustomerID': '0009', 'Genre': 'Male', 'Annual Income (k$)': '19', 'Spending Score (1-100)': '3', 'NewAge': '64'}\n",
      "{'_id': ObjectId('5e9ab56dcd498716e893e9e3'), 'CustomerID': '0010', 'Genre': 'Female', 'Annual Income (k$)': '19', 'Spending Score (1-100)': '72', 'NewAge': '30'}\n",
      "{'_id': ObjectId('5e9ab56dcd498716e893e9e4'), 'CustomerID': '0011', 'Genre': 'Male', 'Annual Income (k$)': '19', 'Spending Score (1-100)': '14', 'NewAge': '67'}\n",
      "{'_id': ObjectId('5e9ab56dcd498716e893e9e5'), 'CustomerID': '0012', 'Genre': 'Female', 'Annual Income (k$)': '19', 'Spending Score (1-100)': '99', 'NewAge': '35'}\n",
      "{'_id': ObjectId('5e9ab56dcd498716e893e9e6'), 'CustomerID': '0013', 'Genre': 'Female', 'Annual Income (k$)': '20', 'Spending Score (1-100)': '15', 'NewAge': '58'}\n",
      "{'_id': ObjectId('5e9ab56dcd498716e893e9e8'), 'CustomerID': '0015', 'Genre': 'Male', 'Annual Income (k$)': '20', 'Spending Score (1-100)': '13', 'NewAge': '37'}\n",
      "{'_id': ObjectId('5e9ab56dcd498716e893e9ea'), 'CustomerID': '0017', 'Genre': 'Female', 'Annual Income (k$)': '21', 'Spending Score (1-100)': '35', 'NewAge': '35'}\n",
      "{'_id': ObjectId('5e9ab56dcd498716e893e9ec'), 'CustomerID': '0019', 'Genre': 'Male', 'Annual Income (k$)': '23', 'Spending Score (1-100)': '29', 'NewAge': '52'}\n",
      "{'_id': ObjectId('5e9ab56dcd498716e893e9ed'), 'CustomerID': '0020', 'Genre': 'Female', 'Annual Income (k$)': '23', 'Spending Score (1-100)': '98', 'NewAge': '35'}\n",
      "{'_id': ObjectId('5e9ab56dcd498716e893e9ee'), 'CustomerID': '0021', 'Genre': 'Male', 'Annual Income (k$)': '24', 'Spending Score (1-100)': '35', 'NewAge': '35'}\n",
      "{'_id': ObjectId('5e9ab56dcd498716e893e9f0'), 'CustomerID': '0023', 'Genre': 'Female', 'Annual Income (k$)': '25', 'Spending Score (1-100)': '5', 'NewAge': '46'}\n",
      "{'_id': ObjectId('5e9ab56dcd498716e893e9f1'), 'CustomerID': '0024', 'Genre': 'Male', 'Annual Income (k$)': '25', 'Spending Score (1-100)': '73', 'NewAge': '31'}\n",
      "{'_id': ObjectId('5e9ab56dcd498716e893e9f2'), 'CustomerID': '0025', 'Genre': 'Female', 'Annual Income (k$)': '28', 'Spending Score (1-100)': '14', 'NewAge': '54'}\n",
      "{'_id': ObjectId('5e9ab56dcd498716e893e9f4'), 'CustomerID': '0027', 'Genre': 'Female', 'Annual Income (k$)': '28', 'Spending Score (1-100)': '32', 'NewAge': '45'}\n",
      "{'_id': ObjectId('5e9ab56dcd498716e893e9f5'), 'CustomerID': '0028', 'Genre': 'Male', 'Annual Income (k$)': '28', 'Spending Score (1-100)': '61', 'NewAge': '35'}\n",
      "{'_id': ObjectId('5e9ab56dcd498716e893e9f6'), 'CustomerID': '0029', 'Genre': 'Female', 'Annual Income (k$)': '29', 'Spending Score (1-100)': '31', 'NewAge': '40'}\n",
      "{'_id': ObjectId('5e9ab56dcd498716e893e9f8'), 'CustomerID': '0031', 'Genre': 'Male', 'Annual Income (k$)': '30', 'Spending Score (1-100)': '4', 'NewAge': '100'}\n",
      "{'_id': ObjectId('5e9ab56dcd498716e893e9fa'), 'CustomerID': '0033', 'Genre': 'Male', 'Annual Income (k$)': '33', 'Spending Score (1-100)': '4', 'NewAge': '100'}\n",
      "{'_id': ObjectId('5e9ab56dcd498716e893e9fb'), 'CustomerID': '0034', 'Genre': 'Male', 'Annual Income (k$)': '33', 'Spending Score (1-100)': '92', 'NewAge': '100'}\n",
      "{'_id': ObjectId('5e9ab56dcd498716e893e9fc'), 'CustomerID': '0035', 'Genre': 'Female', 'Annual Income (k$)': '33', 'Spending Score (1-100)': '14', 'NewAge': '100'}\n",
      "{'_id': ObjectId('5e9ab56dcd498716e893e9fe'), 'CustomerID': '0037', 'Genre': 'Female', 'Annual Income (k$)': '34', 'Spending Score (1-100)': '17', 'NewAge': '100'}\n",
      "{'_id': ObjectId('5e9ab56dcd498716e893e9ff'), 'CustomerID': '0038', 'Genre': 'Female', 'Annual Income (k$)': '34', 'Spending Score (1-100)': '73', 'NewAge': '100'}\n",
      "{'_id': ObjectId('5e9ab56dcd498716e893ea00'), 'CustomerID': '0039', 'Genre': 'Female', 'Annual Income (k$)': '37', 'Spending Score (1-100)': '26', 'NewAge': '100'}\n",
      "{'_id': ObjectId('5e9ab56dcd498716e893ea02'), 'CustomerID': '0041', 'Genre': 'Female', 'Annual Income (k$)': '38', 'Spending Score (1-100)': '35', 'NewAge': '65'}\n",
      "{'_id': ObjectId('5e9ab56dcd498716e893ea04'), 'CustomerID': '0043', 'Genre': 'Male', 'Annual Income (k$)': '39', 'Spending Score (1-100)': '36', 'NewAge': '48'}\n",
      "{'_id': ObjectId('5e9ab56dcd498716e893ea05'), 'CustomerID': '0044', 'Genre': 'Female', 'Annual Income (k$)': '39', 'Spending Score (1-100)': '61', 'NewAge': '31'}\n",
      "{'_id': ObjectId('5e9ab56dcd498716e893ea06'), 'CustomerID': '0045', 'Genre': 'Female', 'Annual Income (k$)': '39', 'Spending Score (1-100)': '28', 'NewAge': '49'}\n",
      "{'_id': ObjectId('5e9ab56dcd498716e893ea08'), 'CustomerID': '0047', 'Genre': 'Female', 'Annual Income (k$)': '40', 'Spending Score (1-100)': '55', 'NewAge': '50'}\n",
      "{'_id': ObjectId('5e9ab56dcd498716e893ea0b'), 'CustomerID': '0050', 'Genre': 'Female', 'Annual Income (k$)': '40', 'Spending Score (1-100)': '42', 'NewAge': '31'}\n",
      "{'_id': ObjectId('5e9ab56dcd498716e893ea0c'), 'CustomerID': '0051', 'Genre': 'Female', 'Annual Income (k$)': '42', 'Spending Score (1-100)': '52', 'NewAge': '49'}\n",
      "{'_id': ObjectId('5e9ab56dcd498716e893ea0d'), 'CustomerID': '0052', 'Genre': 'Male', 'Annual Income (k$)': '42', 'Spending Score (1-100)': '60', 'NewAge': '33'}\n",
      "{'_id': ObjectId('5e9ab56dcd498716e893ea0e'), 'CustomerID': '0053', 'Genre': 'Female', 'Annual Income (k$)': '43', 'Spending Score (1-100)': '54', 'NewAge': '31'}\n",
      "{'_id': ObjectId('5e9ab56dcd498716e893ea0f'), 'CustomerID': '0054', 'Genre': 'Male', 'Annual Income (k$)': '43', 'Spending Score (1-100)': '60', 'NewAge': '59'}\n",
      "{'_id': ObjectId('5e9ab56dcd498716e893ea10'), 'CustomerID': '0055', 'Genre': 'Female', 'Annual Income (k$)': '43', 'Spending Score (1-100)': '45', 'NewAge': '50'}\n",
      "{'_id': ObjectId('5e9ab56dcd498716e893ea11'), 'CustomerID': '0056', 'Genre': 'Male', 'Annual Income (k$)': '43', 'Spending Score (1-100)': '41', 'NewAge': '47'}\n",
      "{'_id': ObjectId('5e9ab56dcd498716e893ea12'), 'CustomerID': '0057', 'Genre': 'Female', 'Annual Income (k$)': '44', 'Spending Score (1-100)': '50', 'NewAge': '51'}\n",
      "{'_id': ObjectId('5e9ab56dcd498716e893ea13'), 'CustomerID': '0058', 'Genre': 'Male', 'Annual Income (k$)': '44', 'Spending Score (1-100)': '46', 'NewAge': '69'}\n",
      "{'_id': ObjectId('5e9ab56dcd498716e893ea15'), 'CustomerID': '0060', 'Genre': 'Male', 'Annual Income (k$)': '46', 'Spending Score (1-100)': '46', 'NewAge': '53'}\n",
      "{'_id': ObjectId('5e9ab56dcd498716e893ea16'), 'CustomerID': '0061', 'Genre': 'Male', 'Annual Income (k$)': '46', 'Spending Score (1-100)': '56', 'NewAge': '70'}\n",
      "{'_id': ObjectId('5e9ab56dcd498716e893ea17'), 'CustomerID': '0062', 'Genre': 'Male', 'Annual Income (k$)': '46', 'Spending Score (1-100)': '55', 'NewAge': '19'}\n",
      "{'_id': ObjectId('5e9ab56dcd498716e893ea18'), 'CustomerID': '0063', 'Genre': 'Female', 'Annual Income (k$)': '47', 'Spending Score (1-100)': '52', 'NewAge': '67'}\n",
      "{'_id': ObjectId('5e9ab56dcd498716e893ea19'), 'CustomerID': '0064', 'Genre': 'Female', 'Annual Income (k$)': '47', 'Spending Score (1-100)': '59', 'NewAge': '54'}\n",
      "{'_id': ObjectId('5e9ab56dcd498716e893ea1a'), 'CustomerID': '0065', 'Genre': 'Male', 'Annual Income (k$)': '48', 'Spending Score (1-100)': '51', 'NewAge': '63'}\n",
      "{'_id': ObjectId('5e9ab56dcd498716e893ea1b'), 'CustomerID': '0066', 'Genre': 'Male', 'Annual Income (k$)': '48', 'Spending Score (1-100)': '59', 'NewAge': '18'}\n",
      "{'_id': ObjectId('5e9ab56dcd498716e893ea1c'), 'CustomerID': '0067', 'Genre': 'Female', 'Annual Income (k$)': '48', 'Spending Score (1-100)': '50', 'NewAge': '43'}\n",
      "{'_id': ObjectId('5e9ab56dcd498716e893ea1d'), 'CustomerID': '0068', 'Genre': 'Female', 'Annual Income (k$)': '48', 'Spending Score (1-100)': '48', 'NewAge': '68'}\n",
      "{'_id': ObjectId('5e9ab56dcd498716e893ea1e'), 'CustomerID': '0069', 'Genre': 'Male', 'Annual Income (k$)': '48', 'Spending Score (1-100)': '59', 'NewAge': '19'}\n",
      "{'_id': ObjectId('5e9ab56dcd498716e893ea1f'), 'CustomerID': '0070', 'Genre': 'Female', 'Annual Income (k$)': '48', 'Spending Score (1-100)': '47', 'NewAge': '32'}\n",
      "{'_id': ObjectId('5e9ab56dcd498716e893ea20'), 'CustomerID': '0071', 'Genre': 'Male', 'Annual Income (k$)': '49', 'Spending Score (1-100)': '55', 'NewAge': '70'}\n",
      "{'_id': ObjectId('5e9ab56dcd498716e893ea21'), 'CustomerID': '0072', 'Genre': 'Female', 'Annual Income (k$)': '49', 'Spending Score (1-100)': '42', 'NewAge': '47'}\n",
      "{'_id': ObjectId('5e9ab56dcd498716e893ea22'), 'CustomerID': '0073', 'Genre': 'Female', 'Annual Income (k$)': '50', 'Spending Score (1-100)': '49', 'NewAge': '60'}\n",
      "{'_id': ObjectId('5e9ab56dcd498716e893ea23'), 'CustomerID': '0074', 'Genre': 'Female', 'Annual Income (k$)': '50', 'Spending Score (1-100)': '56', 'NewAge': '60'}\n",
      "{'_id': ObjectId('5e9ab56dcd498716e893ea24'), 'CustomerID': '0075', 'Genre': 'Male', 'Annual Income (k$)': '54', 'Spending Score (1-100)': '47', 'NewAge': '59'}\n",
      "{'_id': ObjectId('5e9ab56dcd498716e893ea26'), 'CustomerID': '0077', 'Genre': 'Female', 'Annual Income (k$)': '54', 'Spending Score (1-100)': '53', 'NewAge': '45'}\n",
      "{'_id': ObjectId('5e9ab56dcd498716e893ea27'), 'CustomerID': '0078', 'Genre': 'Male', 'Annual Income (k$)': '54', 'Spending Score (1-100)': '48', 'NewAge': '40'}\n",
      "{'_id': ObjectId('5e9ab56dcd498716e893ea29'), 'CustomerID': '0080', 'Genre': 'Female', 'Annual Income (k$)': '54', 'Spending Score (1-100)': '42', 'NewAge': '49'}\n",
      "{'_id': ObjectId('5e9ab56dcd498716e893ea2a'), 'CustomerID': '0081', 'Genre': 'Male', 'Annual Income (k$)': '54', 'Spending Score (1-100)': '51', 'NewAge': '57'}\n",
      "{'_id': ObjectId('5e9ab56dcd498716e893ea2b'), 'CustomerID': '0082', 'Genre': 'Male', 'Annual Income (k$)': '54', 'Spending Score (1-100)': '55', 'NewAge': '38'}\n",
      "{'_id': ObjectId('5e9ab56dcd498716e893ea2c'), 'CustomerID': '0083', 'Genre': 'Male', 'Annual Income (k$)': '54', 'Spending Score (1-100)': '41', 'NewAge': '67'}\n",
      "{'_id': ObjectId('5e9ab56dcd498716e893ea2d'), 'CustomerID': '0084', 'Genre': 'Female', 'Annual Income (k$)': '54', 'Spending Score (1-100)': '44', 'NewAge': '46'}\n",
      "{'_id': ObjectId('5e9ab56dcd498716e893ea2f'), 'CustomerID': '0086', 'Genre': 'Male', 'Annual Income (k$)': '54', 'Spending Score (1-100)': '46', 'NewAge': '48'}\n",
      "{'_id': ObjectId('5e9ab56dcd498716e893ea30'), 'CustomerID': '0087', 'Genre': 'Female', 'Annual Income (k$)': '57', 'Spending Score (1-100)': '58', 'NewAge': '55'}\n",
      "{'_id': ObjectId('5e9ab56dcd498716e893ea32'), 'CustomerID': '0089', 'Genre': 'Female', 'Annual Income (k$)': '58', 'Spending Score (1-100)': '60', 'NewAge': '34'}\n",
      "{'_id': ObjectId('5e9ab56dcd498716e893ea33'), 'CustomerID': '0090', 'Genre': 'Female', 'Annual Income (k$)': '58', 'Spending Score (1-100)': '46', 'NewAge': '50'}\n",
      "{'_id': ObjectId('5e9ab56dcd498716e893ea34'), 'CustomerID': '0091', 'Genre': 'Female', 'Annual Income (k$)': '59', 'Spending Score (1-100)': '55', 'NewAge': '68'}\n",
      "{'_id': ObjectId('5e9ab56dcd498716e893ea35'), 'CustomerID': '0092', 'Genre': 'Male', 'Annual Income (k$)': '59', 'Spending Score (1-100)': '41', 'NewAge': '18'}\n",
      "{'_id': ObjectId('5e9ab56dcd498716e893ea36'), 'CustomerID': '0093', 'Genre': 'Male', 'Annual Income (k$)': '60', 'Spending Score (1-100)': '49', 'NewAge': '48'}\n",
      "{'_id': ObjectId('5e9ab56dcd498716e893ea37'), 'CustomerID': '0094', 'Genre': 'Female', 'Annual Income (k$)': '60', 'Spending Score (1-100)': '40', 'NewAge': '40'}\n",
      "{'_id': ObjectId('5e9ab56dcd498716e893ea38'), 'CustomerID': '0095', 'Genre': 'Female', 'Annual Income (k$)': '60', 'Spending Score (1-100)': '42', 'NewAge': '32'}\n",
      "{'_id': ObjectId('5e9ab56dcd498716e893ea3a'), 'CustomerID': '0097', 'Genre': 'Female', 'Annual Income (k$)': '60', 'Spending Score (1-100)': '47', 'NewAge': '47'}\n",
      "{'_id': ObjectId('5e9ab56dcd498716e893ea3c'), 'CustomerID': '0099', 'Genre': 'Male', 'Annual Income (k$)': '61', 'Spending Score (1-100)': '42', 'NewAge': '48'}\n",
      "{'_id': ObjectId('5e9ab56dcd498716e893ea3f'), 'CustomerID': '0102', 'Genre': 'Female', 'Annual Income (k$)': '62', 'Spending Score (1-100)': '48', 'NewAge': '49'}\n",
      "{'_id': ObjectId('5e9ab56dcd498716e893ea40'), 'CustomerID': '0103', 'Genre': 'Male', 'Annual Income (k$)': '62', 'Spending Score (1-100)': '59', 'NewAge': '67'}\n",
      "{'_id': ObjectId('5e9ab56dcd498716e893ea42'), 'CustomerID': '0105', 'Genre': 'Male', 'Annual Income (k$)': '62', 'Spending Score (1-100)': '56', 'NewAge': '49'}\n",
      "{'_id': ObjectId('5e9ab56dcd498716e893ea44'), 'CustomerID': '0107', 'Genre': 'Female', 'Annual Income (k$)': '63', 'Spending Score (1-100)': '50', 'NewAge': '66'}\n",
      "{'_id': ObjectId('5e9ab56dcd498716e893ea45'), 'CustomerID': '0108', 'Genre': 'Male', 'Annual Income (k$)': '63', 'Spending Score (1-100)': '46', 'NewAge': '54'}\n",
      "{'_id': ObjectId('5e9ab56dcd498716e893ea46'), 'CustomerID': '0109', 'Genre': 'Male', 'Annual Income (k$)': '63', 'Spending Score (1-100)': '43', 'NewAge': '68'}\n",
      "{'_id': ObjectId('5e9ab56dcd498716e893ea47'), 'CustomerID': '0110', 'Genre': 'Male', 'Annual Income (k$)': '63', 'Spending Score (1-100)': '48', 'NewAge': '66'}\n",
      "{'_id': ObjectId('5e9ab56dcd498716e893ea48'), 'CustomerID': '0111', 'Genre': 'Male', 'Annual Income (k$)': '63', 'Spending Score (1-100)': '52', 'NewAge': '65'}\n",
      "{'_id': ObjectId('5e9ab56dcd498716e893ea49'), 'CustomerID': '0112', 'Genre': 'Female', 'Annual Income (k$)': '63', 'Spending Score (1-100)': '54', 'NewAge': '19'}\n",
      "{'_id': ObjectId('5e9ab56dcd498716e893ea4a'), 'CustomerID': '0113', 'Genre': 'Female', 'Annual Income (k$)': '64', 'Spending Score (1-100)': '42', 'NewAge': '38'}\n",
      "{'_id': ObjectId('5e9ab56dcd498716e893ea4b'), 'CustomerID': '0114', 'Genre': 'Male', 'Annual Income (k$)': '64', 'Spending Score (1-100)': '46', 'NewAge': '19'}\n",
      "{'_id': ObjectId('5e9ab56dcd498716e893ea4c'), 'CustomerID': '0115', 'Genre': 'Female', 'Annual Income (k$)': '65', 'Spending Score (1-100)': '48', 'NewAge': '18'}\n",
      "{'_id': ObjectId('5e9ab56dcd498716e893ea4d'), 'CustomerID': '0116', 'Genre': 'Female', 'Annual Income (k$)': '65', 'Spending Score (1-100)': '50', 'NewAge': '19'}\n",
      "{'_id': ObjectId('5e9ab56dcd498716e893ea4e'), 'CustomerID': '0117', 'Genre': 'Female', 'Annual Income (k$)': '65', 'Spending Score (1-100)': '43', 'NewAge': '63'}\n",
      "{'_id': ObjectId('5e9ab56dcd498716e893ea4f'), 'CustomerID': '0118', 'Genre': 'Female', 'Annual Income (k$)': '65', 'Spending Score (1-100)': '59', 'NewAge': '49'}\n",
      "{'_id': ObjectId('5e9ab56dcd498716e893ea50'), 'CustomerID': '0119', 'Genre': 'Female', 'Annual Income (k$)': '67', 'Spending Score (1-100)': '43', 'NewAge': '51'}\n",
      "{'_id': ObjectId('5e9ab56dcd498716e893ea51'), 'CustomerID': '0120', 'Genre': 'Female', 'Annual Income (k$)': '67', 'Spending Score (1-100)': '57', 'NewAge': '50'}\n",
      "{'_id': ObjectId('5e9ab56dcd498716e893ea53'), 'CustomerID': '0122', 'Genre': 'Female', 'Annual Income (k$)': '67', 'Spending Score (1-100)': '40', 'NewAge': '38'}\n",
      "{'_id': ObjectId('5e9ab56dcd498716e893ea54'), 'CustomerID': '0123', 'Genre': 'Female', 'Annual Income (k$)': '69', 'Spending Score (1-100)': '58', 'NewAge': '40'}\n",
      "{'_id': ObjectId('5e9ab56dcd498716e893ea55'), 'CustomerID': '0124', 'Genre': 'Male', 'Annual Income (k$)': '69', 'Spending Score (1-100)': '91', 'NewAge': '39'}\n",
      "{'_id': ObjectId('5e9ab56dcd498716e893ea57'), 'CustomerID': '0126', 'Genre': 'Female', 'Annual Income (k$)': '70', 'Spending Score (1-100)': '77', 'NewAge': '31'}\n",
      "{'_id': ObjectId('5e9ab56dcd498716e893ea58'), 'CustomerID': '0127', 'Genre': 'Male', 'Annual Income (k$)': '71', 'Spending Score (1-100)': '35', 'NewAge': '43'}\n",
      "{'_id': ObjectId('5e9ab56dcd498716e893ea59'), 'CustomerID': '0128', 'Genre': 'Male', 'Annual Income (k$)': '71', 'Spending Score (1-100)': '95', 'NewAge': '40'}\n",
      "{'_id': ObjectId('5e9ab56dcd498716e893ea5a'), 'CustomerID': '0129', 'Genre': 'Male', 'Annual Income (k$)': '71', 'Spending Score (1-100)': '11', 'NewAge': '59'}\n",
      "{'_id': ObjectId('5e9ab56dcd498716e893ea5b'), 'CustomerID': '0130', 'Genre': 'Male', 'Annual Income (k$)': '71', 'Spending Score (1-100)': '75', 'NewAge': '38'}\n",
      "{'_id': ObjectId('5e9ab56dcd498716e893ea5c'), 'CustomerID': '0131', 'Genre': 'Male', 'Annual Income (k$)': '71', 'Spending Score (1-100)': '9', 'NewAge': '47'}\n",
      "{'_id': ObjectId('5e9ab56dcd498716e893ea5d'), 'CustomerID': '0132', 'Genre': 'Male', 'Annual Income (k$)': '71', 'Spending Score (1-100)': '75', 'NewAge': '39'}\n",
      "{'_id': ObjectId('5e9ab56dcd498716e893ea5f'), 'CustomerID': '0134', 'Genre': 'Female', 'Annual Income (k$)': '72', 'Spending Score (1-100)': '71', 'NewAge': '31'}\n",
      "{'_id': ObjectId('5e9ab56dcd498716e893ea62'), 'CustomerID': '0137', 'Genre': 'Female', 'Annual Income (k$)': '73', 'Spending Score (1-100)': '7', 'NewAge': '44'}\n",
      "{'_id': ObjectId('5e9ab56dcd498716e893ea63'), 'CustomerID': '0138', 'Genre': 'Male', 'Annual Income (k$)': '73', 'Spending Score (1-100)': '73', 'NewAge': '32'}\n",
      "{'_id': ObjectId('5e9ab56dcd498716e893ea64'), 'CustomerID': '0139', 'Genre': 'Male', 'Annual Income (k$)': '74', 'Spending Score (1-100)': '10', 'NewAge': '19'}\n",
      "{'_id': ObjectId('5e9ab56dcd498716e893ea65'), 'CustomerID': '0140', 'Genre': 'Female', 'Annual Income (k$)': '74', 'Spending Score (1-100)': '72', 'NewAge': '35'}\n",
      "{'_id': ObjectId('5e9ab56dcd498716e893ea66'), 'CustomerID': '0141', 'Genre': 'Female', 'Annual Income (k$)': '75', 'Spending Score (1-100)': '5', 'NewAge': '57'}\n",
      "{'_id': ObjectId('5e9ab56dcd498716e893ea67'), 'CustomerID': '0142', 'Genre': 'Male', 'Annual Income (k$)': '75', 'Spending Score (1-100)': '93', 'NewAge': '32'}\n",
      "{'_id': ObjectId('5e9ab56dcd498716e893ea69'), 'CustomerID': '0144', 'Genre': 'Female', 'Annual Income (k$)': '76', 'Spending Score (1-100)': '87', 'NewAge': '32'}\n",
      "{'_id': ObjectId('5e9ab56dcd498716e893ea6c'), 'CustomerID': '0147', 'Genre': 'Male', 'Annual Income (k$)': '77', 'Spending Score (1-100)': '36', 'NewAge': '48'}\n",
      "{'_id': ObjectId('5e9ab56dcd498716e893ea6d'), 'CustomerID': '0148', 'Genre': 'Female', 'Annual Income (k$)': '77', 'Spending Score (1-100)': '74', 'NewAge': '32'}\n",
      "{'_id': ObjectId('5e9ab56dcd498716e893ea6e'), 'CustomerID': '0149', 'Genre': 'Female', 'Annual Income (k$)': '78', 'Spending Score (1-100)': '22', 'NewAge': '34'}\n",
      "{'_id': ObjectId('5e9ab56dcd498716e893ea6f'), 'CustomerID': '0150', 'Genre': 'Male', 'Annual Income (k$)': '78', 'Spending Score (1-100)': '90', 'NewAge': '34'}\n",
      "{'_id': ObjectId('5e9ab56dcd498716e893ea70'), 'CustomerID': '0151', 'Genre': 'Male', 'Annual Income (k$)': '78', 'Spending Score (1-100)': '17', 'NewAge': '43'}\n",
      "{'_id': ObjectId('5e9ab56dcd498716e893ea71'), 'CustomerID': '0152', 'Genre': 'Male', 'Annual Income (k$)': '78', 'Spending Score (1-100)': '88', 'NewAge': '39'}\n",
      "{'_id': ObjectId('5e9ab56dcd498716e893ea72'), 'CustomerID': '0153', 'Genre': 'Female', 'Annual Income (k$)': '78', 'Spending Score (1-100)': '20', 'NewAge': '44'}\n",
      "{'_id': ObjectId('5e9ab56dcd498716e893ea73'), 'CustomerID': '0154', 'Genre': 'Female', 'Annual Income (k$)': '78', 'Spending Score (1-100)': '76', 'NewAge': '38'}\n",
      "{'_id': ObjectId('5e9ab56dcd498716e893ea74'), 'CustomerID': '0155', 'Genre': 'Female', 'Annual Income (k$)': '78', 'Spending Score (1-100)': '16', 'NewAge': '47'}\n",
      "{'_id': ObjectId('5e9ab56dcd498716e893ea76'), 'CustomerID': '0157', 'Genre': 'Male', 'Annual Income (k$)': '78', 'Spending Score (1-100)': '1', 'NewAge': '37'}\n",
      "{'_id': ObjectId('5e9ab56dcd498716e893ea77'), 'CustomerID': '0158', 'Genre': 'Female', 'Annual Income (k$)': '78', 'Spending Score (1-100)': '78', 'NewAge': '30'}\n",
      "{'_id': ObjectId('5e9ab56dcd498716e893ea78'), 'CustomerID': '0159', 'Genre': 'Male', 'Annual Income (k$)': '78', 'Spending Score (1-100)': '1', 'NewAge': '34'}\n",
      "{'_id': ObjectId('5e9ab56dcd498716e893ea79'), 'CustomerID': '0160', 'Genre': 'Female', 'Annual Income (k$)': '78', 'Spending Score (1-100)': '73', 'NewAge': '30'}\n",
      "{'_id': ObjectId('5e9ab56dcd498716e893ea7a'), 'CustomerID': '0161', 'Genre': 'Female', 'Annual Income (k$)': '79', 'Spending Score (1-100)': '35', 'NewAge': '56'}\n",
      "{'_id': ObjectId('5e9ab56dcd498716e893ea7c'), 'CustomerID': '0163', 'Genre': 'Male', 'Annual Income (k$)': '81', 'Spending Score (1-100)': '5', 'NewAge': '19'}\n",
      "{'_id': ObjectId('5e9ab56dcd498716e893ea7d'), 'CustomerID': '0164', 'Genre': 'Female', 'Annual Income (k$)': '81', 'Spending Score (1-100)': '93', 'NewAge': '31'}\n",
      "{'_id': ObjectId('5e9ab56dcd498716e893ea7e'), 'CustomerID': '0165', 'Genre': 'Male', 'Annual Income (k$)': '85', 'Spending Score (1-100)': '26', 'NewAge': '50'}\n",
      "{'_id': ObjectId('5e9ab56dcd498716e893ea7f'), 'CustomerID': '0166', 'Genre': 'Female', 'Annual Income (k$)': '85', 'Spending Score (1-100)': '75', 'NewAge': '36'}\n",
      "{'_id': ObjectId('5e9ab56dcd498716e893ea80'), 'CustomerID': '0167', 'Genre': 'Male', 'Annual Income (k$)': '86', 'Spending Score (1-100)': '20', 'NewAge': '42'}\n",
      "{'_id': ObjectId('5e9ab56dcd498716e893ea81'), 'CustomerID': '0168', 'Genre': 'Female', 'Annual Income (k$)': '86', 'Spending Score (1-100)': '95', 'NewAge': '33'}\n",
      "{'_id': ObjectId('5e9ab56dcd498716e893ea82'), 'CustomerID': '0169', 'Genre': 'Female', 'Annual Income (k$)': '87', 'Spending Score (1-100)': '27', 'NewAge': '36'}\n",
      "{'_id': ObjectId('5e9ab56dcd498716e893ea83'), 'CustomerID': '0170', 'Genre': 'Male', 'Annual Income (k$)': '87', 'Spending Score (1-100)': '63', 'NewAge': '32'}\n",
      "{'_id': ObjectId('5e9ab56dcd498716e893ea84'), 'CustomerID': '0171', 'Genre': 'Male', 'Annual Income (k$)': '87', 'Spending Score (1-100)': '13', 'NewAge': '40'}\n",
      "{'_id': ObjectId('5e9ab56dcd498716e893ea86'), 'CustomerID': '0173', 'Genre': 'Male', 'Annual Income (k$)': '87', 'Spending Score (1-100)': '10', 'NewAge': '36'}\n",
      "{'_id': ObjectId('5e9ab56dcd498716e893ea87'), 'CustomerID': '0174', 'Genre': 'Male', 'Annual Income (k$)': '87', 'Spending Score (1-100)': '92', 'NewAge': '36'}\n",
      "{'_id': ObjectId('5e9ab56dcd498716e893ea88'), 'CustomerID': '0175', 'Genre': 'Female', 'Annual Income (k$)': '88', 'Spending Score (1-100)': '13', 'NewAge': '52'}\n",
      "{'_id': ObjectId('5e9ab56dcd498716e893ea89'), 'CustomerID': '0176', 'Genre': 'Female', 'Annual Income (k$)': '88', 'Spending Score (1-100)': '86', 'NewAge': '30'}\n",
      "{'_id': ObjectId('5e9ab56dcd498716e893ea8a'), 'CustomerID': '0177', 'Genre': 'Male', 'Annual Income (k$)': '88', 'Spending Score (1-100)': '15', 'NewAge': '58'}\n",
      "{'_id': ObjectId('5e9ab56dcd498716e893ea8c'), 'CustomerID': '0179', 'Genre': 'Male', 'Annual Income (k$)': '93', 'Spending Score (1-100)': '14', 'NewAge': '59'}\n",
      "{'_id': ObjectId('5e9ab56dcd498716e893ea8d'), 'CustomerID': '0180', 'Genre': 'Male', 'Annual Income (k$)': '93', 'Spending Score (1-100)': '90', 'NewAge': '35'}\n",
      "{'_id': ObjectId('5e9ab56dcd498716e893ea8e'), 'CustomerID': '0181', 'Genre': 'Female', 'Annual Income (k$)': '97', 'Spending Score (1-100)': '32', 'NewAge': '37'}\n",
      "{'_id': ObjectId('5e9ab56dcd498716e893ea8f'), 'CustomerID': '0182', 'Genre': 'Female', 'Annual Income (k$)': '97', 'Spending Score (1-100)': '86', 'NewAge': '32'}\n",
      "{'_id': ObjectId('5e9ab56dcd498716e893ea90'), 'CustomerID': '0183', 'Genre': 'Male', 'Annual Income (k$)': '98', 'Spending Score (1-100)': '15', 'NewAge': '46'}\n",
      "{'_id': ObjectId('5e9ab56dcd498716e893ea92'), 'CustomerID': '0185', 'Genre': 'Female', 'Annual Income (k$)': '99', 'Spending Score (1-100)': '39', 'NewAge': '41'}\n",
      "{'_id': ObjectId('5e9ab56dcd498716e893ea93'), 'CustomerID': '0186', 'Genre': 'Male', 'Annual Income (k$)': '99', 'Spending Score (1-100)': '97', 'NewAge': '30'}\n",
      "{'_id': ObjectId('5e9ab56dcd498716e893ea94'), 'CustomerID': '0187', 'Genre': 'Female', 'Annual Income (k$)': '101', 'Spending Score (1-100)': '24', 'NewAge': '54'}\n",
      "{'_id': ObjectId('5e9ab56dcd498716e893ea96'), 'CustomerID': '0189', 'Genre': 'Female', 'Annual Income (k$)': '103', 'Spending Score (1-100)': '17', 'NewAge': '41'}\n",
      "{'_id': ObjectId('5e9ab56dcd498716e893ea97'), 'CustomerID': '0190', 'Genre': 'Female', 'Annual Income (k$)': '103', 'Spending Score (1-100)': '85', 'NewAge': '36'}\n",
      "{'_id': ObjectId('5e9ab56dcd498716e893ea98'), 'CustomerID': '0191', 'Genre': 'Female', 'Annual Income (k$)': '103', 'Spending Score (1-100)': '23', 'NewAge': '34'}\n",
      "{'_id': ObjectId('5e9ab56dcd498716e893ea99'), 'CustomerID': '0192', 'Genre': 'Female', 'Annual Income (k$)': '103', 'Spending Score (1-100)': '69', 'NewAge': '32'}\n",
      "{'_id': ObjectId('5e9ab56dcd498716e893ea9a'), 'CustomerID': '0193', 'Genre': 'Male', 'Annual Income (k$)': '113', 'Spending Score (1-100)': '8', 'NewAge': '33'}\n",
      "{'_id': ObjectId('5e9ab56dcd498716e893ea9b'), 'CustomerID': '0194', 'Genre': 'Female', 'Annual Income (k$)': '113', 'Spending Score (1-100)': '91', 'NewAge': '38'}\n",
      "{'_id': ObjectId('5e9ab56dcd498716e893ea9c'), 'CustomerID': '0195', 'Genre': 'Female', 'Annual Income (k$)': '120', 'Spending Score (1-100)': '16', 'NewAge': '47'}\n",
      "{'_id': ObjectId('5e9ab56dcd498716e893ea9d'), 'CustomerID': '0196', 'Genre': 'Female', 'Annual Income (k$)': '120', 'Spending Score (1-100)': '79', 'NewAge': '35'}\n",
      "{'_id': ObjectId('5e9ab56dcd498716e893ea9e'), 'CustomerID': '0197', 'Genre': 'Female', 'Annual Income (k$)': '126', 'Spending Score (1-100)': '28', 'NewAge': '45'}\n",
      "{'_id': ObjectId('5e9ab56dcd498716e893ea9f'), 'CustomerID': '0198', 'Genre': 'Male', 'Annual Income (k$)': '126', 'Spending Score (1-100)': '74', 'NewAge': '32'}\n",
      "{'_id': ObjectId('5e9ab56dcd498716e893eaa0'), 'CustomerID': '0199', 'Genre': 'Male', 'Annual Income (k$)': '137', 'Spending Score (1-100)': '18', 'NewAge': '32'}\n"
     ]
    }
   ],
   "source": [
    "for i in tab3.find():\n",
    "    print(i)"
   ]
  },
  {
   "cell_type": "code",
   "execution_count": 175,
   "metadata": {},
   "outputs": [
    {
     "ename": "AttributeError",
     "evalue": "'Cursor' object has no attribute 'modified_count'",
     "output_type": "error",
     "traceback": [
      "\u001b[1;31m---------------------------------------------------------------------------\u001b[0m",
      "\u001b[1;31mAttributeError\u001b[0m                            Traceback (most recent call last)",
      "\u001b[1;32m<ipython-input-175-8a74c8820395>\u001b[0m in \u001b[0;36m<module>\u001b[1;34m\u001b[0m\n\u001b[1;32m----> 1\u001b[1;33m \u001b[0mx\u001b[0m\u001b[1;33m.\u001b[0m\u001b[0mmodified_count\u001b[0m\u001b[1;33m\u001b[0m\u001b[1;33m\u001b[0m\u001b[0m\n\u001b[0m\u001b[0;32m      2\u001b[0m \u001b[0mx\u001b[0m\u001b[1;33m.\u001b[0m\u001b[0mdeleted_count\u001b[0m\u001b[1;33m\u001b[0m\u001b[1;33m\u001b[0m\u001b[0m\n\u001b[0;32m      3\u001b[0m \u001b[0mx\u001b[0m\u001b[1;33m.\u001b[0m\u001b[0minserted_ids\u001b[0m\u001b[1;33m\u001b[0m\u001b[1;33m\u001b[0m\u001b[0m\n",
      "\u001b[1;31mAttributeError\u001b[0m: 'Cursor' object has no attribute 'modified_count'"
     ]
    }
   ],
   "source": [
    "x.modified_count\n",
    "x.deleted_count\n",
    "x.inserted_ids"
   ]
  },
  {
   "cell_type": "code",
   "execution_count": 176,
   "metadata": {},
   "outputs": [],
   "source": [
    "x = tab3.update_many({'CustomerID':{'$regex':'^003'}},{'$set':{'Age':'100'}})\n",
    "#where ever the customer id starts with 003 there age changed to 100 "
   ]
  },
  {
   "cell_type": "code",
   "execution_count": 177,
   "metadata": {},
   "outputs": [
    {
     "name": "stdout",
     "output_type": "stream",
     "text": [
      "{'_id': ObjectId('5e9ab56dcd498716e893e9da'), 'CustomerID': '0001', 'Genre': 'Male', 'Annual Income (k$)': '15', 'Spending Score (1-100)': '39', 'NewAge': '19'}\n",
      "{'_id': ObjectId('5e9ab56dcd498716e893e9de'), 'CustomerID': '0005', 'Genre': 'Female', 'Annual Income (k$)': '17', 'Spending Score (1-100)': '40', 'NewAge': '31'}\n",
      "{'_id': ObjectId('5e9ab56dcd498716e893e9e0'), 'CustomerID': '0007', 'Genre': 'Female', 'Annual Income (k$)': '18', 'Spending Score (1-100)': '6', 'NewAge': '35'}\n",
      "{'_id': ObjectId('5e9ab56dcd498716e893e9e2'), 'CustomerID': '0009', 'Genre': 'Male', 'Annual Income (k$)': '19', 'Spending Score (1-100)': '3', 'NewAge': '64'}\n",
      "{'_id': ObjectId('5e9ab56dcd498716e893e9e3'), 'CustomerID': '0010', 'Genre': 'Female', 'Annual Income (k$)': '19', 'Spending Score (1-100)': '72', 'NewAge': '30'}\n",
      "{'_id': ObjectId('5e9ab56dcd498716e893e9e4'), 'CustomerID': '0011', 'Genre': 'Male', 'Annual Income (k$)': '19', 'Spending Score (1-100)': '14', 'NewAge': '67'}\n",
      "{'_id': ObjectId('5e9ab56dcd498716e893e9e5'), 'CustomerID': '0012', 'Genre': 'Female', 'Annual Income (k$)': '19', 'Spending Score (1-100)': '99', 'NewAge': '35'}\n",
      "{'_id': ObjectId('5e9ab56dcd498716e893e9e6'), 'CustomerID': '0013', 'Genre': 'Female', 'Annual Income (k$)': '20', 'Spending Score (1-100)': '15', 'NewAge': '58'}\n",
      "{'_id': ObjectId('5e9ab56dcd498716e893e9e8'), 'CustomerID': '0015', 'Genre': 'Male', 'Annual Income (k$)': '20', 'Spending Score (1-100)': '13', 'NewAge': '37'}\n",
      "{'_id': ObjectId('5e9ab56dcd498716e893e9ea'), 'CustomerID': '0017', 'Genre': 'Female', 'Annual Income (k$)': '21', 'Spending Score (1-100)': '35', 'NewAge': '35'}\n",
      "{'_id': ObjectId('5e9ab56dcd498716e893e9ec'), 'CustomerID': '0019', 'Genre': 'Male', 'Annual Income (k$)': '23', 'Spending Score (1-100)': '29', 'NewAge': '52'}\n",
      "{'_id': ObjectId('5e9ab56dcd498716e893e9ed'), 'CustomerID': '0020', 'Genre': 'Female', 'Annual Income (k$)': '23', 'Spending Score (1-100)': '98', 'NewAge': '35'}\n",
      "{'_id': ObjectId('5e9ab56dcd498716e893e9ee'), 'CustomerID': '0021', 'Genre': 'Male', 'Annual Income (k$)': '24', 'Spending Score (1-100)': '35', 'NewAge': '35'}\n",
      "{'_id': ObjectId('5e9ab56dcd498716e893e9f0'), 'CustomerID': '0023', 'Genre': 'Female', 'Annual Income (k$)': '25', 'Spending Score (1-100)': '5', 'NewAge': '46'}\n",
      "{'_id': ObjectId('5e9ab56dcd498716e893e9f1'), 'CustomerID': '0024', 'Genre': 'Male', 'Annual Income (k$)': '25', 'Spending Score (1-100)': '73', 'NewAge': '31'}\n",
      "{'_id': ObjectId('5e9ab56dcd498716e893e9f2'), 'CustomerID': '0025', 'Genre': 'Female', 'Annual Income (k$)': '28', 'Spending Score (1-100)': '14', 'NewAge': '54'}\n",
      "{'_id': ObjectId('5e9ab56dcd498716e893e9f4'), 'CustomerID': '0027', 'Genre': 'Female', 'Annual Income (k$)': '28', 'Spending Score (1-100)': '32', 'NewAge': '45'}\n",
      "{'_id': ObjectId('5e9ab56dcd498716e893e9f5'), 'CustomerID': '0028', 'Genre': 'Male', 'Annual Income (k$)': '28', 'Spending Score (1-100)': '61', 'NewAge': '35'}\n",
      "{'_id': ObjectId('5e9ab56dcd498716e893e9f6'), 'CustomerID': '0029', 'Genre': 'Female', 'Annual Income (k$)': '29', 'Spending Score (1-100)': '31', 'NewAge': '40'}\n",
      "{'_id': ObjectId('5e9ab56dcd498716e893e9f8'), 'CustomerID': '0031', 'Genre': 'Male', 'Annual Income (k$)': '30', 'Spending Score (1-100)': '4', 'NewAge': '100', 'Age': '100'}\n",
      "{'_id': ObjectId('5e9ab56dcd498716e893e9fa'), 'CustomerID': '0033', 'Genre': 'Male', 'Annual Income (k$)': '33', 'Spending Score (1-100)': '4', 'NewAge': '100', 'Age': '100'}\n",
      "{'_id': ObjectId('5e9ab56dcd498716e893e9fb'), 'CustomerID': '0034', 'Genre': 'Male', 'Annual Income (k$)': '33', 'Spending Score (1-100)': '92', 'NewAge': '100', 'Age': '100'}\n",
      "{'_id': ObjectId('5e9ab56dcd498716e893e9fc'), 'CustomerID': '0035', 'Genre': 'Female', 'Annual Income (k$)': '33', 'Spending Score (1-100)': '14', 'NewAge': '100', 'Age': '100'}\n",
      "{'_id': ObjectId('5e9ab56dcd498716e893e9fe'), 'CustomerID': '0037', 'Genre': 'Female', 'Annual Income (k$)': '34', 'Spending Score (1-100)': '17', 'NewAge': '100', 'Age': '100'}\n",
      "{'_id': ObjectId('5e9ab56dcd498716e893e9ff'), 'CustomerID': '0038', 'Genre': 'Female', 'Annual Income (k$)': '34', 'Spending Score (1-100)': '73', 'NewAge': '100', 'Age': '100'}\n",
      "{'_id': ObjectId('5e9ab56dcd498716e893ea00'), 'CustomerID': '0039', 'Genre': 'Female', 'Annual Income (k$)': '37', 'Spending Score (1-100)': '26', 'NewAge': '100', 'Age': '100'}\n",
      "{'_id': ObjectId('5e9ab56dcd498716e893ea02'), 'CustomerID': '0041', 'Genre': 'Female', 'Annual Income (k$)': '38', 'Spending Score (1-100)': '35', 'NewAge': '65'}\n",
      "{'_id': ObjectId('5e9ab56dcd498716e893ea04'), 'CustomerID': '0043', 'Genre': 'Male', 'Annual Income (k$)': '39', 'Spending Score (1-100)': '36', 'NewAge': '48'}\n",
      "{'_id': ObjectId('5e9ab56dcd498716e893ea05'), 'CustomerID': '0044', 'Genre': 'Female', 'Annual Income (k$)': '39', 'Spending Score (1-100)': '61', 'NewAge': '31'}\n",
      "{'_id': ObjectId('5e9ab56dcd498716e893ea06'), 'CustomerID': '0045', 'Genre': 'Female', 'Annual Income (k$)': '39', 'Spending Score (1-100)': '28', 'NewAge': '49'}\n",
      "{'_id': ObjectId('5e9ab56dcd498716e893ea08'), 'CustomerID': '0047', 'Genre': 'Female', 'Annual Income (k$)': '40', 'Spending Score (1-100)': '55', 'NewAge': '50'}\n",
      "{'_id': ObjectId('5e9ab56dcd498716e893ea0b'), 'CustomerID': '0050', 'Genre': 'Female', 'Annual Income (k$)': '40', 'Spending Score (1-100)': '42', 'NewAge': '31'}\n",
      "{'_id': ObjectId('5e9ab56dcd498716e893ea0c'), 'CustomerID': '0051', 'Genre': 'Female', 'Annual Income (k$)': '42', 'Spending Score (1-100)': '52', 'NewAge': '49'}\n",
      "{'_id': ObjectId('5e9ab56dcd498716e893ea0d'), 'CustomerID': '0052', 'Genre': 'Male', 'Annual Income (k$)': '42', 'Spending Score (1-100)': '60', 'NewAge': '33'}\n",
      "{'_id': ObjectId('5e9ab56dcd498716e893ea0e'), 'CustomerID': '0053', 'Genre': 'Female', 'Annual Income (k$)': '43', 'Spending Score (1-100)': '54', 'NewAge': '31'}\n",
      "{'_id': ObjectId('5e9ab56dcd498716e893ea0f'), 'CustomerID': '0054', 'Genre': 'Male', 'Annual Income (k$)': '43', 'Spending Score (1-100)': '60', 'NewAge': '59'}\n",
      "{'_id': ObjectId('5e9ab56dcd498716e893ea10'), 'CustomerID': '0055', 'Genre': 'Female', 'Annual Income (k$)': '43', 'Spending Score (1-100)': '45', 'NewAge': '50'}\n",
      "{'_id': ObjectId('5e9ab56dcd498716e893ea11'), 'CustomerID': '0056', 'Genre': 'Male', 'Annual Income (k$)': '43', 'Spending Score (1-100)': '41', 'NewAge': '47'}\n",
      "{'_id': ObjectId('5e9ab56dcd498716e893ea12'), 'CustomerID': '0057', 'Genre': 'Female', 'Annual Income (k$)': '44', 'Spending Score (1-100)': '50', 'NewAge': '51'}\n",
      "{'_id': ObjectId('5e9ab56dcd498716e893ea13'), 'CustomerID': '0058', 'Genre': 'Male', 'Annual Income (k$)': '44', 'Spending Score (1-100)': '46', 'NewAge': '69'}\n",
      "{'_id': ObjectId('5e9ab56dcd498716e893ea15'), 'CustomerID': '0060', 'Genre': 'Male', 'Annual Income (k$)': '46', 'Spending Score (1-100)': '46', 'NewAge': '53'}\n",
      "{'_id': ObjectId('5e9ab56dcd498716e893ea16'), 'CustomerID': '0061', 'Genre': 'Male', 'Annual Income (k$)': '46', 'Spending Score (1-100)': '56', 'NewAge': '70'}\n",
      "{'_id': ObjectId('5e9ab56dcd498716e893ea17'), 'CustomerID': '0062', 'Genre': 'Male', 'Annual Income (k$)': '46', 'Spending Score (1-100)': '55', 'NewAge': '19'}\n",
      "{'_id': ObjectId('5e9ab56dcd498716e893ea18'), 'CustomerID': '0063', 'Genre': 'Female', 'Annual Income (k$)': '47', 'Spending Score (1-100)': '52', 'NewAge': '67'}\n",
      "{'_id': ObjectId('5e9ab56dcd498716e893ea19'), 'CustomerID': '0064', 'Genre': 'Female', 'Annual Income (k$)': '47', 'Spending Score (1-100)': '59', 'NewAge': '54'}\n",
      "{'_id': ObjectId('5e9ab56dcd498716e893ea1a'), 'CustomerID': '0065', 'Genre': 'Male', 'Annual Income (k$)': '48', 'Spending Score (1-100)': '51', 'NewAge': '63'}\n",
      "{'_id': ObjectId('5e9ab56dcd498716e893ea1b'), 'CustomerID': '0066', 'Genre': 'Male', 'Annual Income (k$)': '48', 'Spending Score (1-100)': '59', 'NewAge': '18'}\n",
      "{'_id': ObjectId('5e9ab56dcd498716e893ea1c'), 'CustomerID': '0067', 'Genre': 'Female', 'Annual Income (k$)': '48', 'Spending Score (1-100)': '50', 'NewAge': '43'}\n",
      "{'_id': ObjectId('5e9ab56dcd498716e893ea1d'), 'CustomerID': '0068', 'Genre': 'Female', 'Annual Income (k$)': '48', 'Spending Score (1-100)': '48', 'NewAge': '68'}\n",
      "{'_id': ObjectId('5e9ab56dcd498716e893ea1e'), 'CustomerID': '0069', 'Genre': 'Male', 'Annual Income (k$)': '48', 'Spending Score (1-100)': '59', 'NewAge': '19'}\n",
      "{'_id': ObjectId('5e9ab56dcd498716e893ea1f'), 'CustomerID': '0070', 'Genre': 'Female', 'Annual Income (k$)': '48', 'Spending Score (1-100)': '47', 'NewAge': '32'}\n",
      "{'_id': ObjectId('5e9ab56dcd498716e893ea20'), 'CustomerID': '0071', 'Genre': 'Male', 'Annual Income (k$)': '49', 'Spending Score (1-100)': '55', 'NewAge': '70'}\n",
      "{'_id': ObjectId('5e9ab56dcd498716e893ea21'), 'CustomerID': '0072', 'Genre': 'Female', 'Annual Income (k$)': '49', 'Spending Score (1-100)': '42', 'NewAge': '47'}\n",
      "{'_id': ObjectId('5e9ab56dcd498716e893ea22'), 'CustomerID': '0073', 'Genre': 'Female', 'Annual Income (k$)': '50', 'Spending Score (1-100)': '49', 'NewAge': '60'}\n",
      "{'_id': ObjectId('5e9ab56dcd498716e893ea23'), 'CustomerID': '0074', 'Genre': 'Female', 'Annual Income (k$)': '50', 'Spending Score (1-100)': '56', 'NewAge': '60'}\n",
      "{'_id': ObjectId('5e9ab56dcd498716e893ea24'), 'CustomerID': '0075', 'Genre': 'Male', 'Annual Income (k$)': '54', 'Spending Score (1-100)': '47', 'NewAge': '59'}\n",
      "{'_id': ObjectId('5e9ab56dcd498716e893ea26'), 'CustomerID': '0077', 'Genre': 'Female', 'Annual Income (k$)': '54', 'Spending Score (1-100)': '53', 'NewAge': '45'}\n",
      "{'_id': ObjectId('5e9ab56dcd498716e893ea27'), 'CustomerID': '0078', 'Genre': 'Male', 'Annual Income (k$)': '54', 'Spending Score (1-100)': '48', 'NewAge': '40'}\n",
      "{'_id': ObjectId('5e9ab56dcd498716e893ea29'), 'CustomerID': '0080', 'Genre': 'Female', 'Annual Income (k$)': '54', 'Spending Score (1-100)': '42', 'NewAge': '49'}\n",
      "{'_id': ObjectId('5e9ab56dcd498716e893ea2a'), 'CustomerID': '0081', 'Genre': 'Male', 'Annual Income (k$)': '54', 'Spending Score (1-100)': '51', 'NewAge': '57'}\n",
      "{'_id': ObjectId('5e9ab56dcd498716e893ea2b'), 'CustomerID': '0082', 'Genre': 'Male', 'Annual Income (k$)': '54', 'Spending Score (1-100)': '55', 'NewAge': '38'}\n",
      "{'_id': ObjectId('5e9ab56dcd498716e893ea2c'), 'CustomerID': '0083', 'Genre': 'Male', 'Annual Income (k$)': '54', 'Spending Score (1-100)': '41', 'NewAge': '67'}\n",
      "{'_id': ObjectId('5e9ab56dcd498716e893ea2d'), 'CustomerID': '0084', 'Genre': 'Female', 'Annual Income (k$)': '54', 'Spending Score (1-100)': '44', 'NewAge': '46'}\n",
      "{'_id': ObjectId('5e9ab56dcd498716e893ea2f'), 'CustomerID': '0086', 'Genre': 'Male', 'Annual Income (k$)': '54', 'Spending Score (1-100)': '46', 'NewAge': '48'}\n",
      "{'_id': ObjectId('5e9ab56dcd498716e893ea30'), 'CustomerID': '0087', 'Genre': 'Female', 'Annual Income (k$)': '57', 'Spending Score (1-100)': '58', 'NewAge': '55'}\n",
      "{'_id': ObjectId('5e9ab56dcd498716e893ea32'), 'CustomerID': '0089', 'Genre': 'Female', 'Annual Income (k$)': '58', 'Spending Score (1-100)': '60', 'NewAge': '34'}\n",
      "{'_id': ObjectId('5e9ab56dcd498716e893ea33'), 'CustomerID': '0090', 'Genre': 'Female', 'Annual Income (k$)': '58', 'Spending Score (1-100)': '46', 'NewAge': '50'}\n",
      "{'_id': ObjectId('5e9ab56dcd498716e893ea34'), 'CustomerID': '0091', 'Genre': 'Female', 'Annual Income (k$)': '59', 'Spending Score (1-100)': '55', 'NewAge': '68'}\n",
      "{'_id': ObjectId('5e9ab56dcd498716e893ea35'), 'CustomerID': '0092', 'Genre': 'Male', 'Annual Income (k$)': '59', 'Spending Score (1-100)': '41', 'NewAge': '18'}\n",
      "{'_id': ObjectId('5e9ab56dcd498716e893ea36'), 'CustomerID': '0093', 'Genre': 'Male', 'Annual Income (k$)': '60', 'Spending Score (1-100)': '49', 'NewAge': '48'}\n",
      "{'_id': ObjectId('5e9ab56dcd498716e893ea37'), 'CustomerID': '0094', 'Genre': 'Female', 'Annual Income (k$)': '60', 'Spending Score (1-100)': '40', 'NewAge': '40'}\n",
      "{'_id': ObjectId('5e9ab56dcd498716e893ea38'), 'CustomerID': '0095', 'Genre': 'Female', 'Annual Income (k$)': '60', 'Spending Score (1-100)': '42', 'NewAge': '32'}\n",
      "{'_id': ObjectId('5e9ab56dcd498716e893ea3a'), 'CustomerID': '0097', 'Genre': 'Female', 'Annual Income (k$)': '60', 'Spending Score (1-100)': '47', 'NewAge': '47'}\n",
      "{'_id': ObjectId('5e9ab56dcd498716e893ea3c'), 'CustomerID': '0099', 'Genre': 'Male', 'Annual Income (k$)': '61', 'Spending Score (1-100)': '42', 'NewAge': '48'}\n",
      "{'_id': ObjectId('5e9ab56dcd498716e893ea3f'), 'CustomerID': '0102', 'Genre': 'Female', 'Annual Income (k$)': '62', 'Spending Score (1-100)': '48', 'NewAge': '49'}\n",
      "{'_id': ObjectId('5e9ab56dcd498716e893ea40'), 'CustomerID': '0103', 'Genre': 'Male', 'Annual Income (k$)': '62', 'Spending Score (1-100)': '59', 'NewAge': '67'}\n",
      "{'_id': ObjectId('5e9ab56dcd498716e893ea42'), 'CustomerID': '0105', 'Genre': 'Male', 'Annual Income (k$)': '62', 'Spending Score (1-100)': '56', 'NewAge': '49'}\n",
      "{'_id': ObjectId('5e9ab56dcd498716e893ea44'), 'CustomerID': '0107', 'Genre': 'Female', 'Annual Income (k$)': '63', 'Spending Score (1-100)': '50', 'NewAge': '66'}\n",
      "{'_id': ObjectId('5e9ab56dcd498716e893ea45'), 'CustomerID': '0108', 'Genre': 'Male', 'Annual Income (k$)': '63', 'Spending Score (1-100)': '46', 'NewAge': '54'}\n",
      "{'_id': ObjectId('5e9ab56dcd498716e893ea46'), 'CustomerID': '0109', 'Genre': 'Male', 'Annual Income (k$)': '63', 'Spending Score (1-100)': '43', 'NewAge': '68'}\n",
      "{'_id': ObjectId('5e9ab56dcd498716e893ea47'), 'CustomerID': '0110', 'Genre': 'Male', 'Annual Income (k$)': '63', 'Spending Score (1-100)': '48', 'NewAge': '66'}\n",
      "{'_id': ObjectId('5e9ab56dcd498716e893ea48'), 'CustomerID': '0111', 'Genre': 'Male', 'Annual Income (k$)': '63', 'Spending Score (1-100)': '52', 'NewAge': '65'}\n",
      "{'_id': ObjectId('5e9ab56dcd498716e893ea49'), 'CustomerID': '0112', 'Genre': 'Female', 'Annual Income (k$)': '63', 'Spending Score (1-100)': '54', 'NewAge': '19'}\n",
      "{'_id': ObjectId('5e9ab56dcd498716e893ea4a'), 'CustomerID': '0113', 'Genre': 'Female', 'Annual Income (k$)': '64', 'Spending Score (1-100)': '42', 'NewAge': '38'}\n",
      "{'_id': ObjectId('5e9ab56dcd498716e893ea4b'), 'CustomerID': '0114', 'Genre': 'Male', 'Annual Income (k$)': '64', 'Spending Score (1-100)': '46', 'NewAge': '19'}\n",
      "{'_id': ObjectId('5e9ab56dcd498716e893ea4c'), 'CustomerID': '0115', 'Genre': 'Female', 'Annual Income (k$)': '65', 'Spending Score (1-100)': '48', 'NewAge': '18'}\n",
      "{'_id': ObjectId('5e9ab56dcd498716e893ea4d'), 'CustomerID': '0116', 'Genre': 'Female', 'Annual Income (k$)': '65', 'Spending Score (1-100)': '50', 'NewAge': '19'}\n",
      "{'_id': ObjectId('5e9ab56dcd498716e893ea4e'), 'CustomerID': '0117', 'Genre': 'Female', 'Annual Income (k$)': '65', 'Spending Score (1-100)': '43', 'NewAge': '63'}\n",
      "{'_id': ObjectId('5e9ab56dcd498716e893ea4f'), 'CustomerID': '0118', 'Genre': 'Female', 'Annual Income (k$)': '65', 'Spending Score (1-100)': '59', 'NewAge': '49'}\n",
      "{'_id': ObjectId('5e9ab56dcd498716e893ea50'), 'CustomerID': '0119', 'Genre': 'Female', 'Annual Income (k$)': '67', 'Spending Score (1-100)': '43', 'NewAge': '51'}\n",
      "{'_id': ObjectId('5e9ab56dcd498716e893ea51'), 'CustomerID': '0120', 'Genre': 'Female', 'Annual Income (k$)': '67', 'Spending Score (1-100)': '57', 'NewAge': '50'}\n",
      "{'_id': ObjectId('5e9ab56dcd498716e893ea53'), 'CustomerID': '0122', 'Genre': 'Female', 'Annual Income (k$)': '67', 'Spending Score (1-100)': '40', 'NewAge': '38'}\n",
      "{'_id': ObjectId('5e9ab56dcd498716e893ea54'), 'CustomerID': '0123', 'Genre': 'Female', 'Annual Income (k$)': '69', 'Spending Score (1-100)': '58', 'NewAge': '40'}\n",
      "{'_id': ObjectId('5e9ab56dcd498716e893ea55'), 'CustomerID': '0124', 'Genre': 'Male', 'Annual Income (k$)': '69', 'Spending Score (1-100)': '91', 'NewAge': '39'}\n",
      "{'_id': ObjectId('5e9ab56dcd498716e893ea57'), 'CustomerID': '0126', 'Genre': 'Female', 'Annual Income (k$)': '70', 'Spending Score (1-100)': '77', 'NewAge': '31'}\n",
      "{'_id': ObjectId('5e9ab56dcd498716e893ea58'), 'CustomerID': '0127', 'Genre': 'Male', 'Annual Income (k$)': '71', 'Spending Score (1-100)': '35', 'NewAge': '43'}\n",
      "{'_id': ObjectId('5e9ab56dcd498716e893ea59'), 'CustomerID': '0128', 'Genre': 'Male', 'Annual Income (k$)': '71', 'Spending Score (1-100)': '95', 'NewAge': '40'}\n",
      "{'_id': ObjectId('5e9ab56dcd498716e893ea5a'), 'CustomerID': '0129', 'Genre': 'Male', 'Annual Income (k$)': '71', 'Spending Score (1-100)': '11', 'NewAge': '59'}\n",
      "{'_id': ObjectId('5e9ab56dcd498716e893ea5b'), 'CustomerID': '0130', 'Genre': 'Male', 'Annual Income (k$)': '71', 'Spending Score (1-100)': '75', 'NewAge': '38'}\n",
      "{'_id': ObjectId('5e9ab56dcd498716e893ea5c'), 'CustomerID': '0131', 'Genre': 'Male', 'Annual Income (k$)': '71', 'Spending Score (1-100)': '9', 'NewAge': '47'}\n",
      "{'_id': ObjectId('5e9ab56dcd498716e893ea5d'), 'CustomerID': '0132', 'Genre': 'Male', 'Annual Income (k$)': '71', 'Spending Score (1-100)': '75', 'NewAge': '39'}\n",
      "{'_id': ObjectId('5e9ab56dcd498716e893ea5f'), 'CustomerID': '0134', 'Genre': 'Female', 'Annual Income (k$)': '72', 'Spending Score (1-100)': '71', 'NewAge': '31'}\n",
      "{'_id': ObjectId('5e9ab56dcd498716e893ea62'), 'CustomerID': '0137', 'Genre': 'Female', 'Annual Income (k$)': '73', 'Spending Score (1-100)': '7', 'NewAge': '44'}\n",
      "{'_id': ObjectId('5e9ab56dcd498716e893ea63'), 'CustomerID': '0138', 'Genre': 'Male', 'Annual Income (k$)': '73', 'Spending Score (1-100)': '73', 'NewAge': '32'}\n",
      "{'_id': ObjectId('5e9ab56dcd498716e893ea64'), 'CustomerID': '0139', 'Genre': 'Male', 'Annual Income (k$)': '74', 'Spending Score (1-100)': '10', 'NewAge': '19'}\n",
      "{'_id': ObjectId('5e9ab56dcd498716e893ea65'), 'CustomerID': '0140', 'Genre': 'Female', 'Annual Income (k$)': '74', 'Spending Score (1-100)': '72', 'NewAge': '35'}\n",
      "{'_id': ObjectId('5e9ab56dcd498716e893ea66'), 'CustomerID': '0141', 'Genre': 'Female', 'Annual Income (k$)': '75', 'Spending Score (1-100)': '5', 'NewAge': '57'}\n",
      "{'_id': ObjectId('5e9ab56dcd498716e893ea67'), 'CustomerID': '0142', 'Genre': 'Male', 'Annual Income (k$)': '75', 'Spending Score (1-100)': '93', 'NewAge': '32'}\n",
      "{'_id': ObjectId('5e9ab56dcd498716e893ea69'), 'CustomerID': '0144', 'Genre': 'Female', 'Annual Income (k$)': '76', 'Spending Score (1-100)': '87', 'NewAge': '32'}\n",
      "{'_id': ObjectId('5e9ab56dcd498716e893ea6c'), 'CustomerID': '0147', 'Genre': 'Male', 'Annual Income (k$)': '77', 'Spending Score (1-100)': '36', 'NewAge': '48'}\n",
      "{'_id': ObjectId('5e9ab56dcd498716e893ea6d'), 'CustomerID': '0148', 'Genre': 'Female', 'Annual Income (k$)': '77', 'Spending Score (1-100)': '74', 'NewAge': '32'}\n",
      "{'_id': ObjectId('5e9ab56dcd498716e893ea6e'), 'CustomerID': '0149', 'Genre': 'Female', 'Annual Income (k$)': '78', 'Spending Score (1-100)': '22', 'NewAge': '34'}\n",
      "{'_id': ObjectId('5e9ab56dcd498716e893ea6f'), 'CustomerID': '0150', 'Genre': 'Male', 'Annual Income (k$)': '78', 'Spending Score (1-100)': '90', 'NewAge': '34'}\n",
      "{'_id': ObjectId('5e9ab56dcd498716e893ea70'), 'CustomerID': '0151', 'Genre': 'Male', 'Annual Income (k$)': '78', 'Spending Score (1-100)': '17', 'NewAge': '43'}\n",
      "{'_id': ObjectId('5e9ab56dcd498716e893ea71'), 'CustomerID': '0152', 'Genre': 'Male', 'Annual Income (k$)': '78', 'Spending Score (1-100)': '88', 'NewAge': '39'}\n",
      "{'_id': ObjectId('5e9ab56dcd498716e893ea72'), 'CustomerID': '0153', 'Genre': 'Female', 'Annual Income (k$)': '78', 'Spending Score (1-100)': '20', 'NewAge': '44'}\n",
      "{'_id': ObjectId('5e9ab56dcd498716e893ea73'), 'CustomerID': '0154', 'Genre': 'Female', 'Annual Income (k$)': '78', 'Spending Score (1-100)': '76', 'NewAge': '38'}\n",
      "{'_id': ObjectId('5e9ab56dcd498716e893ea74'), 'CustomerID': '0155', 'Genre': 'Female', 'Annual Income (k$)': '78', 'Spending Score (1-100)': '16', 'NewAge': '47'}\n",
      "{'_id': ObjectId('5e9ab56dcd498716e893ea76'), 'CustomerID': '0157', 'Genre': 'Male', 'Annual Income (k$)': '78', 'Spending Score (1-100)': '1', 'NewAge': '37'}\n",
      "{'_id': ObjectId('5e9ab56dcd498716e893ea77'), 'CustomerID': '0158', 'Genre': 'Female', 'Annual Income (k$)': '78', 'Spending Score (1-100)': '78', 'NewAge': '30'}\n",
      "{'_id': ObjectId('5e9ab56dcd498716e893ea78'), 'CustomerID': '0159', 'Genre': 'Male', 'Annual Income (k$)': '78', 'Spending Score (1-100)': '1', 'NewAge': '34'}\n",
      "{'_id': ObjectId('5e9ab56dcd498716e893ea79'), 'CustomerID': '0160', 'Genre': 'Female', 'Annual Income (k$)': '78', 'Spending Score (1-100)': '73', 'NewAge': '30'}\n",
      "{'_id': ObjectId('5e9ab56dcd498716e893ea7a'), 'CustomerID': '0161', 'Genre': 'Female', 'Annual Income (k$)': '79', 'Spending Score (1-100)': '35', 'NewAge': '56'}\n",
      "{'_id': ObjectId('5e9ab56dcd498716e893ea7c'), 'CustomerID': '0163', 'Genre': 'Male', 'Annual Income (k$)': '81', 'Spending Score (1-100)': '5', 'NewAge': '19'}\n",
      "{'_id': ObjectId('5e9ab56dcd498716e893ea7d'), 'CustomerID': '0164', 'Genre': 'Female', 'Annual Income (k$)': '81', 'Spending Score (1-100)': '93', 'NewAge': '31'}\n",
      "{'_id': ObjectId('5e9ab56dcd498716e893ea7e'), 'CustomerID': '0165', 'Genre': 'Male', 'Annual Income (k$)': '85', 'Spending Score (1-100)': '26', 'NewAge': '50'}\n",
      "{'_id': ObjectId('5e9ab56dcd498716e893ea7f'), 'CustomerID': '0166', 'Genre': 'Female', 'Annual Income (k$)': '85', 'Spending Score (1-100)': '75', 'NewAge': '36'}\n",
      "{'_id': ObjectId('5e9ab56dcd498716e893ea80'), 'CustomerID': '0167', 'Genre': 'Male', 'Annual Income (k$)': '86', 'Spending Score (1-100)': '20', 'NewAge': '42'}\n",
      "{'_id': ObjectId('5e9ab56dcd498716e893ea81'), 'CustomerID': '0168', 'Genre': 'Female', 'Annual Income (k$)': '86', 'Spending Score (1-100)': '95', 'NewAge': '33'}\n",
      "{'_id': ObjectId('5e9ab56dcd498716e893ea82'), 'CustomerID': '0169', 'Genre': 'Female', 'Annual Income (k$)': '87', 'Spending Score (1-100)': '27', 'NewAge': '36'}\n",
      "{'_id': ObjectId('5e9ab56dcd498716e893ea83'), 'CustomerID': '0170', 'Genre': 'Male', 'Annual Income (k$)': '87', 'Spending Score (1-100)': '63', 'NewAge': '32'}\n",
      "{'_id': ObjectId('5e9ab56dcd498716e893ea84'), 'CustomerID': '0171', 'Genre': 'Male', 'Annual Income (k$)': '87', 'Spending Score (1-100)': '13', 'NewAge': '40'}\n",
      "{'_id': ObjectId('5e9ab56dcd498716e893ea86'), 'CustomerID': '0173', 'Genre': 'Male', 'Annual Income (k$)': '87', 'Spending Score (1-100)': '10', 'NewAge': '36'}\n",
      "{'_id': ObjectId('5e9ab56dcd498716e893ea87'), 'CustomerID': '0174', 'Genre': 'Male', 'Annual Income (k$)': '87', 'Spending Score (1-100)': '92', 'NewAge': '36'}\n",
      "{'_id': ObjectId('5e9ab56dcd498716e893ea88'), 'CustomerID': '0175', 'Genre': 'Female', 'Annual Income (k$)': '88', 'Spending Score (1-100)': '13', 'NewAge': '52'}\n",
      "{'_id': ObjectId('5e9ab56dcd498716e893ea89'), 'CustomerID': '0176', 'Genre': 'Female', 'Annual Income (k$)': '88', 'Spending Score (1-100)': '86', 'NewAge': '30'}\n",
      "{'_id': ObjectId('5e9ab56dcd498716e893ea8a'), 'CustomerID': '0177', 'Genre': 'Male', 'Annual Income (k$)': '88', 'Spending Score (1-100)': '15', 'NewAge': '58'}\n",
      "{'_id': ObjectId('5e9ab56dcd498716e893ea8c'), 'CustomerID': '0179', 'Genre': 'Male', 'Annual Income (k$)': '93', 'Spending Score (1-100)': '14', 'NewAge': '59'}\n",
      "{'_id': ObjectId('5e9ab56dcd498716e893ea8d'), 'CustomerID': '0180', 'Genre': 'Male', 'Annual Income (k$)': '93', 'Spending Score (1-100)': '90', 'NewAge': '35'}\n",
      "{'_id': ObjectId('5e9ab56dcd498716e893ea8e'), 'CustomerID': '0181', 'Genre': 'Female', 'Annual Income (k$)': '97', 'Spending Score (1-100)': '32', 'NewAge': '37'}\n",
      "{'_id': ObjectId('5e9ab56dcd498716e893ea8f'), 'CustomerID': '0182', 'Genre': 'Female', 'Annual Income (k$)': '97', 'Spending Score (1-100)': '86', 'NewAge': '32'}\n",
      "{'_id': ObjectId('5e9ab56dcd498716e893ea90'), 'CustomerID': '0183', 'Genre': 'Male', 'Annual Income (k$)': '98', 'Spending Score (1-100)': '15', 'NewAge': '46'}\n",
      "{'_id': ObjectId('5e9ab56dcd498716e893ea92'), 'CustomerID': '0185', 'Genre': 'Female', 'Annual Income (k$)': '99', 'Spending Score (1-100)': '39', 'NewAge': '41'}\n",
      "{'_id': ObjectId('5e9ab56dcd498716e893ea93'), 'CustomerID': '0186', 'Genre': 'Male', 'Annual Income (k$)': '99', 'Spending Score (1-100)': '97', 'NewAge': '30'}\n",
      "{'_id': ObjectId('5e9ab56dcd498716e893ea94'), 'CustomerID': '0187', 'Genre': 'Female', 'Annual Income (k$)': '101', 'Spending Score (1-100)': '24', 'NewAge': '54'}\n",
      "{'_id': ObjectId('5e9ab56dcd498716e893ea96'), 'CustomerID': '0189', 'Genre': 'Female', 'Annual Income (k$)': '103', 'Spending Score (1-100)': '17', 'NewAge': '41'}\n",
      "{'_id': ObjectId('5e9ab56dcd498716e893ea97'), 'CustomerID': '0190', 'Genre': 'Female', 'Annual Income (k$)': '103', 'Spending Score (1-100)': '85', 'NewAge': '36'}\n",
      "{'_id': ObjectId('5e9ab56dcd498716e893ea98'), 'CustomerID': '0191', 'Genre': 'Female', 'Annual Income (k$)': '103', 'Spending Score (1-100)': '23', 'NewAge': '34'}\n",
      "{'_id': ObjectId('5e9ab56dcd498716e893ea99'), 'CustomerID': '0192', 'Genre': 'Female', 'Annual Income (k$)': '103', 'Spending Score (1-100)': '69', 'NewAge': '32'}\n",
      "{'_id': ObjectId('5e9ab56dcd498716e893ea9a'), 'CustomerID': '0193', 'Genre': 'Male', 'Annual Income (k$)': '113', 'Spending Score (1-100)': '8', 'NewAge': '33'}\n",
      "{'_id': ObjectId('5e9ab56dcd498716e893ea9b'), 'CustomerID': '0194', 'Genre': 'Female', 'Annual Income (k$)': '113', 'Spending Score (1-100)': '91', 'NewAge': '38'}\n",
      "{'_id': ObjectId('5e9ab56dcd498716e893ea9c'), 'CustomerID': '0195', 'Genre': 'Female', 'Annual Income (k$)': '120', 'Spending Score (1-100)': '16', 'NewAge': '47'}\n",
      "{'_id': ObjectId('5e9ab56dcd498716e893ea9d'), 'CustomerID': '0196', 'Genre': 'Female', 'Annual Income (k$)': '120', 'Spending Score (1-100)': '79', 'NewAge': '35'}\n",
      "{'_id': ObjectId('5e9ab56dcd498716e893ea9e'), 'CustomerID': '0197', 'Genre': 'Female', 'Annual Income (k$)': '126', 'Spending Score (1-100)': '28', 'NewAge': '45'}\n",
      "{'_id': ObjectId('5e9ab56dcd498716e893ea9f'), 'CustomerID': '0198', 'Genre': 'Male', 'Annual Income (k$)': '126', 'Spending Score (1-100)': '74', 'NewAge': '32'}\n",
      "{'_id': ObjectId('5e9ab56dcd498716e893eaa0'), 'CustomerID': '0199', 'Genre': 'Male', 'Annual Income (k$)': '137', 'Spending Score (1-100)': '18', 'NewAge': '32'}\n"
     ]
    }
   ],
   "source": [
    "for i in tab3.find({}):\n",
    "    print(i)"
   ]
  },
  {
   "cell_type": "code",
   "execution_count": 178,
   "metadata": {},
   "outputs": [],
   "source": [
    "for i in tab3.find({'Age':{'$gt':'65'}}).limit(2):\n",
    "    print(i)"
   ]
  },
  {
   "cell_type": "code",
   "execution_count": 179,
   "metadata": {},
   "outputs": [],
   "source": [
    "for i in tab3.find({'Age':{'$gt':'65'}}).limit(2).sort('Age'): #default ascending order\n",
    "    print(i)"
   ]
  },
  {
   "cell_type": "code",
   "execution_count": 180,
   "metadata": {},
   "outputs": [],
   "source": [
    "for i in tab3.find({'Age':{'$gt':'65'}}).limit(2).sort('Age',-1): #default descending order\n",
    "    print(i)"
   ]
  },
  {
   "cell_type": "code",
   "execution_count": 181,
   "metadata": {},
   "outputs": [
    {
     "data": {
      "text/plain": [
       "['Sample1']"
      ]
     },
     "execution_count": 181,
     "metadata": {},
     "output_type": "execute_result"
    }
   ],
   "source": [
    "db.list_collection_names()"
   ]
  },
  {
   "cell_type": "code",
   "execution_count": null,
   "metadata": {},
   "outputs": [],
   "source": []
  },
  {
   "cell_type": "code",
   "execution_count": null,
   "metadata": {},
   "outputs": [],
   "source": []
  },
  {
   "cell_type": "code",
   "execution_count": null,
   "metadata": {},
   "outputs": [],
   "source": []
  },
  {
   "cell_type": "code",
   "execution_count": 182,
   "metadata": {},
   "outputs": [
    {
     "name": "stdout",
     "output_type": "stream",
     "text": [
      "{'_id': ObjectId('5e9ab56dcd498716e893e9da'), 'CustomerID': '0001', 'Genre': 'Male', 'Annual Income (k$)': '15', 'Spending Score (1-100)': '39', 'NewAge': '19'}\n",
      "{'_id': ObjectId('5e9ab56dcd498716e893e9de'), 'CustomerID': '0005', 'Genre': 'Female', 'Annual Income (k$)': '17', 'Spending Score (1-100)': '40', 'NewAge': '31'}\n",
      "{'_id': ObjectId('5e9ab56dcd498716e893e9e0'), 'CustomerID': '0007', 'Genre': 'Female', 'Annual Income (k$)': '18', 'Spending Score (1-100)': '6', 'NewAge': '35'}\n",
      "{'_id': ObjectId('5e9ab56dcd498716e893e9e2'), 'CustomerID': '0009', 'Genre': 'Male', 'Annual Income (k$)': '19', 'Spending Score (1-100)': '3', 'NewAge': '64'}\n",
      "{'_id': ObjectId('5e9ab56dcd498716e893e9e3'), 'CustomerID': '0010', 'Genre': 'Female', 'Annual Income (k$)': '19', 'Spending Score (1-100)': '72', 'NewAge': '30'}\n",
      "{'_id': ObjectId('5e9ab56dcd498716e893e9e4'), 'CustomerID': '0011', 'Genre': 'Male', 'Annual Income (k$)': '19', 'Spending Score (1-100)': '14', 'NewAge': '67'}\n",
      "{'_id': ObjectId('5e9ab56dcd498716e893e9e5'), 'CustomerID': '0012', 'Genre': 'Female', 'Annual Income (k$)': '19', 'Spending Score (1-100)': '99', 'NewAge': '35'}\n",
      "{'_id': ObjectId('5e9ab56dcd498716e893e9e6'), 'CustomerID': '0013', 'Genre': 'Female', 'Annual Income (k$)': '20', 'Spending Score (1-100)': '15', 'NewAge': '58'}\n",
      "{'_id': ObjectId('5e9ab56dcd498716e893e9e8'), 'CustomerID': '0015', 'Genre': 'Male', 'Annual Income (k$)': '20', 'Spending Score (1-100)': '13', 'NewAge': '37'}\n",
      "{'_id': ObjectId('5e9ab56dcd498716e893e9ea'), 'CustomerID': '0017', 'Genre': 'Female', 'Annual Income (k$)': '21', 'Spending Score (1-100)': '35', 'NewAge': '35'}\n",
      "{'_id': ObjectId('5e9ab56dcd498716e893e9ec'), 'CustomerID': '0019', 'Genre': 'Male', 'Annual Income (k$)': '23', 'Spending Score (1-100)': '29', 'NewAge': '52'}\n",
      "{'_id': ObjectId('5e9ab56dcd498716e893e9ed'), 'CustomerID': '0020', 'Genre': 'Female', 'Annual Income (k$)': '23', 'Spending Score (1-100)': '98', 'NewAge': '35'}\n",
      "{'_id': ObjectId('5e9ab56dcd498716e893e9ee'), 'CustomerID': '0021', 'Genre': 'Male', 'Annual Income (k$)': '24', 'Spending Score (1-100)': '35', 'NewAge': '35'}\n",
      "{'_id': ObjectId('5e9ab56dcd498716e893e9f0'), 'CustomerID': '0023', 'Genre': 'Female', 'Annual Income (k$)': '25', 'Spending Score (1-100)': '5', 'NewAge': '46'}\n",
      "{'_id': ObjectId('5e9ab56dcd498716e893e9f1'), 'CustomerID': '0024', 'Genre': 'Male', 'Annual Income (k$)': '25', 'Spending Score (1-100)': '73', 'NewAge': '31'}\n",
      "{'_id': ObjectId('5e9ab56dcd498716e893e9f2'), 'CustomerID': '0025', 'Genre': 'Female', 'Annual Income (k$)': '28', 'Spending Score (1-100)': '14', 'NewAge': '54'}\n",
      "{'_id': ObjectId('5e9ab56dcd498716e893e9f4'), 'CustomerID': '0027', 'Genre': 'Female', 'Annual Income (k$)': '28', 'Spending Score (1-100)': '32', 'NewAge': '45'}\n",
      "{'_id': ObjectId('5e9ab56dcd498716e893e9f5'), 'CustomerID': '0028', 'Genre': 'Male', 'Annual Income (k$)': '28', 'Spending Score (1-100)': '61', 'NewAge': '35'}\n",
      "{'_id': ObjectId('5e9ab56dcd498716e893e9f6'), 'CustomerID': '0029', 'Genre': 'Female', 'Annual Income (k$)': '29', 'Spending Score (1-100)': '31', 'NewAge': '40'}\n",
      "{'_id': ObjectId('5e9ab56dcd498716e893e9f8'), 'CustomerID': '0031', 'Genre': 'Male', 'Annual Income (k$)': '30', 'Spending Score (1-100)': '4', 'NewAge': '100', 'Age': '100'}\n",
      "{'_id': ObjectId('5e9ab56dcd498716e893e9fa'), 'CustomerID': '0033', 'Genre': 'Male', 'Annual Income (k$)': '33', 'Spending Score (1-100)': '4', 'NewAge': '100', 'Age': '100'}\n",
      "{'_id': ObjectId('5e9ab56dcd498716e893e9fb'), 'CustomerID': '0034', 'Genre': 'Male', 'Annual Income (k$)': '33', 'Spending Score (1-100)': '92', 'NewAge': '100', 'Age': '100'}\n",
      "{'_id': ObjectId('5e9ab56dcd498716e893e9fc'), 'CustomerID': '0035', 'Genre': 'Female', 'Annual Income (k$)': '33', 'Spending Score (1-100)': '14', 'NewAge': '100', 'Age': '100'}\n",
      "{'_id': ObjectId('5e9ab56dcd498716e893e9fe'), 'CustomerID': '0037', 'Genre': 'Female', 'Annual Income (k$)': '34', 'Spending Score (1-100)': '17', 'NewAge': '100', 'Age': '100'}\n",
      "{'_id': ObjectId('5e9ab56dcd498716e893e9ff'), 'CustomerID': '0038', 'Genre': 'Female', 'Annual Income (k$)': '34', 'Spending Score (1-100)': '73', 'NewAge': '100', 'Age': '100'}\n",
      "{'_id': ObjectId('5e9ab56dcd498716e893ea00'), 'CustomerID': '0039', 'Genre': 'Female', 'Annual Income (k$)': '37', 'Spending Score (1-100)': '26', 'NewAge': '100', 'Age': '100'}\n",
      "{'_id': ObjectId('5e9ab56dcd498716e893ea02'), 'CustomerID': '0041', 'Genre': 'Female', 'Annual Income (k$)': '38', 'Spending Score (1-100)': '35', 'NewAge': '65'}\n",
      "{'_id': ObjectId('5e9ab56dcd498716e893ea04'), 'CustomerID': '0043', 'Genre': 'Male', 'Annual Income (k$)': '39', 'Spending Score (1-100)': '36', 'NewAge': '48'}\n",
      "{'_id': ObjectId('5e9ab56dcd498716e893ea05'), 'CustomerID': '0044', 'Genre': 'Female', 'Annual Income (k$)': '39', 'Spending Score (1-100)': '61', 'NewAge': '31'}\n",
      "{'_id': ObjectId('5e9ab56dcd498716e893ea06'), 'CustomerID': '0045', 'Genre': 'Female', 'Annual Income (k$)': '39', 'Spending Score (1-100)': '28', 'NewAge': '49'}\n",
      "{'_id': ObjectId('5e9ab56dcd498716e893ea08'), 'CustomerID': '0047', 'Genre': 'Female', 'Annual Income (k$)': '40', 'Spending Score (1-100)': '55', 'NewAge': '50'}\n",
      "{'_id': ObjectId('5e9ab56dcd498716e893ea0b'), 'CustomerID': '0050', 'Genre': 'Female', 'Annual Income (k$)': '40', 'Spending Score (1-100)': '42', 'NewAge': '31'}\n",
      "{'_id': ObjectId('5e9ab56dcd498716e893ea0c'), 'CustomerID': '0051', 'Genre': 'Female', 'Annual Income (k$)': '42', 'Spending Score (1-100)': '52', 'NewAge': '49'}\n",
      "{'_id': ObjectId('5e9ab56dcd498716e893ea0d'), 'CustomerID': '0052', 'Genre': 'Male', 'Annual Income (k$)': '42', 'Spending Score (1-100)': '60', 'NewAge': '33'}\n",
      "{'_id': ObjectId('5e9ab56dcd498716e893ea0e'), 'CustomerID': '0053', 'Genre': 'Female', 'Annual Income (k$)': '43', 'Spending Score (1-100)': '54', 'NewAge': '31'}\n",
      "{'_id': ObjectId('5e9ab56dcd498716e893ea0f'), 'CustomerID': '0054', 'Genre': 'Male', 'Annual Income (k$)': '43', 'Spending Score (1-100)': '60', 'NewAge': '59'}\n",
      "{'_id': ObjectId('5e9ab56dcd498716e893ea10'), 'CustomerID': '0055', 'Genre': 'Female', 'Annual Income (k$)': '43', 'Spending Score (1-100)': '45', 'NewAge': '50'}\n",
      "{'_id': ObjectId('5e9ab56dcd498716e893ea11'), 'CustomerID': '0056', 'Genre': 'Male', 'Annual Income (k$)': '43', 'Spending Score (1-100)': '41', 'NewAge': '47'}\n",
      "{'_id': ObjectId('5e9ab56dcd498716e893ea12'), 'CustomerID': '0057', 'Genre': 'Female', 'Annual Income (k$)': '44', 'Spending Score (1-100)': '50', 'NewAge': '51'}\n",
      "{'_id': ObjectId('5e9ab56dcd498716e893ea13'), 'CustomerID': '0058', 'Genre': 'Male', 'Annual Income (k$)': '44', 'Spending Score (1-100)': '46', 'NewAge': '69'}\n",
      "{'_id': ObjectId('5e9ab56dcd498716e893ea15'), 'CustomerID': '0060', 'Genre': 'Male', 'Annual Income (k$)': '46', 'Spending Score (1-100)': '46', 'NewAge': '53'}\n",
      "{'_id': ObjectId('5e9ab56dcd498716e893ea16'), 'CustomerID': '0061', 'Genre': 'Male', 'Annual Income (k$)': '46', 'Spending Score (1-100)': '56', 'NewAge': '70'}\n",
      "{'_id': ObjectId('5e9ab56dcd498716e893ea17'), 'CustomerID': '0062', 'Genre': 'Male', 'Annual Income (k$)': '46', 'Spending Score (1-100)': '55', 'NewAge': '19'}\n",
      "{'_id': ObjectId('5e9ab56dcd498716e893ea18'), 'CustomerID': '0063', 'Genre': 'Female', 'Annual Income (k$)': '47', 'Spending Score (1-100)': '52', 'NewAge': '67'}\n",
      "{'_id': ObjectId('5e9ab56dcd498716e893ea19'), 'CustomerID': '0064', 'Genre': 'Female', 'Annual Income (k$)': '47', 'Spending Score (1-100)': '59', 'NewAge': '54'}\n",
      "{'_id': ObjectId('5e9ab56dcd498716e893ea1a'), 'CustomerID': '0065', 'Genre': 'Male', 'Annual Income (k$)': '48', 'Spending Score (1-100)': '51', 'NewAge': '63'}\n",
      "{'_id': ObjectId('5e9ab56dcd498716e893ea1b'), 'CustomerID': '0066', 'Genre': 'Male', 'Annual Income (k$)': '48', 'Spending Score (1-100)': '59', 'NewAge': '18'}\n",
      "{'_id': ObjectId('5e9ab56dcd498716e893ea1c'), 'CustomerID': '0067', 'Genre': 'Female', 'Annual Income (k$)': '48', 'Spending Score (1-100)': '50', 'NewAge': '43'}\n",
      "{'_id': ObjectId('5e9ab56dcd498716e893ea1d'), 'CustomerID': '0068', 'Genre': 'Female', 'Annual Income (k$)': '48', 'Spending Score (1-100)': '48', 'NewAge': '68'}\n",
      "{'_id': ObjectId('5e9ab56dcd498716e893ea1e'), 'CustomerID': '0069', 'Genre': 'Male', 'Annual Income (k$)': '48', 'Spending Score (1-100)': '59', 'NewAge': '19'}\n",
      "{'_id': ObjectId('5e9ab56dcd498716e893ea1f'), 'CustomerID': '0070', 'Genre': 'Female', 'Annual Income (k$)': '48', 'Spending Score (1-100)': '47', 'NewAge': '32'}\n",
      "{'_id': ObjectId('5e9ab56dcd498716e893ea20'), 'CustomerID': '0071', 'Genre': 'Male', 'Annual Income (k$)': '49', 'Spending Score (1-100)': '55', 'NewAge': '70'}\n",
      "{'_id': ObjectId('5e9ab56dcd498716e893ea21'), 'CustomerID': '0072', 'Genre': 'Female', 'Annual Income (k$)': '49', 'Spending Score (1-100)': '42', 'NewAge': '47'}\n",
      "{'_id': ObjectId('5e9ab56dcd498716e893ea22'), 'CustomerID': '0073', 'Genre': 'Female', 'Annual Income (k$)': '50', 'Spending Score (1-100)': '49', 'NewAge': '60'}\n",
      "{'_id': ObjectId('5e9ab56dcd498716e893ea23'), 'CustomerID': '0074', 'Genre': 'Female', 'Annual Income (k$)': '50', 'Spending Score (1-100)': '56', 'NewAge': '60'}\n",
      "{'_id': ObjectId('5e9ab56dcd498716e893ea24'), 'CustomerID': '0075', 'Genre': 'Male', 'Annual Income (k$)': '54', 'Spending Score (1-100)': '47', 'NewAge': '59'}\n",
      "{'_id': ObjectId('5e9ab56dcd498716e893ea26'), 'CustomerID': '0077', 'Genre': 'Female', 'Annual Income (k$)': '54', 'Spending Score (1-100)': '53', 'NewAge': '45'}\n",
      "{'_id': ObjectId('5e9ab56dcd498716e893ea27'), 'CustomerID': '0078', 'Genre': 'Male', 'Annual Income (k$)': '54', 'Spending Score (1-100)': '48', 'NewAge': '40'}\n",
      "{'_id': ObjectId('5e9ab56dcd498716e893ea29'), 'CustomerID': '0080', 'Genre': 'Female', 'Annual Income (k$)': '54', 'Spending Score (1-100)': '42', 'NewAge': '49'}\n",
      "{'_id': ObjectId('5e9ab56dcd498716e893ea2a'), 'CustomerID': '0081', 'Genre': 'Male', 'Annual Income (k$)': '54', 'Spending Score (1-100)': '51', 'NewAge': '57'}\n",
      "{'_id': ObjectId('5e9ab56dcd498716e893ea2b'), 'CustomerID': '0082', 'Genre': 'Male', 'Annual Income (k$)': '54', 'Spending Score (1-100)': '55', 'NewAge': '38'}\n",
      "{'_id': ObjectId('5e9ab56dcd498716e893ea2c'), 'CustomerID': '0083', 'Genre': 'Male', 'Annual Income (k$)': '54', 'Spending Score (1-100)': '41', 'NewAge': '67'}\n",
      "{'_id': ObjectId('5e9ab56dcd498716e893ea2d'), 'CustomerID': '0084', 'Genre': 'Female', 'Annual Income (k$)': '54', 'Spending Score (1-100)': '44', 'NewAge': '46'}\n",
      "{'_id': ObjectId('5e9ab56dcd498716e893ea2f'), 'CustomerID': '0086', 'Genre': 'Male', 'Annual Income (k$)': '54', 'Spending Score (1-100)': '46', 'NewAge': '48'}\n",
      "{'_id': ObjectId('5e9ab56dcd498716e893ea30'), 'CustomerID': '0087', 'Genre': 'Female', 'Annual Income (k$)': '57', 'Spending Score (1-100)': '58', 'NewAge': '55'}\n",
      "{'_id': ObjectId('5e9ab56dcd498716e893ea32'), 'CustomerID': '0089', 'Genre': 'Female', 'Annual Income (k$)': '58', 'Spending Score (1-100)': '60', 'NewAge': '34'}\n",
      "{'_id': ObjectId('5e9ab56dcd498716e893ea33'), 'CustomerID': '0090', 'Genre': 'Female', 'Annual Income (k$)': '58', 'Spending Score (1-100)': '46', 'NewAge': '50'}\n",
      "{'_id': ObjectId('5e9ab56dcd498716e893ea34'), 'CustomerID': '0091', 'Genre': 'Female', 'Annual Income (k$)': '59', 'Spending Score (1-100)': '55', 'NewAge': '68'}\n",
      "{'_id': ObjectId('5e9ab56dcd498716e893ea35'), 'CustomerID': '0092', 'Genre': 'Male', 'Annual Income (k$)': '59', 'Spending Score (1-100)': '41', 'NewAge': '18'}\n",
      "{'_id': ObjectId('5e9ab56dcd498716e893ea36'), 'CustomerID': '0093', 'Genre': 'Male', 'Annual Income (k$)': '60', 'Spending Score (1-100)': '49', 'NewAge': '48'}\n",
      "{'_id': ObjectId('5e9ab56dcd498716e893ea37'), 'CustomerID': '0094', 'Genre': 'Female', 'Annual Income (k$)': '60', 'Spending Score (1-100)': '40', 'NewAge': '40'}\n",
      "{'_id': ObjectId('5e9ab56dcd498716e893ea38'), 'CustomerID': '0095', 'Genre': 'Female', 'Annual Income (k$)': '60', 'Spending Score (1-100)': '42', 'NewAge': '32'}\n",
      "{'_id': ObjectId('5e9ab56dcd498716e893ea3a'), 'CustomerID': '0097', 'Genre': 'Female', 'Annual Income (k$)': '60', 'Spending Score (1-100)': '47', 'NewAge': '47'}\n",
      "{'_id': ObjectId('5e9ab56dcd498716e893ea3c'), 'CustomerID': '0099', 'Genre': 'Male', 'Annual Income (k$)': '61', 'Spending Score (1-100)': '42', 'NewAge': '48'}\n",
      "{'_id': ObjectId('5e9ab56dcd498716e893ea3f'), 'CustomerID': '0102', 'Genre': 'Female', 'Annual Income (k$)': '62', 'Spending Score (1-100)': '48', 'NewAge': '49'}\n",
      "{'_id': ObjectId('5e9ab56dcd498716e893ea40'), 'CustomerID': '0103', 'Genre': 'Male', 'Annual Income (k$)': '62', 'Spending Score (1-100)': '59', 'NewAge': '67'}\n",
      "{'_id': ObjectId('5e9ab56dcd498716e893ea42'), 'CustomerID': '0105', 'Genre': 'Male', 'Annual Income (k$)': '62', 'Spending Score (1-100)': '56', 'NewAge': '49'}\n",
      "{'_id': ObjectId('5e9ab56dcd498716e893ea44'), 'CustomerID': '0107', 'Genre': 'Female', 'Annual Income (k$)': '63', 'Spending Score (1-100)': '50', 'NewAge': '66'}\n",
      "{'_id': ObjectId('5e9ab56dcd498716e893ea45'), 'CustomerID': '0108', 'Genre': 'Male', 'Annual Income (k$)': '63', 'Spending Score (1-100)': '46', 'NewAge': '54'}\n",
      "{'_id': ObjectId('5e9ab56dcd498716e893ea46'), 'CustomerID': '0109', 'Genre': 'Male', 'Annual Income (k$)': '63', 'Spending Score (1-100)': '43', 'NewAge': '68'}\n",
      "{'_id': ObjectId('5e9ab56dcd498716e893ea47'), 'CustomerID': '0110', 'Genre': 'Male', 'Annual Income (k$)': '63', 'Spending Score (1-100)': '48', 'NewAge': '66'}\n",
      "{'_id': ObjectId('5e9ab56dcd498716e893ea48'), 'CustomerID': '0111', 'Genre': 'Male', 'Annual Income (k$)': '63', 'Spending Score (1-100)': '52', 'NewAge': '65'}\n",
      "{'_id': ObjectId('5e9ab56dcd498716e893ea49'), 'CustomerID': '0112', 'Genre': 'Female', 'Annual Income (k$)': '63', 'Spending Score (1-100)': '54', 'NewAge': '19'}\n",
      "{'_id': ObjectId('5e9ab56dcd498716e893ea4a'), 'CustomerID': '0113', 'Genre': 'Female', 'Annual Income (k$)': '64', 'Spending Score (1-100)': '42', 'NewAge': '38'}\n",
      "{'_id': ObjectId('5e9ab56dcd498716e893ea4b'), 'CustomerID': '0114', 'Genre': 'Male', 'Annual Income (k$)': '64', 'Spending Score (1-100)': '46', 'NewAge': '19'}\n",
      "{'_id': ObjectId('5e9ab56dcd498716e893ea4c'), 'CustomerID': '0115', 'Genre': 'Female', 'Annual Income (k$)': '65', 'Spending Score (1-100)': '48', 'NewAge': '18'}\n",
      "{'_id': ObjectId('5e9ab56dcd498716e893ea4d'), 'CustomerID': '0116', 'Genre': 'Female', 'Annual Income (k$)': '65', 'Spending Score (1-100)': '50', 'NewAge': '19'}\n",
      "{'_id': ObjectId('5e9ab56dcd498716e893ea4e'), 'CustomerID': '0117', 'Genre': 'Female', 'Annual Income (k$)': '65', 'Spending Score (1-100)': '43', 'NewAge': '63'}\n",
      "{'_id': ObjectId('5e9ab56dcd498716e893ea4f'), 'CustomerID': '0118', 'Genre': 'Female', 'Annual Income (k$)': '65', 'Spending Score (1-100)': '59', 'NewAge': '49'}\n",
      "{'_id': ObjectId('5e9ab56dcd498716e893ea50'), 'CustomerID': '0119', 'Genre': 'Female', 'Annual Income (k$)': '67', 'Spending Score (1-100)': '43', 'NewAge': '51'}\n",
      "{'_id': ObjectId('5e9ab56dcd498716e893ea51'), 'CustomerID': '0120', 'Genre': 'Female', 'Annual Income (k$)': '67', 'Spending Score (1-100)': '57', 'NewAge': '50'}\n",
      "{'_id': ObjectId('5e9ab56dcd498716e893ea53'), 'CustomerID': '0122', 'Genre': 'Female', 'Annual Income (k$)': '67', 'Spending Score (1-100)': '40', 'NewAge': '38'}\n",
      "{'_id': ObjectId('5e9ab56dcd498716e893ea54'), 'CustomerID': '0123', 'Genre': 'Female', 'Annual Income (k$)': '69', 'Spending Score (1-100)': '58', 'NewAge': '40'}\n",
      "{'_id': ObjectId('5e9ab56dcd498716e893ea55'), 'CustomerID': '0124', 'Genre': 'Male', 'Annual Income (k$)': '69', 'Spending Score (1-100)': '91', 'NewAge': '39'}\n",
      "{'_id': ObjectId('5e9ab56dcd498716e893ea57'), 'CustomerID': '0126', 'Genre': 'Female', 'Annual Income (k$)': '70', 'Spending Score (1-100)': '77', 'NewAge': '31'}\n",
      "{'_id': ObjectId('5e9ab56dcd498716e893ea58'), 'CustomerID': '0127', 'Genre': 'Male', 'Annual Income (k$)': '71', 'Spending Score (1-100)': '35', 'NewAge': '43'}\n",
      "{'_id': ObjectId('5e9ab56dcd498716e893ea59'), 'CustomerID': '0128', 'Genre': 'Male', 'Annual Income (k$)': '71', 'Spending Score (1-100)': '95', 'NewAge': '40'}\n",
      "{'_id': ObjectId('5e9ab56dcd498716e893ea5a'), 'CustomerID': '0129', 'Genre': 'Male', 'Annual Income (k$)': '71', 'Spending Score (1-100)': '11', 'NewAge': '59'}\n",
      "{'_id': ObjectId('5e9ab56dcd498716e893ea5b'), 'CustomerID': '0130', 'Genre': 'Male', 'Annual Income (k$)': '71', 'Spending Score (1-100)': '75', 'NewAge': '38'}\n",
      "{'_id': ObjectId('5e9ab56dcd498716e893ea5c'), 'CustomerID': '0131', 'Genre': 'Male', 'Annual Income (k$)': '71', 'Spending Score (1-100)': '9', 'NewAge': '47'}\n",
      "{'_id': ObjectId('5e9ab56dcd498716e893ea5d'), 'CustomerID': '0132', 'Genre': 'Male', 'Annual Income (k$)': '71', 'Spending Score (1-100)': '75', 'NewAge': '39'}\n",
      "{'_id': ObjectId('5e9ab56dcd498716e893ea5f'), 'CustomerID': '0134', 'Genre': 'Female', 'Annual Income (k$)': '72', 'Spending Score (1-100)': '71', 'NewAge': '31'}\n",
      "{'_id': ObjectId('5e9ab56dcd498716e893ea62'), 'CustomerID': '0137', 'Genre': 'Female', 'Annual Income (k$)': '73', 'Spending Score (1-100)': '7', 'NewAge': '44'}\n",
      "{'_id': ObjectId('5e9ab56dcd498716e893ea63'), 'CustomerID': '0138', 'Genre': 'Male', 'Annual Income (k$)': '73', 'Spending Score (1-100)': '73', 'NewAge': '32'}\n",
      "{'_id': ObjectId('5e9ab56dcd498716e893ea64'), 'CustomerID': '0139', 'Genre': 'Male', 'Annual Income (k$)': '74', 'Spending Score (1-100)': '10', 'NewAge': '19'}\n",
      "{'_id': ObjectId('5e9ab56dcd498716e893ea65'), 'CustomerID': '0140', 'Genre': 'Female', 'Annual Income (k$)': '74', 'Spending Score (1-100)': '72', 'NewAge': '35'}\n",
      "{'_id': ObjectId('5e9ab56dcd498716e893ea66'), 'CustomerID': '0141', 'Genre': 'Female', 'Annual Income (k$)': '75', 'Spending Score (1-100)': '5', 'NewAge': '57'}\n",
      "{'_id': ObjectId('5e9ab56dcd498716e893ea67'), 'CustomerID': '0142', 'Genre': 'Male', 'Annual Income (k$)': '75', 'Spending Score (1-100)': '93', 'NewAge': '32'}\n",
      "{'_id': ObjectId('5e9ab56dcd498716e893ea69'), 'CustomerID': '0144', 'Genre': 'Female', 'Annual Income (k$)': '76', 'Spending Score (1-100)': '87', 'NewAge': '32'}\n",
      "{'_id': ObjectId('5e9ab56dcd498716e893ea6c'), 'CustomerID': '0147', 'Genre': 'Male', 'Annual Income (k$)': '77', 'Spending Score (1-100)': '36', 'NewAge': '48'}\n",
      "{'_id': ObjectId('5e9ab56dcd498716e893ea6d'), 'CustomerID': '0148', 'Genre': 'Female', 'Annual Income (k$)': '77', 'Spending Score (1-100)': '74', 'NewAge': '32'}\n",
      "{'_id': ObjectId('5e9ab56dcd498716e893ea6e'), 'CustomerID': '0149', 'Genre': 'Female', 'Annual Income (k$)': '78', 'Spending Score (1-100)': '22', 'NewAge': '34'}\n",
      "{'_id': ObjectId('5e9ab56dcd498716e893ea6f'), 'CustomerID': '0150', 'Genre': 'Male', 'Annual Income (k$)': '78', 'Spending Score (1-100)': '90', 'NewAge': '34'}\n",
      "{'_id': ObjectId('5e9ab56dcd498716e893ea70'), 'CustomerID': '0151', 'Genre': 'Male', 'Annual Income (k$)': '78', 'Spending Score (1-100)': '17', 'NewAge': '43'}\n",
      "{'_id': ObjectId('5e9ab56dcd498716e893ea71'), 'CustomerID': '0152', 'Genre': 'Male', 'Annual Income (k$)': '78', 'Spending Score (1-100)': '88', 'NewAge': '39'}\n",
      "{'_id': ObjectId('5e9ab56dcd498716e893ea72'), 'CustomerID': '0153', 'Genre': 'Female', 'Annual Income (k$)': '78', 'Spending Score (1-100)': '20', 'NewAge': '44'}\n",
      "{'_id': ObjectId('5e9ab56dcd498716e893ea73'), 'CustomerID': '0154', 'Genre': 'Female', 'Annual Income (k$)': '78', 'Spending Score (1-100)': '76', 'NewAge': '38'}\n",
      "{'_id': ObjectId('5e9ab56dcd498716e893ea74'), 'CustomerID': '0155', 'Genre': 'Female', 'Annual Income (k$)': '78', 'Spending Score (1-100)': '16', 'NewAge': '47'}\n",
      "{'_id': ObjectId('5e9ab56dcd498716e893ea76'), 'CustomerID': '0157', 'Genre': 'Male', 'Annual Income (k$)': '78', 'Spending Score (1-100)': '1', 'NewAge': '37'}\n",
      "{'_id': ObjectId('5e9ab56dcd498716e893ea77'), 'CustomerID': '0158', 'Genre': 'Female', 'Annual Income (k$)': '78', 'Spending Score (1-100)': '78', 'NewAge': '30'}\n",
      "{'_id': ObjectId('5e9ab56dcd498716e893ea78'), 'CustomerID': '0159', 'Genre': 'Male', 'Annual Income (k$)': '78', 'Spending Score (1-100)': '1', 'NewAge': '34'}\n",
      "{'_id': ObjectId('5e9ab56dcd498716e893ea79'), 'CustomerID': '0160', 'Genre': 'Female', 'Annual Income (k$)': '78', 'Spending Score (1-100)': '73', 'NewAge': '30'}\n",
      "{'_id': ObjectId('5e9ab56dcd498716e893ea7a'), 'CustomerID': '0161', 'Genre': 'Female', 'Annual Income (k$)': '79', 'Spending Score (1-100)': '35', 'NewAge': '56'}\n",
      "{'_id': ObjectId('5e9ab56dcd498716e893ea7c'), 'CustomerID': '0163', 'Genre': 'Male', 'Annual Income (k$)': '81', 'Spending Score (1-100)': '5', 'NewAge': '19'}\n",
      "{'_id': ObjectId('5e9ab56dcd498716e893ea7d'), 'CustomerID': '0164', 'Genre': 'Female', 'Annual Income (k$)': '81', 'Spending Score (1-100)': '93', 'NewAge': '31'}\n",
      "{'_id': ObjectId('5e9ab56dcd498716e893ea7e'), 'CustomerID': '0165', 'Genre': 'Male', 'Annual Income (k$)': '85', 'Spending Score (1-100)': '26', 'NewAge': '50'}\n",
      "{'_id': ObjectId('5e9ab56dcd498716e893ea7f'), 'CustomerID': '0166', 'Genre': 'Female', 'Annual Income (k$)': '85', 'Spending Score (1-100)': '75', 'NewAge': '36'}\n",
      "{'_id': ObjectId('5e9ab56dcd498716e893ea80'), 'CustomerID': '0167', 'Genre': 'Male', 'Annual Income (k$)': '86', 'Spending Score (1-100)': '20', 'NewAge': '42'}\n",
      "{'_id': ObjectId('5e9ab56dcd498716e893ea81'), 'CustomerID': '0168', 'Genre': 'Female', 'Annual Income (k$)': '86', 'Spending Score (1-100)': '95', 'NewAge': '33'}\n",
      "{'_id': ObjectId('5e9ab56dcd498716e893ea82'), 'CustomerID': '0169', 'Genre': 'Female', 'Annual Income (k$)': '87', 'Spending Score (1-100)': '27', 'NewAge': '36'}\n",
      "{'_id': ObjectId('5e9ab56dcd498716e893ea83'), 'CustomerID': '0170', 'Genre': 'Male', 'Annual Income (k$)': '87', 'Spending Score (1-100)': '63', 'NewAge': '32'}\n",
      "{'_id': ObjectId('5e9ab56dcd498716e893ea84'), 'CustomerID': '0171', 'Genre': 'Male', 'Annual Income (k$)': '87', 'Spending Score (1-100)': '13', 'NewAge': '40'}\n",
      "{'_id': ObjectId('5e9ab56dcd498716e893ea86'), 'CustomerID': '0173', 'Genre': 'Male', 'Annual Income (k$)': '87', 'Spending Score (1-100)': '10', 'NewAge': '36'}\n",
      "{'_id': ObjectId('5e9ab56dcd498716e893ea87'), 'CustomerID': '0174', 'Genre': 'Male', 'Annual Income (k$)': '87', 'Spending Score (1-100)': '92', 'NewAge': '36'}\n",
      "{'_id': ObjectId('5e9ab56dcd498716e893ea88'), 'CustomerID': '0175', 'Genre': 'Female', 'Annual Income (k$)': '88', 'Spending Score (1-100)': '13', 'NewAge': '52'}\n",
      "{'_id': ObjectId('5e9ab56dcd498716e893ea89'), 'CustomerID': '0176', 'Genre': 'Female', 'Annual Income (k$)': '88', 'Spending Score (1-100)': '86', 'NewAge': '30'}\n",
      "{'_id': ObjectId('5e9ab56dcd498716e893ea8a'), 'CustomerID': '0177', 'Genre': 'Male', 'Annual Income (k$)': '88', 'Spending Score (1-100)': '15', 'NewAge': '58'}\n",
      "{'_id': ObjectId('5e9ab56dcd498716e893ea8c'), 'CustomerID': '0179', 'Genre': 'Male', 'Annual Income (k$)': '93', 'Spending Score (1-100)': '14', 'NewAge': '59'}\n",
      "{'_id': ObjectId('5e9ab56dcd498716e893ea8d'), 'CustomerID': '0180', 'Genre': 'Male', 'Annual Income (k$)': '93', 'Spending Score (1-100)': '90', 'NewAge': '35'}\n",
      "{'_id': ObjectId('5e9ab56dcd498716e893ea8e'), 'CustomerID': '0181', 'Genre': 'Female', 'Annual Income (k$)': '97', 'Spending Score (1-100)': '32', 'NewAge': '37'}\n",
      "{'_id': ObjectId('5e9ab56dcd498716e893ea8f'), 'CustomerID': '0182', 'Genre': 'Female', 'Annual Income (k$)': '97', 'Spending Score (1-100)': '86', 'NewAge': '32'}\n",
      "{'_id': ObjectId('5e9ab56dcd498716e893ea90'), 'CustomerID': '0183', 'Genre': 'Male', 'Annual Income (k$)': '98', 'Spending Score (1-100)': '15', 'NewAge': '46'}\n",
      "{'_id': ObjectId('5e9ab56dcd498716e893ea92'), 'CustomerID': '0185', 'Genre': 'Female', 'Annual Income (k$)': '99', 'Spending Score (1-100)': '39', 'NewAge': '41'}\n",
      "{'_id': ObjectId('5e9ab56dcd498716e893ea93'), 'CustomerID': '0186', 'Genre': 'Male', 'Annual Income (k$)': '99', 'Spending Score (1-100)': '97', 'NewAge': '30'}\n",
      "{'_id': ObjectId('5e9ab56dcd498716e893ea94'), 'CustomerID': '0187', 'Genre': 'Female', 'Annual Income (k$)': '101', 'Spending Score (1-100)': '24', 'NewAge': '54'}\n",
      "{'_id': ObjectId('5e9ab56dcd498716e893ea96'), 'CustomerID': '0189', 'Genre': 'Female', 'Annual Income (k$)': '103', 'Spending Score (1-100)': '17', 'NewAge': '41'}\n",
      "{'_id': ObjectId('5e9ab56dcd498716e893ea97'), 'CustomerID': '0190', 'Genre': 'Female', 'Annual Income (k$)': '103', 'Spending Score (1-100)': '85', 'NewAge': '36'}\n",
      "{'_id': ObjectId('5e9ab56dcd498716e893ea98'), 'CustomerID': '0191', 'Genre': 'Female', 'Annual Income (k$)': '103', 'Spending Score (1-100)': '23', 'NewAge': '34'}\n",
      "{'_id': ObjectId('5e9ab56dcd498716e893ea99'), 'CustomerID': '0192', 'Genre': 'Female', 'Annual Income (k$)': '103', 'Spending Score (1-100)': '69', 'NewAge': '32'}\n",
      "{'_id': ObjectId('5e9ab56dcd498716e893ea9a'), 'CustomerID': '0193', 'Genre': 'Male', 'Annual Income (k$)': '113', 'Spending Score (1-100)': '8', 'NewAge': '33'}\n",
      "{'_id': ObjectId('5e9ab56dcd498716e893ea9b'), 'CustomerID': '0194', 'Genre': 'Female', 'Annual Income (k$)': '113', 'Spending Score (1-100)': '91', 'NewAge': '38'}\n",
      "{'_id': ObjectId('5e9ab56dcd498716e893ea9c'), 'CustomerID': '0195', 'Genre': 'Female', 'Annual Income (k$)': '120', 'Spending Score (1-100)': '16', 'NewAge': '47'}\n",
      "{'_id': ObjectId('5e9ab56dcd498716e893ea9d'), 'CustomerID': '0196', 'Genre': 'Female', 'Annual Income (k$)': '120', 'Spending Score (1-100)': '79', 'NewAge': '35'}\n",
      "{'_id': ObjectId('5e9ab56dcd498716e893ea9e'), 'CustomerID': '0197', 'Genre': 'Female', 'Annual Income (k$)': '126', 'Spending Score (1-100)': '28', 'NewAge': '45'}\n",
      "{'_id': ObjectId('5e9ab56dcd498716e893ea9f'), 'CustomerID': '0198', 'Genre': 'Male', 'Annual Income (k$)': '126', 'Spending Score (1-100)': '74', 'NewAge': '32'}\n",
      "{'_id': ObjectId('5e9ab56dcd498716e893eaa0'), 'CustomerID': '0199', 'Genre': 'Male', 'Annual Income (k$)': '137', 'Spending Score (1-100)': '18', 'NewAge': '32'}\n"
     ]
    }
   ],
   "source": [
    "for i in tab3.find():\n",
    "    print(i)"
   ]
  },
  {
   "cell_type": "code",
   "execution_count": 183,
   "metadata": {},
   "outputs": [],
   "source": [
    "x = tab3.update_many({},{'$rename':{'Age':'NewAge'}})"
   ]
  },
  {
   "cell_type": "code",
   "execution_count": 184,
   "metadata": {},
   "outputs": [
    {
     "name": "stdout",
     "output_type": "stream",
     "text": [
      "{'_id': ObjectId('5e9ab56dcd498716e893e9da'), 'CustomerID': '0001', 'Genre': 'Male', 'Annual Income (k$)': '15', 'Spending Score (1-100)': '39', 'NewAge': '19'}\n",
      "{'_id': ObjectId('5e9ab56dcd498716e893e9de'), 'CustomerID': '0005', 'Genre': 'Female', 'Annual Income (k$)': '17', 'Spending Score (1-100)': '40', 'NewAge': '31'}\n",
      "{'_id': ObjectId('5e9ab56dcd498716e893e9e0'), 'CustomerID': '0007', 'Genre': 'Female', 'Annual Income (k$)': '18', 'Spending Score (1-100)': '6', 'NewAge': '35'}\n",
      "{'_id': ObjectId('5e9ab56dcd498716e893e9e2'), 'CustomerID': '0009', 'Genre': 'Male', 'Annual Income (k$)': '19', 'Spending Score (1-100)': '3', 'NewAge': '64'}\n",
      "{'_id': ObjectId('5e9ab56dcd498716e893e9e3'), 'CustomerID': '0010', 'Genre': 'Female', 'Annual Income (k$)': '19', 'Spending Score (1-100)': '72', 'NewAge': '30'}\n",
      "{'_id': ObjectId('5e9ab56dcd498716e893e9e4'), 'CustomerID': '0011', 'Genre': 'Male', 'Annual Income (k$)': '19', 'Spending Score (1-100)': '14', 'NewAge': '67'}\n",
      "{'_id': ObjectId('5e9ab56dcd498716e893e9e5'), 'CustomerID': '0012', 'Genre': 'Female', 'Annual Income (k$)': '19', 'Spending Score (1-100)': '99', 'NewAge': '35'}\n",
      "{'_id': ObjectId('5e9ab56dcd498716e893e9e6'), 'CustomerID': '0013', 'Genre': 'Female', 'Annual Income (k$)': '20', 'Spending Score (1-100)': '15', 'NewAge': '58'}\n",
      "{'_id': ObjectId('5e9ab56dcd498716e893e9e8'), 'CustomerID': '0015', 'Genre': 'Male', 'Annual Income (k$)': '20', 'Spending Score (1-100)': '13', 'NewAge': '37'}\n",
      "{'_id': ObjectId('5e9ab56dcd498716e893e9ea'), 'CustomerID': '0017', 'Genre': 'Female', 'Annual Income (k$)': '21', 'Spending Score (1-100)': '35', 'NewAge': '35'}\n"
     ]
    }
   ],
   "source": [
    "for i in tab3.find().limit(10):\n",
    "    print(i)"
   ]
  },
  {
   "cell_type": "code",
   "execution_count": 188,
   "metadata": {},
   "outputs": [
    {
     "ename": "ValueError",
     "evalue": "Invalid file path or buffer object type: <class 'pymongo.cursor.Cursor'>",
     "output_type": "error",
     "traceback": [
      "\u001b[1;31m---------------------------------------------------------------------------\u001b[0m",
      "\u001b[1;31mValueError\u001b[0m                                Traceback (most recent call last)",
      "\u001b[1;32m<ipython-input-188-9b84e11a4540>\u001b[0m in \u001b[0;36m<module>\u001b[1;34m\u001b[0m\n\u001b[0;32m      1\u001b[0m \u001b[1;32mimport\u001b[0m \u001b[0mpandas\u001b[0m \u001b[1;32mas\u001b[0m \u001b[0mpd\u001b[0m\u001b[1;33m\u001b[0m\u001b[1;33m\u001b[0m\u001b[0m\n\u001b[0;32m      2\u001b[0m \u001b[1;33m\u001b[0m\u001b[0m\n\u001b[1;32m----> 3\u001b[1;33m \u001b[0mdf\u001b[0m \u001b[1;33m=\u001b[0m \u001b[0mpd\u001b[0m\u001b[1;33m.\u001b[0m\u001b[0mread_json\u001b[0m\u001b[1;33m(\u001b[0m\u001b[0mdb\u001b[0m\u001b[1;33m[\u001b[0m\u001b[1;34m'Sample1'\u001b[0m\u001b[1;33m]\u001b[0m\u001b[1;33m.\u001b[0m\u001b[0mfind\u001b[0m\u001b[1;33m(\u001b[0m\u001b[1;33m)\u001b[0m\u001b[1;33m)\u001b[0m\u001b[1;33m\u001b[0m\u001b[1;33m\u001b[0m\u001b[0m\n\u001b[0m",
      "\u001b[1;32m~\\Anaconda3\\lib\\site-packages\\pandas\\io\\json\\_json.py\u001b[0m in \u001b[0;36mread_json\u001b[1;34m(path_or_buf, orient, typ, dtype, convert_axes, convert_dates, keep_default_dates, numpy, precise_float, date_unit, encoding, lines, chunksize, compression)\u001b[0m\n\u001b[0;32m    567\u001b[0m     \u001b[0mcompression\u001b[0m \u001b[1;33m=\u001b[0m \u001b[0m_infer_compression\u001b[0m\u001b[1;33m(\u001b[0m\u001b[0mpath_or_buf\u001b[0m\u001b[1;33m,\u001b[0m \u001b[0mcompression\u001b[0m\u001b[1;33m)\u001b[0m\u001b[1;33m\u001b[0m\u001b[1;33m\u001b[0m\u001b[0m\n\u001b[0;32m    568\u001b[0m     filepath_or_buffer, _, compression, should_close = get_filepath_or_buffer(\n\u001b[1;32m--> 569\u001b[1;33m         \u001b[0mpath_or_buf\u001b[0m\u001b[1;33m,\u001b[0m \u001b[0mencoding\u001b[0m\u001b[1;33m=\u001b[0m\u001b[0mencoding\u001b[0m\u001b[1;33m,\u001b[0m \u001b[0mcompression\u001b[0m\u001b[1;33m=\u001b[0m\u001b[0mcompression\u001b[0m\u001b[1;33m\u001b[0m\u001b[1;33m\u001b[0m\u001b[0m\n\u001b[0m\u001b[0;32m    570\u001b[0m     )\n\u001b[0;32m    571\u001b[0m \u001b[1;33m\u001b[0m\u001b[0m\n",
      "\u001b[1;32m~\\Anaconda3\\lib\\site-packages\\pandas\\io\\common.py\u001b[0m in \u001b[0;36mget_filepath_or_buffer\u001b[1;34m(filepath_or_buffer, encoding, compression, mode)\u001b[0m\n\u001b[0;32m    222\u001b[0m     \u001b[1;32mif\u001b[0m \u001b[1;32mnot\u001b[0m \u001b[0mis_file_like\u001b[0m\u001b[1;33m(\u001b[0m\u001b[0mfilepath_or_buffer\u001b[0m\u001b[1;33m)\u001b[0m\u001b[1;33m:\u001b[0m\u001b[1;33m\u001b[0m\u001b[1;33m\u001b[0m\u001b[0m\n\u001b[0;32m    223\u001b[0m         \u001b[0mmsg\u001b[0m \u001b[1;33m=\u001b[0m \u001b[1;34m\"Invalid file path or buffer object type: {_type}\"\u001b[0m\u001b[1;33m\u001b[0m\u001b[1;33m\u001b[0m\u001b[0m\n\u001b[1;32m--> 224\u001b[1;33m         \u001b[1;32mraise\u001b[0m \u001b[0mValueError\u001b[0m\u001b[1;33m(\u001b[0m\u001b[0mmsg\u001b[0m\u001b[1;33m.\u001b[0m\u001b[0mformat\u001b[0m\u001b[1;33m(\u001b[0m\u001b[0m_type\u001b[0m\u001b[1;33m=\u001b[0m\u001b[0mtype\u001b[0m\u001b[1;33m(\u001b[0m\u001b[0mfilepath_or_buffer\u001b[0m\u001b[1;33m)\u001b[0m\u001b[1;33m)\u001b[0m\u001b[1;33m)\u001b[0m\u001b[1;33m\u001b[0m\u001b[1;33m\u001b[0m\u001b[0m\n\u001b[0m\u001b[0;32m    225\u001b[0m \u001b[1;33m\u001b[0m\u001b[0m\n\u001b[0;32m    226\u001b[0m     \u001b[1;32mreturn\u001b[0m \u001b[0mfilepath_or_buffer\u001b[0m\u001b[1;33m,\u001b[0m \u001b[1;32mNone\u001b[0m\u001b[1;33m,\u001b[0m \u001b[0mcompression\u001b[0m\u001b[1;33m,\u001b[0m \u001b[1;32mFalse\u001b[0m\u001b[1;33m\u001b[0m\u001b[1;33m\u001b[0m\u001b[0m\n",
      "\u001b[1;31mValueError\u001b[0m: Invalid file path or buffer object type: <class 'pymongo.cursor.Cursor'>"
     ]
    }
   ],
   "source": [
    "import pandas as pd\n",
    "\n",
    "df = pd.read_json(db['Sample1'].find())"
   ]
  },
  {
   "cell_type": "code",
   "execution_count": null,
   "metadata": {},
   "outputs": [],
   "source": [
    " "
   ]
  },
  {
   "cell_type": "code",
   "execution_count": null,
   "metadata": {},
   "outputs": [],
   "source": []
  }
 ],
 "metadata": {
  "kernelspec": {
   "display_name": "Python 3",
   "language": "python",
   "name": "python3"
  },
  "language_info": {
   "codemirror_mode": {
    "name": "ipython",
    "version": 3
   },
   "file_extension": ".py",
   "mimetype": "text/x-python",
   "name": "python",
   "nbconvert_exporter": "python",
   "pygments_lexer": "ipython3",
   "version": "3.7.4"
  }
 },
 "nbformat": 4,
 "nbformat_minor": 2
}
